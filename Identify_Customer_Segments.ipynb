{
 "cells": [
  {
   "cell_type": "markdown",
   "metadata": {},
   "source": [
    "# Project: Identify Customer Segments\n",
    "\n",
    "In this project, you will apply unsupervised learning techniques to identify segments of the population that form the core customer base for a mail-order sales company in Germany. These segments can then be used to direct marketing campaigns towards audiences that will have the highest expected rate of returns. The data that you will use has been provided by our partners at Bertelsmann Arvato Analytics, and represents a real-life data science task.\n",
    "\n",
    "This notebook will help you complete this task by providing a framework within which you will perform your analysis steps. In each step of the project, you will see some text describing the subtask that you will perform, followed by one or more code cells for you to complete your work. **Feel free to add additional code and markdown cells as you go along so that you can explore everything in precise chunks.** The code cells provided in the base template will outline only the major tasks, and will usually not be enough to cover all of the minor tasks that comprise it.\n",
    "\n",
    "It should be noted that while there will be precise guidelines on how you should handle certain tasks in the project, there will also be places where an exact specification is not provided. **There will be times in the project where you will need to make and justify your own decisions on how to treat the data.** These are places where there may not be only one way to handle the data. In real-life tasks, there may be many valid ways to approach an analysis task. One of the most important things you can do is clearly document your approach so that other scientists can understand the decisions you've made.\n",
    "\n",
    "At the end of most sections, there will be a Markdown cell labeled **Discussion**. In these cells, you will report your findings for the completed section, as well as document the decisions that you made in your approach to each subtask. **Your project will be evaluated not just on the code used to complete the tasks outlined, but also your communication about your observations and conclusions at each stage.**"
   ]
  },
  {
   "cell_type": "code",
   "execution_count": 1,
   "metadata": {},
   "outputs": [
    {
     "data": {
      "text/plain": [
       "'\\nImport note: The classroom currently uses sklearn version 0.19.\\nIf you need to use an imputer, it is available in sklearn.preprocessing.Imputer,\\ninstead of sklearn.impute as in newer versions of sklearn.\\n'"
      ]
     },
     "execution_count": 1,
     "metadata": {},
     "output_type": "execute_result"
    }
   ],
   "source": [
    "# import libraries here; add more as necessary\n",
    "import numpy as np\n",
    "import pandas as pd\n",
    "import matplotlib.pyplot as plt\n",
    "import seaborn as sns\n",
    "import warnings\n",
    "warnings.filterwarnings('ignore')\n",
    "# magic word for producing visualizations in notebook\n",
    "%matplotlib inline\n",
    "\n",
    "'''\n",
    "Import note: The classroom currently uses sklearn version 0.19.\n",
    "If you need to use an imputer, it is available in sklearn.preprocessing.Imputer,\n",
    "instead of sklearn.impute as in newer versions of sklearn.\n",
    "'''"
   ]
  },
  {
   "cell_type": "code",
   "execution_count": 2,
   "metadata": {},
   "outputs": [],
   "source": [
    "# Load in the general demographics data.\n",
    "azdias = pd.read_csv(\"Udacity_AZDIAS_Subset.csv\",sep=';')\n",
    "\n",
    "# Load in the feature summary file.\n",
    "feat_info = pd.read_csv('AZDIAS_Feature_Summary.csv',sep=';')"
   ]
  },
  {
   "cell_type": "markdown",
   "metadata": {},
   "source": [
    "#### azdias datase: Demographic data for the general population of Germany"
   ]
  },
  {
   "cell_type": "code",
   "execution_count": 3,
   "metadata": {},
   "outputs": [
    {
     "name": "stdout",
     "output_type": "stream",
     "text": [
      "Number of rows is 891221\n",
      "Number of columns is 85\n"
     ]
    },
    {
     "data": {
      "text/html": [
       "<div>\n",
       "<style scoped>\n",
       "    .dataframe tbody tr th:only-of-type {\n",
       "        vertical-align: middle;\n",
       "    }\n",
       "\n",
       "    .dataframe tbody tr th {\n",
       "        vertical-align: top;\n",
       "    }\n",
       "\n",
       "    .dataframe thead th {\n",
       "        text-align: right;\n",
       "    }\n",
       "</style>\n",
       "<table border=\"1\" class=\"dataframe\">\n",
       "  <thead>\n",
       "    <tr style=\"text-align: right;\">\n",
       "      <th></th>\n",
       "      <th>AGER_TYP</th>\n",
       "      <th>ALTERSKATEGORIE_GROB</th>\n",
       "      <th>ANREDE_KZ</th>\n",
       "      <th>CJT_GESAMTTYP</th>\n",
       "      <th>FINANZ_MINIMALIST</th>\n",
       "      <th>FINANZ_SPARER</th>\n",
       "      <th>FINANZ_VORSORGER</th>\n",
       "      <th>FINANZ_ANLEGER</th>\n",
       "      <th>FINANZ_UNAUFFAELLIGER</th>\n",
       "      <th>FINANZ_HAUSBAUER</th>\n",
       "      <th>...</th>\n",
       "      <th>PLZ8_ANTG1</th>\n",
       "      <th>PLZ8_ANTG2</th>\n",
       "      <th>PLZ8_ANTG3</th>\n",
       "      <th>PLZ8_ANTG4</th>\n",
       "      <th>PLZ8_BAUMAX</th>\n",
       "      <th>PLZ8_HHZ</th>\n",
       "      <th>PLZ8_GBZ</th>\n",
       "      <th>ARBEIT</th>\n",
       "      <th>ORTSGR_KLS9</th>\n",
       "      <th>RELAT_AB</th>\n",
       "    </tr>\n",
       "  </thead>\n",
       "  <tbody>\n",
       "    <tr>\n",
       "      <th>0</th>\n",
       "      <td>-1</td>\n",
       "      <td>2</td>\n",
       "      <td>1</td>\n",
       "      <td>2.0</td>\n",
       "      <td>3</td>\n",
       "      <td>4</td>\n",
       "      <td>3</td>\n",
       "      <td>5</td>\n",
       "      <td>5</td>\n",
       "      <td>3</td>\n",
       "      <td>...</td>\n",
       "      <td>NaN</td>\n",
       "      <td>NaN</td>\n",
       "      <td>NaN</td>\n",
       "      <td>NaN</td>\n",
       "      <td>NaN</td>\n",
       "      <td>NaN</td>\n",
       "      <td>NaN</td>\n",
       "      <td>NaN</td>\n",
       "      <td>NaN</td>\n",
       "      <td>NaN</td>\n",
       "    </tr>\n",
       "    <tr>\n",
       "      <th>1</th>\n",
       "      <td>-1</td>\n",
       "      <td>1</td>\n",
       "      <td>2</td>\n",
       "      <td>5.0</td>\n",
       "      <td>1</td>\n",
       "      <td>5</td>\n",
       "      <td>2</td>\n",
       "      <td>5</td>\n",
       "      <td>4</td>\n",
       "      <td>5</td>\n",
       "      <td>...</td>\n",
       "      <td>2.0</td>\n",
       "      <td>3.0</td>\n",
       "      <td>2.0</td>\n",
       "      <td>1.0</td>\n",
       "      <td>1.0</td>\n",
       "      <td>5.0</td>\n",
       "      <td>4.0</td>\n",
       "      <td>3.0</td>\n",
       "      <td>5.0</td>\n",
       "      <td>4.0</td>\n",
       "    </tr>\n",
       "    <tr>\n",
       "      <th>2</th>\n",
       "      <td>-1</td>\n",
       "      <td>3</td>\n",
       "      <td>2</td>\n",
       "      <td>3.0</td>\n",
       "      <td>1</td>\n",
       "      <td>4</td>\n",
       "      <td>1</td>\n",
       "      <td>2</td>\n",
       "      <td>3</td>\n",
       "      <td>5</td>\n",
       "      <td>...</td>\n",
       "      <td>3.0</td>\n",
       "      <td>3.0</td>\n",
       "      <td>1.0</td>\n",
       "      <td>0.0</td>\n",
       "      <td>1.0</td>\n",
       "      <td>4.0</td>\n",
       "      <td>4.0</td>\n",
       "      <td>3.0</td>\n",
       "      <td>5.0</td>\n",
       "      <td>2.0</td>\n",
       "    </tr>\n",
       "    <tr>\n",
       "      <th>3</th>\n",
       "      <td>2</td>\n",
       "      <td>4</td>\n",
       "      <td>2</td>\n",
       "      <td>2.0</td>\n",
       "      <td>4</td>\n",
       "      <td>2</td>\n",
       "      <td>5</td>\n",
       "      <td>2</td>\n",
       "      <td>1</td>\n",
       "      <td>2</td>\n",
       "      <td>...</td>\n",
       "      <td>2.0</td>\n",
       "      <td>2.0</td>\n",
       "      <td>2.0</td>\n",
       "      <td>0.0</td>\n",
       "      <td>1.0</td>\n",
       "      <td>3.0</td>\n",
       "      <td>4.0</td>\n",
       "      <td>2.0</td>\n",
       "      <td>3.0</td>\n",
       "      <td>3.0</td>\n",
       "    </tr>\n",
       "    <tr>\n",
       "      <th>4</th>\n",
       "      <td>-1</td>\n",
       "      <td>3</td>\n",
       "      <td>1</td>\n",
       "      <td>5.0</td>\n",
       "      <td>4</td>\n",
       "      <td>3</td>\n",
       "      <td>4</td>\n",
       "      <td>1</td>\n",
       "      <td>3</td>\n",
       "      <td>2</td>\n",
       "      <td>...</td>\n",
       "      <td>2.0</td>\n",
       "      <td>4.0</td>\n",
       "      <td>2.0</td>\n",
       "      <td>1.0</td>\n",
       "      <td>2.0</td>\n",
       "      <td>3.0</td>\n",
       "      <td>3.0</td>\n",
       "      <td>4.0</td>\n",
       "      <td>6.0</td>\n",
       "      <td>5.0</td>\n",
       "    </tr>\n",
       "  </tbody>\n",
       "</table>\n",
       "<p>5 rows × 85 columns</p>\n",
       "</div>"
      ],
      "text/plain": [
       "   AGER_TYP  ALTERSKATEGORIE_GROB  ANREDE_KZ  CJT_GESAMTTYP  \\\n",
       "0        -1                     2          1            2.0   \n",
       "1        -1                     1          2            5.0   \n",
       "2        -1                     3          2            3.0   \n",
       "3         2                     4          2            2.0   \n",
       "4        -1                     3          1            5.0   \n",
       "\n",
       "   FINANZ_MINIMALIST  FINANZ_SPARER  FINANZ_VORSORGER  FINANZ_ANLEGER  \\\n",
       "0                  3              4                 3               5   \n",
       "1                  1              5                 2               5   \n",
       "2                  1              4                 1               2   \n",
       "3                  4              2                 5               2   \n",
       "4                  4              3                 4               1   \n",
       "\n",
       "   FINANZ_UNAUFFAELLIGER  FINANZ_HAUSBAUER  ...  PLZ8_ANTG1  PLZ8_ANTG2  \\\n",
       "0                      5                 3  ...         NaN         NaN   \n",
       "1                      4                 5  ...         2.0         3.0   \n",
       "2                      3                 5  ...         3.0         3.0   \n",
       "3                      1                 2  ...         2.0         2.0   \n",
       "4                      3                 2  ...         2.0         4.0   \n",
       "\n",
       "   PLZ8_ANTG3  PLZ8_ANTG4  PLZ8_BAUMAX  PLZ8_HHZ  PLZ8_GBZ  ARBEIT  \\\n",
       "0         NaN         NaN          NaN       NaN       NaN     NaN   \n",
       "1         2.0         1.0          1.0       5.0       4.0     3.0   \n",
       "2         1.0         0.0          1.0       4.0       4.0     3.0   \n",
       "3         2.0         0.0          1.0       3.0       4.0     2.0   \n",
       "4         2.0         1.0          2.0       3.0       3.0     4.0   \n",
       "\n",
       "   ORTSGR_KLS9  RELAT_AB  \n",
       "0          NaN       NaN  \n",
       "1          5.0       4.0  \n",
       "2          5.0       2.0  \n",
       "3          3.0       3.0  \n",
       "4          6.0       5.0  \n",
       "\n",
       "[5 rows x 85 columns]"
      ]
     },
     "execution_count": 3,
     "metadata": {},
     "output_type": "execute_result"
    }
   ],
   "source": [
    "# Check the structure of the data after it's loaded \n",
    "#(e.g. print the number of rows and columns, print the first few rows).\n",
    "num_of_rows=len(azdias)\n",
    "num_of_columns=len(azdias.columns)\n",
    "print('Number of rows is',num_of_rows)\n",
    "print('Number of columns is',num_of_columns)\n",
    "azdias.head(5)"
   ]
  },
  {
   "cell_type": "code",
   "execution_count": 4,
   "metadata": {},
   "outputs": [
    {
     "name": "stdout",
     "output_type": "stream",
     "text": [
      "<class 'pandas.core.frame.DataFrame'>\n",
      "RangeIndex: 891221 entries, 0 to 891220\n",
      "Data columns (total 85 columns):\n",
      " #   Column                 Non-Null Count   Dtype  \n",
      "---  ------                 --------------   -----  \n",
      " 0   AGER_TYP               891221 non-null  int64  \n",
      " 1   ALTERSKATEGORIE_GROB   891221 non-null  int64  \n",
      " 2   ANREDE_KZ              891221 non-null  int64  \n",
      " 3   CJT_GESAMTTYP          886367 non-null  float64\n",
      " 4   FINANZ_MINIMALIST      891221 non-null  int64  \n",
      " 5   FINANZ_SPARER          891221 non-null  int64  \n",
      " 6   FINANZ_VORSORGER       891221 non-null  int64  \n",
      " 7   FINANZ_ANLEGER         891221 non-null  int64  \n",
      " 8   FINANZ_UNAUFFAELLIGER  891221 non-null  int64  \n",
      " 9   FINANZ_HAUSBAUER       891221 non-null  int64  \n",
      " 10  FINANZTYP              891221 non-null  int64  \n",
      " 11  GEBURTSJAHR            891221 non-null  int64  \n",
      " 12  GFK_URLAUBERTYP        886367 non-null  float64\n",
      " 13  GREEN_AVANTGARDE       891221 non-null  int64  \n",
      " 14  HEALTH_TYP             891221 non-null  int64  \n",
      " 15  LP_LEBENSPHASE_FEIN    886367 non-null  float64\n",
      " 16  LP_LEBENSPHASE_GROB    886367 non-null  float64\n",
      " 17  LP_FAMILIE_FEIN        886367 non-null  float64\n",
      " 18  LP_FAMILIE_GROB        886367 non-null  float64\n",
      " 19  LP_STATUS_FEIN         886367 non-null  float64\n",
      " 20  LP_STATUS_GROB         886367 non-null  float64\n",
      " 21  NATIONALITAET_KZ       891221 non-null  int64  \n",
      " 22  PRAEGENDE_JUGENDJAHRE  891221 non-null  int64  \n",
      " 23  RETOURTYP_BK_S         886367 non-null  float64\n",
      " 24  SEMIO_SOZ              891221 non-null  int64  \n",
      " 25  SEMIO_FAM              891221 non-null  int64  \n",
      " 26  SEMIO_REL              891221 non-null  int64  \n",
      " 27  SEMIO_MAT              891221 non-null  int64  \n",
      " 28  SEMIO_VERT             891221 non-null  int64  \n",
      " 29  SEMIO_LUST             891221 non-null  int64  \n",
      " 30  SEMIO_ERL              891221 non-null  int64  \n",
      " 31  SEMIO_KULT             891221 non-null  int64  \n",
      " 32  SEMIO_RAT              891221 non-null  int64  \n",
      " 33  SEMIO_KRIT             891221 non-null  int64  \n",
      " 34  SEMIO_DOM              891221 non-null  int64  \n",
      " 35  SEMIO_KAEM             891221 non-null  int64  \n",
      " 36  SEMIO_PFLICHT          891221 non-null  int64  \n",
      " 37  SEMIO_TRADV            891221 non-null  int64  \n",
      " 38  SHOPPER_TYP            891221 non-null  int64  \n",
      " 39  SOHO_KZ                817722 non-null  float64\n",
      " 40  TITEL_KZ               817722 non-null  float64\n",
      " 41  VERS_TYP               891221 non-null  int64  \n",
      " 42  ZABEOTYP               891221 non-null  int64  \n",
      " 43  ALTER_HH               817722 non-null  float64\n",
      " 44  ANZ_PERSONEN           817722 non-null  float64\n",
      " 45  ANZ_TITEL              817722 non-null  float64\n",
      " 46  HH_EINKOMMEN_SCORE     872873 non-null  float64\n",
      " 47  KK_KUNDENTYP           306609 non-null  float64\n",
      " 48  W_KEIT_KIND_HH         783619 non-null  float64\n",
      " 49  WOHNDAUER_2008         817722 non-null  float64\n",
      " 50  ANZ_HAUSHALTE_AKTIV    798073 non-null  float64\n",
      " 51  ANZ_HH_TITEL           794213 non-null  float64\n",
      " 52  GEBAEUDETYP            798073 non-null  float64\n",
      " 53  KONSUMNAEHE            817252 non-null  float64\n",
      " 54  MIN_GEBAEUDEJAHR       798073 non-null  float64\n",
      " 55  OST_WEST_KZ            798073 non-null  object \n",
      " 56  WOHNLAGE               798073 non-null  float64\n",
      " 57  CAMEO_DEUG_2015        792242 non-null  object \n",
      " 58  CAMEO_DEU_2015         792242 non-null  object \n",
      " 59  CAMEO_INTL_2015        792242 non-null  object \n",
      " 60  KBA05_ANTG1            757897 non-null  float64\n",
      " 61  KBA05_ANTG2            757897 non-null  float64\n",
      " 62  KBA05_ANTG3            757897 non-null  float64\n",
      " 63  KBA05_ANTG4            757897 non-null  float64\n",
      " 64  KBA05_BAUMAX           757897 non-null  float64\n",
      " 65  KBA05_GBZ              757897 non-null  float64\n",
      " 66  BALLRAUM               797481 non-null  float64\n",
      " 67  EWDICHTE               797481 non-null  float64\n",
      " 68  INNENSTADT             797481 non-null  float64\n",
      " 69  GEBAEUDETYP_RASTER     798066 non-null  float64\n",
      " 70  KKK                    770025 non-null  float64\n",
      " 71  MOBI_REGIO             757897 non-null  float64\n",
      " 72  ONLINE_AFFINITAET      886367 non-null  float64\n",
      " 73  REGIOTYP               770025 non-null  float64\n",
      " 74  KBA13_ANZAHL_PKW       785421 non-null  float64\n",
      " 75  PLZ8_ANTG1             774706 non-null  float64\n",
      " 76  PLZ8_ANTG2             774706 non-null  float64\n",
      " 77  PLZ8_ANTG3             774706 non-null  float64\n",
      " 78  PLZ8_ANTG4             774706 non-null  float64\n",
      " 79  PLZ8_BAUMAX            774706 non-null  float64\n",
      " 80  PLZ8_HHZ               774706 non-null  float64\n",
      " 81  PLZ8_GBZ               774706 non-null  float64\n",
      " 82  ARBEIT                 794005 non-null  float64\n",
      " 83  ORTSGR_KLS9            794005 non-null  float64\n",
      " 84  RELAT_AB               794005 non-null  float64\n",
      "dtypes: float64(49), int64(32), object(4)\n",
      "memory usage: 578.0+ MB\n"
     ]
    }
   ],
   "source": [
    "azdias.info()"
   ]
  },
  {
   "cell_type": "code",
   "execution_count": 5,
   "metadata": {
    "scrolled": true
   },
   "outputs": [
    {
     "data": {
      "text/html": [
       "<div>\n",
       "<style scoped>\n",
       "    .dataframe tbody tr th:only-of-type {\n",
       "        vertical-align: middle;\n",
       "    }\n",
       "\n",
       "    .dataframe tbody tr th {\n",
       "        vertical-align: top;\n",
       "    }\n",
       "\n",
       "    .dataframe thead th {\n",
       "        text-align: right;\n",
       "    }\n",
       "</style>\n",
       "<table border=\"1\" class=\"dataframe\">\n",
       "  <thead>\n",
       "    <tr style=\"text-align: right;\">\n",
       "      <th></th>\n",
       "      <th>AGER_TYP</th>\n",
       "      <th>ALTERSKATEGORIE_GROB</th>\n",
       "      <th>ANREDE_KZ</th>\n",
       "      <th>CJT_GESAMTTYP</th>\n",
       "      <th>FINANZ_MINIMALIST</th>\n",
       "      <th>FINANZ_SPARER</th>\n",
       "      <th>FINANZ_VORSORGER</th>\n",
       "      <th>FINANZ_ANLEGER</th>\n",
       "      <th>FINANZ_UNAUFFAELLIGER</th>\n",
       "      <th>FINANZ_HAUSBAUER</th>\n",
       "      <th>...</th>\n",
       "      <th>PLZ8_ANTG1</th>\n",
       "      <th>PLZ8_ANTG2</th>\n",
       "      <th>PLZ8_ANTG3</th>\n",
       "      <th>PLZ8_ANTG4</th>\n",
       "      <th>PLZ8_BAUMAX</th>\n",
       "      <th>PLZ8_HHZ</th>\n",
       "      <th>PLZ8_GBZ</th>\n",
       "      <th>ARBEIT</th>\n",
       "      <th>ORTSGR_KLS9</th>\n",
       "      <th>RELAT_AB</th>\n",
       "    </tr>\n",
       "  </thead>\n",
       "  <tbody>\n",
       "    <tr>\n",
       "      <th>count</th>\n",
       "      <td>891221.000000</td>\n",
       "      <td>891221.000000</td>\n",
       "      <td>891221.000000</td>\n",
       "      <td>886367.000000</td>\n",
       "      <td>891221.000000</td>\n",
       "      <td>891221.000000</td>\n",
       "      <td>891221.000000</td>\n",
       "      <td>891221.000000</td>\n",
       "      <td>891221.000000</td>\n",
       "      <td>891221.000000</td>\n",
       "      <td>...</td>\n",
       "      <td>774706.000000</td>\n",
       "      <td>774706.000000</td>\n",
       "      <td>774706.000000</td>\n",
       "      <td>774706.000000</td>\n",
       "      <td>774706.000000</td>\n",
       "      <td>774706.000000</td>\n",
       "      <td>774706.000000</td>\n",
       "      <td>794005.000000</td>\n",
       "      <td>794005.000000</td>\n",
       "      <td>794005.00000</td>\n",
       "    </tr>\n",
       "    <tr>\n",
       "      <th>mean</th>\n",
       "      <td>-0.358435</td>\n",
       "      <td>2.777398</td>\n",
       "      <td>1.522098</td>\n",
       "      <td>3.632838</td>\n",
       "      <td>3.074528</td>\n",
       "      <td>2.821039</td>\n",
       "      <td>3.401106</td>\n",
       "      <td>3.033328</td>\n",
       "      <td>2.874167</td>\n",
       "      <td>3.075121</td>\n",
       "      <td>...</td>\n",
       "      <td>2.253330</td>\n",
       "      <td>2.801858</td>\n",
       "      <td>1.595426</td>\n",
       "      <td>0.699166</td>\n",
       "      <td>1.943913</td>\n",
       "      <td>3.612821</td>\n",
       "      <td>3.381087</td>\n",
       "      <td>3.167854</td>\n",
       "      <td>5.293002</td>\n",
       "      <td>3.07222</td>\n",
       "    </tr>\n",
       "    <tr>\n",
       "      <th>std</th>\n",
       "      <td>1.198724</td>\n",
       "      <td>1.068775</td>\n",
       "      <td>0.499512</td>\n",
       "      <td>1.595021</td>\n",
       "      <td>1.321055</td>\n",
       "      <td>1.464749</td>\n",
       "      <td>1.322134</td>\n",
       "      <td>1.529603</td>\n",
       "      <td>1.486731</td>\n",
       "      <td>1.353248</td>\n",
       "      <td>...</td>\n",
       "      <td>0.972008</td>\n",
       "      <td>0.920309</td>\n",
       "      <td>0.986736</td>\n",
       "      <td>0.727137</td>\n",
       "      <td>1.459654</td>\n",
       "      <td>0.973967</td>\n",
       "      <td>1.111598</td>\n",
       "      <td>1.002376</td>\n",
       "      <td>2.303739</td>\n",
       "      <td>1.36298</td>\n",
       "    </tr>\n",
       "    <tr>\n",
       "      <th>min</th>\n",
       "      <td>-1.000000</td>\n",
       "      <td>1.000000</td>\n",
       "      <td>1.000000</td>\n",
       "      <td>1.000000</td>\n",
       "      <td>1.000000</td>\n",
       "      <td>1.000000</td>\n",
       "      <td>1.000000</td>\n",
       "      <td>1.000000</td>\n",
       "      <td>1.000000</td>\n",
       "      <td>1.000000</td>\n",
       "      <td>...</td>\n",
       "      <td>0.000000</td>\n",
       "      <td>0.000000</td>\n",
       "      <td>0.000000</td>\n",
       "      <td>0.000000</td>\n",
       "      <td>1.000000</td>\n",
       "      <td>1.000000</td>\n",
       "      <td>1.000000</td>\n",
       "      <td>1.000000</td>\n",
       "      <td>0.000000</td>\n",
       "      <td>1.00000</td>\n",
       "    </tr>\n",
       "    <tr>\n",
       "      <th>25%</th>\n",
       "      <td>-1.000000</td>\n",
       "      <td>2.000000</td>\n",
       "      <td>1.000000</td>\n",
       "      <td>2.000000</td>\n",
       "      <td>2.000000</td>\n",
       "      <td>1.000000</td>\n",
       "      <td>3.000000</td>\n",
       "      <td>2.000000</td>\n",
       "      <td>2.000000</td>\n",
       "      <td>2.000000</td>\n",
       "      <td>...</td>\n",
       "      <td>1.000000</td>\n",
       "      <td>2.000000</td>\n",
       "      <td>1.000000</td>\n",
       "      <td>0.000000</td>\n",
       "      <td>1.000000</td>\n",
       "      <td>3.000000</td>\n",
       "      <td>3.000000</td>\n",
       "      <td>3.000000</td>\n",
       "      <td>4.000000</td>\n",
       "      <td>2.00000</td>\n",
       "    </tr>\n",
       "    <tr>\n",
       "      <th>50%</th>\n",
       "      <td>-1.000000</td>\n",
       "      <td>3.000000</td>\n",
       "      <td>2.000000</td>\n",
       "      <td>4.000000</td>\n",
       "      <td>3.000000</td>\n",
       "      <td>3.000000</td>\n",
       "      <td>3.000000</td>\n",
       "      <td>3.000000</td>\n",
       "      <td>3.000000</td>\n",
       "      <td>3.000000</td>\n",
       "      <td>...</td>\n",
       "      <td>2.000000</td>\n",
       "      <td>3.000000</td>\n",
       "      <td>2.000000</td>\n",
       "      <td>1.000000</td>\n",
       "      <td>1.000000</td>\n",
       "      <td>4.000000</td>\n",
       "      <td>3.000000</td>\n",
       "      <td>3.000000</td>\n",
       "      <td>5.000000</td>\n",
       "      <td>3.00000</td>\n",
       "    </tr>\n",
       "    <tr>\n",
       "      <th>75%</th>\n",
       "      <td>-1.000000</td>\n",
       "      <td>4.000000</td>\n",
       "      <td>2.000000</td>\n",
       "      <td>5.000000</td>\n",
       "      <td>4.000000</td>\n",
       "      <td>4.000000</td>\n",
       "      <td>5.000000</td>\n",
       "      <td>5.000000</td>\n",
       "      <td>4.000000</td>\n",
       "      <td>4.000000</td>\n",
       "      <td>...</td>\n",
       "      <td>3.000000</td>\n",
       "      <td>3.000000</td>\n",
       "      <td>2.000000</td>\n",
       "      <td>1.000000</td>\n",
       "      <td>3.000000</td>\n",
       "      <td>4.000000</td>\n",
       "      <td>4.000000</td>\n",
       "      <td>4.000000</td>\n",
       "      <td>7.000000</td>\n",
       "      <td>4.00000</td>\n",
       "    </tr>\n",
       "    <tr>\n",
       "      <th>max</th>\n",
       "      <td>3.000000</td>\n",
       "      <td>9.000000</td>\n",
       "      <td>2.000000</td>\n",
       "      <td>6.000000</td>\n",
       "      <td>5.000000</td>\n",
       "      <td>5.000000</td>\n",
       "      <td>5.000000</td>\n",
       "      <td>5.000000</td>\n",
       "      <td>5.000000</td>\n",
       "      <td>5.000000</td>\n",
       "      <td>...</td>\n",
       "      <td>4.000000</td>\n",
       "      <td>4.000000</td>\n",
       "      <td>3.000000</td>\n",
       "      <td>2.000000</td>\n",
       "      <td>5.000000</td>\n",
       "      <td>5.000000</td>\n",
       "      <td>5.000000</td>\n",
       "      <td>9.000000</td>\n",
       "      <td>9.000000</td>\n",
       "      <td>9.00000</td>\n",
       "    </tr>\n",
       "  </tbody>\n",
       "</table>\n",
       "<p>8 rows × 81 columns</p>\n",
       "</div>"
      ],
      "text/plain": [
       "            AGER_TYP  ALTERSKATEGORIE_GROB      ANREDE_KZ  CJT_GESAMTTYP  \\\n",
       "count  891221.000000         891221.000000  891221.000000  886367.000000   \n",
       "mean       -0.358435              2.777398       1.522098       3.632838   \n",
       "std         1.198724              1.068775       0.499512       1.595021   \n",
       "min        -1.000000              1.000000       1.000000       1.000000   \n",
       "25%        -1.000000              2.000000       1.000000       2.000000   \n",
       "50%        -1.000000              3.000000       2.000000       4.000000   \n",
       "75%        -1.000000              4.000000       2.000000       5.000000   \n",
       "max         3.000000              9.000000       2.000000       6.000000   \n",
       "\n",
       "       FINANZ_MINIMALIST  FINANZ_SPARER  FINANZ_VORSORGER  FINANZ_ANLEGER  \\\n",
       "count      891221.000000  891221.000000     891221.000000   891221.000000   \n",
       "mean            3.074528       2.821039          3.401106        3.033328   \n",
       "std             1.321055       1.464749          1.322134        1.529603   \n",
       "min             1.000000       1.000000          1.000000        1.000000   \n",
       "25%             2.000000       1.000000          3.000000        2.000000   \n",
       "50%             3.000000       3.000000          3.000000        3.000000   \n",
       "75%             4.000000       4.000000          5.000000        5.000000   \n",
       "max             5.000000       5.000000          5.000000        5.000000   \n",
       "\n",
       "       FINANZ_UNAUFFAELLIGER  FINANZ_HAUSBAUER  ...     PLZ8_ANTG1  \\\n",
       "count          891221.000000     891221.000000  ...  774706.000000   \n",
       "mean                2.874167          3.075121  ...       2.253330   \n",
       "std                 1.486731          1.353248  ...       0.972008   \n",
       "min                 1.000000          1.000000  ...       0.000000   \n",
       "25%                 2.000000          2.000000  ...       1.000000   \n",
       "50%                 3.000000          3.000000  ...       2.000000   \n",
       "75%                 4.000000          4.000000  ...       3.000000   \n",
       "max                 5.000000          5.000000  ...       4.000000   \n",
       "\n",
       "          PLZ8_ANTG2     PLZ8_ANTG3     PLZ8_ANTG4    PLZ8_BAUMAX  \\\n",
       "count  774706.000000  774706.000000  774706.000000  774706.000000   \n",
       "mean        2.801858       1.595426       0.699166       1.943913   \n",
       "std         0.920309       0.986736       0.727137       1.459654   \n",
       "min         0.000000       0.000000       0.000000       1.000000   \n",
       "25%         2.000000       1.000000       0.000000       1.000000   \n",
       "50%         3.000000       2.000000       1.000000       1.000000   \n",
       "75%         3.000000       2.000000       1.000000       3.000000   \n",
       "max         4.000000       3.000000       2.000000       5.000000   \n",
       "\n",
       "            PLZ8_HHZ       PLZ8_GBZ         ARBEIT    ORTSGR_KLS9  \\\n",
       "count  774706.000000  774706.000000  794005.000000  794005.000000   \n",
       "mean        3.612821       3.381087       3.167854       5.293002   \n",
       "std         0.973967       1.111598       1.002376       2.303739   \n",
       "min         1.000000       1.000000       1.000000       0.000000   \n",
       "25%         3.000000       3.000000       3.000000       4.000000   \n",
       "50%         4.000000       3.000000       3.000000       5.000000   \n",
       "75%         4.000000       4.000000       4.000000       7.000000   \n",
       "max         5.000000       5.000000       9.000000       9.000000   \n",
       "\n",
       "           RELAT_AB  \n",
       "count  794005.00000  \n",
       "mean        3.07222  \n",
       "std         1.36298  \n",
       "min         1.00000  \n",
       "25%         2.00000  \n",
       "50%         3.00000  \n",
       "75%         4.00000  \n",
       "max         9.00000  \n",
       "\n",
       "[8 rows x 81 columns]"
      ]
     },
     "execution_count": 5,
     "metadata": {},
     "output_type": "execute_result"
    }
   ],
   "source": [
    "azdias.describe()"
   ]
  },
  {
   "cell_type": "code",
   "execution_count": 6,
   "metadata": {},
   "outputs": [
    {
     "data": {
      "text/markdown": [
       "# Data Dictionary for Identify Customer Segments Data\n",
       "\n",
       "## Introduction\n",
       "\n",
       "The data for this project consist of two files:\n",
       "\n",
       "- Udacity_AZDIAS_Subset.csv: demographics data for the general population of\n",
       "      Germany; 891211 persons (rows) x 85 features (columns)\n",
       "- Udacity_CUSTOMERS_Subset.csv: demographics data for customers of a mail-order\n",
       "      company; 191652 persons (rows) x 85 features (columns)\n",
       "\n",
       "The columns in the general demographics file and customers data file are the\n",
       "same. This file documents the features that appear in the data files, sorted in\n",
       "order of appearance. Sections of this file is based on the level of measurement\n",
       "of each feature. The file \"AZDIAS_Feature_Summary.csv\" contains a summary of\n",
       "feature attributes, including information level, data type, and codes for\n",
       "missing or unknown values.\n",
       "\n",
       "### Table of Contents\n",
       "\n",
       " 1. Person-level features\n",
       " 2. Household-level features\n",
       " 3. Building-level features\n",
       " 4. RR4 micro-cell features\n",
       " 5. RR3 micro-cell features\n",
       " 6. Postcode-level features\n",
       " 7. RR1 neighborhood features\n",
       " 8. PLZ8 macro-cell features\n",
       " 9. Community-level features\n",
       "\n",
       "-----\n",
       "\n",
       "## 1. Person-level features\n",
       "\n",
       "### 1.1. AGER_TYP\n",
       "Best-ager typology\n",
       "- -1: unknown\n",
       "-  0: no classification possible\n",
       "-  1: passive elderly\n",
       "-  2: cultural elderly\n",
       "-  3: experience-driven elderly\n",
       "\n",
       "### 1.2. ALTERSKATEGORIE_GROB\n",
       "Estimated age based on given name analysis\n",
       "- -1: unknown (missing)\n",
       "-  0: unknown (cannot be determined)\n",
       "-  1: < 30 years old\n",
       "-  2: 30 - 45 years old\n",
       "-  3: 46 - 60 years old\n",
       "-  4: > 60 years old\n",
       "-  9: uniformly distributed\n",
       "\n",
       "### 1.3. ANREDE_KZ\n",
       "Gender\n",
       "- -1: unknown (missing)\n",
       "-  0: unknown (cannot be determined)\n",
       "-  1: male\n",
       "-  2: female\n",
       "\n",
       "### 1.4. CJT_GESAMTTYP\n",
       "Customer-Journey-Typology: preferred information and buying channels for\n",
       "consumer\n",
       "- 0: unknown\n",
       "- 1: Advertising- and Consumptionminimalist\n",
       "- 2: Advertising- and Consumptiontraditionalist\n",
       "- 3: advertisinginterested Store-shopper\n",
       "- 4: advertisinginterested Online-shopper\n",
       "- 5: Advertising- and Cross-Channel-Enthusiast\n",
       "- 6: Advertising-Enthusiast with restricted Cross-Channel-Behaviour\n",
       "\n",
       "### 1.5. FINANZ_MINIMALIST, FINANZ_SPARER, FINANZ_VORSORGER, FINANZ_ANLEGER,\n",
       "###      FINANZ_UNAUFFAELLIGER, FINANZ_HAUSBAUER\n",
       "Financial typology, for each dimension:\n",
       "- -1: unknown\n",
       "-  1: very high\n",
       "-  2: high\n",
       "-  3: average\n",
       "-  4: low\n",
       "-  5: very low\n",
       "\n",
       "Dimension translations:\n",
       "- MINIMALIST: low financial interest\n",
       "- SPARER: money-saver\n",
       "- VORSORGER: be prepared\n",
       "- ANLEGER: investor\n",
       "- UNAUFFAELLIGER: inconspicuous\n",
       "- HAUSBAUER: home ownership\n",
       "\n",
       "### 1.6. FINANZTYP\n",
       "Most descriptive financial type for individual\n",
       "- -1: unknown\n",
       "-  1: low financial interest (MINIMALIST)\n",
       "-  2: money-saver (SPARER)\n",
       "-  3: home ownership (HAUSBAUER)\n",
       "-  4: be prepared (VORSORGER)\n",
       "-  5: investor (ANLEGER)\n",
       "-  6: inconspicuous (UNAUFFAELLIGER)\n",
       "\n",
       "### 1.7. GEBURTSJAHR\n",
       "Year of birth\n",
       "- missing data encoded as 0\n",
       "\n",
       "### 1.8. GFK_URLAUBERTYP\n",
       "Vacation habits\n",
       "-  1: Event travelers\n",
       "-  2: Family-oriented vacationists\n",
       "-  3: Winter sportspeople\n",
       "-  4: Culture lovers\n",
       "-  5: Nature fans\n",
       "-  6: Hiker\n",
       "-  7: Golden ager\n",
       "-  8: Homeland-connected vacationists\n",
       "-  9: Package tour travelers\n",
       "- 10: Connoisseurs\n",
       "- 11: Active families\n",
       "- 12: Without vacation\n",
       "\n",
       "### 1.9. GREEN_AVANTGARDE\n",
       "Membership in environmental sustainability as part of youth\n",
       "- 0: not a member of green avantgarde\n",
       "- 1: member of green avantgarde\n",
       "\n",
       "### 1.10. HEALTH_TYP\n",
       "Health typology\n",
       "- -1: unknown\n",
       "-  0: classification not possible\n",
       "-  1: critical reserved\n",
       "-  2: sanitary affine  \n",
       "-  3: jaunty hedonists\n",
       "\n",
       "### 1.11. LP_LEBENSPHASE_FEIN\n",
       "Life stage, fine scale\n",
       "-  1: single low-income earners of younger age\n",
       "-  2: single low-income earners of middle age\n",
       "-  3: single average earners of younger age\n",
       "-  4: single average earners of middle age\n",
       "-  5: single low-income earners of advanced age\n",
       "-  6: single low-income earners at retirement age\n",
       "-  7: single average earners of advanced age\n",
       "-  8: single average earners at retirement age\n",
       "-  9: single independent persons\n",
       "- 10: wealthy single homeowners\n",
       "- 11: single homeowners of advanced age\n",
       "- 12: single homeowners at retirement age\n",
       "- 13: single top earners of higher age\n",
       "- 14: low-income and average earner couples of younger age\n",
       "- 15: low-income earner couples of higher age\n",
       "- 16: average earner couples of higher age\n",
       "- 17: independent couples\n",
       "- 18: wealthy homeowner couples of younger age\n",
       "- 19: homeowner couples of higher age\n",
       "- 20: top earner couples of higher age\n",
       "- 21: single parent low-income earners\n",
       "- 22: single parent average earners\n",
       "- 23: single parent high-income earners\n",
       "- 24: low-income earner families\n",
       "- 25: average earner families\n",
       "- 26: independent families\n",
       "- 27: homeowner families\n",
       "- 28: top earner families\n",
       "- 29: low-income earners of younger age from multiperson households\n",
       "- 30: average earners of younger age from multiperson households\n",
       "- 31: low-income earners of higher age from multiperson households\n",
       "- 32: average earners of higher age from multiperson households\n",
       "- 33: independent persons of younger age from multiperson households\n",
       "- 34: homeowners of younger age from multiperson households\n",
       "- 35: top earners of younger age from multiperson households\n",
       "- 36: independent persons of higher age from multiperson households\n",
       "- 37: homeowners of advanced age from multiperson households\n",
       "- 38: homeowners at retirement age from multiperson households\n",
       "- 39: top earners of middle age from multiperson households\n",
       "- 40: top earners at retirement age from multiperson households\n",
       "\n",
       "### 1.12. LP_LEBENSPHASE_GROB\n",
       "Life stage, rough scale\n",
       "-  1: single low-income and average earners of younger age\n",
       "-  2: single low-income and average earners of higher age\n",
       "-  3: single high-income earners\n",
       "-  4: single low-income and average-earner couples\n",
       "-  5: single high-income earner couples\n",
       "-  6: single parents\n",
       "-  7: single low-income and average earner families\n",
       "-  8: high-income earner families\n",
       "-  9: average earners of younger age from multiperson households\n",
       "- 10: low-income and average earners of higher age from multiperson households\n",
       "- 11: high-income earners of younger age from multiperson households\n",
       "- 12: high-income earners of higher age from multiperson households\n",
       "\n",
       "### 1.13. LP_FAMILIE_FEIN\n",
       "Family type, fine scale\n",
       "-  0: unknown\n",
       "-  1: single\n",
       "-  2: couple\n",
       "-  3: young single parent\n",
       "-  4: single parent with teenager\n",
       "-  5: single parent with child of full age\n",
       "-  6: young family\n",
       "-  7: family with teenager\n",
       "-  8: family with child of full age\n",
       "-  9: shared flat\n",
       "- 10: two-generational household\n",
       "- 11: multi-generational household\n",
       "\n",
       "### 1.14. LP_FAMILIE_GROB\n",
       "Family type, rough scale\n",
       "- 0: unknown\n",
       "- 1: single (maps to 1 in fine scale)\n",
       "- 2: couple (maps to 2 in fine scale)\n",
       "- 3: single parent (maps to 3-5 in fine scale)\n",
       "- 4: family (maps to 6-8 in fine scale)\n",
       "- 5: multiperson household (maps to 9-11 in fine scale)\n",
       "\n",
       "### 1.15. LP_STATUS_FEIN\n",
       "Social status, fine scale\n",
       "-  1: typical low-income earners\n",
       "-  2: orientation-seeking low-income earners\n",
       "-  3: aspiring low-income earners\n",
       "-  4: villagers\n",
       "-  5: minimalistic high-income earners\n",
       "-  6: independent workers\n",
       "-  7: title holder-households\n",
       "-  8: new houseowners\n",
       "-  9: houseowners\n",
       "- 10: top earners\n",
       "\n",
       "### 1.16. LP_STATUS_GROB\n",
       "Social status, rough scale\n",
       "- 1: low-income earners (maps to 1-2 in fine scale)\n",
       "- 2: average earners (maps to 3-5 in fine scale)\n",
       "- 3: independents (maps to 6-7 in fine scale)\n",
       "- 4: houseowners (maps to 8-9 in fine scale)\n",
       "- 5: top earners (maps to 10 in fine scale)\n",
       "\n",
       "### 1.17. NATIONALITAET_KZ\n",
       "Nationality based on given name analysis\n",
       "- -1: unknown\n",
       "-  0: unknown\n",
       "-  1: German-sounding\n",
       "-  2: foreign-sounding\n",
       "-  3: assimilated names\n",
       "\n",
       "### 1.18. PRAEGENDE_JUGENDJAHRE\n",
       "Dominating movement of person's youth (avantgarde vs. mainstream; east vs. west)\n",
       "- -1: unknown\n",
       "-  0: unknown\n",
       "-  1: 40s - war years (Mainstream, E+W)\n",
       "-  2: 40s - reconstruction years (Avantgarde, E+W)\n",
       "-  3: 50s - economic miracle (Mainstream, E+W)\n",
       "-  4: 50s - milk bar / Individualisation (Avantgarde, E+W)\n",
       "-  5: 60s - economic miracle (Mainstream, E+W)\n",
       "-  6: 60s - generation 68 / student protestors (Avantgarde, W)\n",
       "-  7: 60s - opponents to the building of the Wall (Avantgarde, E)\n",
       "-  8: 70s - family orientation (Mainstream, E+W)\n",
       "-  9: 70s - peace movement (Avantgarde, E+W)\n",
       "- 10: 80s - Generation Golf (Mainstream, W)\n",
       "- 11: 80s - ecological awareness (Avantgarde, W)\n",
       "- 12: 80s - FDJ / communist party youth organisation (Mainstream, E)\n",
       "- 13: 80s - Swords into ploughshares (Avantgarde, E)\n",
       "- 14: 90s - digital media kids (Mainstream, E+W)\n",
       "- 15: 90s - ecological awareness (Avantgarde, E+W)\n",
       "\n",
       "### 1.19. RETOURTYP_BK_S\n",
       "Return type\n",
       "- 0: unknown\n",
       "- 1: influenceable Crazy-Shopper\n",
       "- 2: demanding Heavy-Returner\n",
       "- 3: incentive-receptive Normal-Returner\n",
       "- 4: conservative Low-Returner\n",
       "- 5: determined Minimal-Returner\n",
       "\n",
       "### 1.20. SEMIO_SOZ, SEMIO_FAM, SEMIO_REL, SEMIO_MAT, SEMIO_VERT, SEMIO_LUST,\n",
       "###       SEMIO_ERL, SEMIO_KULT, SEMIO_RAT, SEMIO_KRIT, SEMIO_DOM, SEMIO_KAEM,\n",
       "###       SEMIO_PFLICHT, SEMIO_TRADV\n",
       "Personality typology, for each dimension:\n",
       "- -1: unknown\n",
       "-  1: highest affinity\n",
       "-  2: very high affinity\n",
       "-  3: high affinity\n",
       "-  4: average affinity\n",
       "-  5: low affinity\n",
       "-  6: very low affinity\n",
       "-  7: lowest affinity\n",
       "-  9: unknown\n",
       "\n",
       "Dimension translations:\n",
       "- SOZ: socially-minded\n",
       "- FAM: family-minded\n",
       "- REL: religious\n",
       "- MAT: materialistic\n",
       "- VERT: dreamful\n",
       "- LUST: sensual-minded\n",
       "- ERL: event-oriented\n",
       "- KULT: cultural-minded\n",
       "- RAT: rational\n",
       "- KRIT: critical-minded\n",
       "- DOM: dominant-minded\n",
       "- KAEM: combative attitude\n",
       "- PFLICHT: dutiful\n",
       "- TRADV: tradional-minded\n",
       "\n",
       "### 1.21. SHOPPER_TYP\n",
       "Shopper typology\n",
       "- -1: unknown\n",
       "-  0: external supplied hedonists\n",
       "-  1: Shopping-stressed\n",
       "-  2: family-shopper\n",
       "-  3: demanding shopper\n",
       "\n",
       "### 1.22. SOHO_KZ\n",
       "Small office / home office flag\n",
       "- -1: unknown\n",
       "- 0: no small office/home office\n",
       "- 1: small office/home office\n",
       "\n",
       "### 1.23. TITEL_KZ\n",
       "Academic title flag\n",
       "- -1: unknown\n",
       "-  0: unknown\n",
       "-  1: Dr.\n",
       "-  2: Dr. Dr.\n",
       "-  3: Prof.\n",
       "-  4: Prof. Dr.\n",
       "-  5: other\n",
       "\n",
       "### 1.24. VERS_TYP\n",
       "Insurance typology\n",
       "- -1: unknown\n",
       "-  1: social-safety driven\n",
       "-  2: individualistic-accepting risks\n",
       "\n",
       "### 1.25. ZABEOTYP\n",
       "Energy consumption typology\n",
       "- -1: unknown\n",
       "-  1: green\n",
       "-  2: smart\n",
       "-  3: fair supplied\n",
       "-  4: price driven\n",
       "-  5: seeking orientation\n",
       "-  6: indifferent\n",
       "-  9: unknown\n",
       "\n",
       "-----\n",
       "\n",
       "## 2. Household-level features\n",
       "\n",
       "### 2.1. ALTER_HH\n",
       "Birthdate of head of household\n",
       "-  0: unknown / no main age detectable\n",
       "-  1: 1895-01-01 to 1899-12-31\n",
       "-  2: 1900-01-01 to 1904-12-31\n",
       "-  3: 1905-01-01 to 1909-12-31\n",
       "-  4: 1910-01-01 to 1914-12-31\n",
       "-  5: 1915-01-01 to 1919-12-31\n",
       "-  6: 1920-01-01 to 1924-12-31\n",
       "-  7: 1925-01-01 to 1929-12-31\n",
       "-  8: 1930-01-01 to 1934-12-31\n",
       "-  9: 1935-01-01 to 1939-12-31\n",
       "- 10: 1940-01-01 to 1944-12-31\n",
       "- 11: 1945-01-01 to 1949-12-31\n",
       "- 12: 1950-01-01 to 1954-12-31\n",
       "- 13: 1955-01-01 to 1959-12-31\n",
       "- 14: 1960-01-01 to 1964-12-31\n",
       "- 15: 1965-01-01 to 1969-12-31\n",
       "- 16: 1970-01-01 to 1974-12-31\n",
       "- 17: 1975-01-01 to 1979-12-31\n",
       "- 18: 1980-01-01 to 1984-12-31\n",
       "- 19: 1985-01-01 to 1989-12-31\n",
       "- 20: 1990-01-01 to 1994-12-31\n",
       "- 21: 1995-01-01 to 1999-12-31\n",
       "\n",
       "### 2.2. ANZ_PERSONEN\n",
       "Number of adults in household\n",
       "\n",
       "### 2.3. ANZ_TITEL\n",
       "Number of professional academic title holders in household\n",
       "\n",
       "### 2.4. HH_EINKOMMEN_SCORE\n",
       "Estimated household net income\n",
       "- -1: unknown\n",
       "-  0: unknown\n",
       "-  1: highest income\n",
       "-  2: very high income\n",
       "-  3: high income\n",
       "-  4: average income\n",
       "-  5: lower income\n",
       "-  6: very low income\n",
       "\n",
       "### 2.5. KK_KUNDENTYP\n",
       "Consumer pattern over past 12 months\n",
       "- -1: unknown\n",
       "-  1: regular customer\n",
       "-  2: active customer\n",
       "-  3: new costumer\n",
       "-  4: stray customer\n",
       "-  5: inactive customer\n",
       "-  6: passive customer\n",
       "\n",
       "### 2.6. W_KEIT_KIND_HH\n",
       "Likelihood of children in household\n",
       "- -1: unknown\n",
       "-  0: unknown\n",
       "-  1: most likely\n",
       "-  2: very likely\n",
       "-  3: likely\n",
       "-  4: average\n",
       "-  5: unlikely\n",
       "-  6: very unlikely\n",
       "\n",
       "### 2.7. WOHNDAUER_2008\n",
       "Length of residence\n",
       "- -1: unknown\n",
       "-  0: unknown\n",
       "-  1: length of residence less than 1 year\n",
       "-  2: length of residence 1-2 years\n",
       "-  3: length of residence 2-3 years\n",
       "-  4: length of residence 3-4 years\n",
       "-  5: length of residence 4-5 years\n",
       "-  6: length of residence 5-6 years\n",
       "-  7: length of residence 6-7 years\n",
       "-  8: length of residence 7-10 years\n",
       "-  9: length of residence more than 10 years\n",
       "\n",
       "-----\n",
       "\n",
       "## 3. Building-level features\n",
       "\n",
       "### 3.1. ANZ_HAUSHALTE_AKTIV\n",
       "Number of households in the building\n",
       "- missing values encoded by 0\n",
       "\n",
       "### 3.2. ANZ_HH_TITEL\n",
       "Number of professional academic title holders in building\n",
       "\n",
       "### 3.3. GEBAEUDETYP\n",
       "Type of building (residential vs. commercial)\n",
       "- -1: unknown\n",
       "-  0: unknown\n",
       "-  1: residential building\n",
       "-  2: residential building buildings without actually known household\n",
       "-  3: mixed (=residential and company) building\n",
       "-  4: mixed building without actually known household or company\n",
       "-  5: company building w/o known company\n",
       "-  6: mixed building without actually known household\n",
       "-  7: company building\n",
       "-  8: mixed building without actually known company\n",
       "\n",
       "### 3.4. KONSUMNAEHE\n",
       "Distance from building to point of sale (PoS)\n",
       "- 1: building is located in a 125 x 125m grid cell (RA1), which is a\n",
       "     consumption cell\n",
       "- 2: building is located in a 250 x 250m grid cell that includes at least one\n",
       "     RA1-consumption cell\n",
       "- 3: building is located in a 500 x 500m grid cell that includes at least one\n",
       "     RA1-consumption cell\n",
       "- 4: building is located in a 1 x 1km grid cell that includes at least one\n",
       "     RA1-consumption cell\n",
       "- 5: building is located in a 2 x 2km grid cell that includes at least one\n",
       "     RA1-consumption cell\n",
       "- 6: building is located in a 10 x 10km grid cell that includes at least one\n",
       "     RA1-consumption cell\n",
       "- 7: building is not located in a 10 x 10km range of a consumption cell\n",
       "\n",
       "### 3.5. MIN_GEBAEUDEJAHR\n",
       "First year building was mentioned in the database\n",
       "- missing values encoded by 0\n",
       "\n",
       "### 3.6. OST_WEST_KZ\n",
       "Building location via former East / West Germany (GDR / FRG)\n",
       "- -1: unknown\n",
       "-  O: East (GDR)\n",
       "-  W: West (FRG)\n",
       "\n",
       "### 3.7. WOHNLAGE\n",
       "Neighborhood quality (or rural flag)\n",
       "- -1: unknown\n",
       "-  0: no score calculated\n",
       "-  1: very good neighborhood\n",
       "-  2: good neighborhood\n",
       "-  3: average neighborhood\n",
       "-  4: poor neighborhood\n",
       "-  5: very poor neighborhood\n",
       "-  7: rural neighborhood\n",
       "-  8: new building in rural neighborhood\n",
       "\n",
       "-----\n",
       "\n",
       "## 4. RR4 micro-cell features\n",
       "\n",
       "### 4.1. CAMEO_DEUG_2015\n",
       "German CAMEO: Wealth / Life Stage Typology, rough scale\n",
       "- -1: unknown\n",
       "-  1: upper class\n",
       "-  2: upper middleclass\n",
       "-  3: established middleclass\n",
       "-  4: consumption-oriented middleclass\n",
       "-  5: active middleclass\n",
       "-  6: low-consumption middleclass\n",
       "-  7: lower middleclass\n",
       "-  8: working class\n",
       "-  9: urban working class\n",
       "-  X: unknown\n",
       "\n",
       "### 4.2. CAMEO_DEU_2015\n",
       "German CAMEO: Wealth / Life Stage Typology, detailed scale\n",
       "- 1A: Work-Life-Balance\n",
       "- 1B: Wealthy Best Ager\n",
       "- 1C: Successful Songwriter\n",
       "- 1D: Old Nobility\n",
       "- 1E: City Nobility\n",
       "- 2A: Cottage Chic\n",
       "- 2B: Noble Jogger\n",
       "- 2C: Established gourmet\n",
       "- 2D: Fine Management\n",
       "- 3A: Career & Family\n",
       "- 3B: Powershopping Families\n",
       "- 3C: Rural Neighborhood\n",
       "- 3D: Secure Retirement\n",
       "- 4A: Family Starter\n",
       "- 4B: Family Life\n",
       "- 4C: String Trimmer\n",
       "- 4D: Empty Nest\n",
       "- 4E: Golden Ager\n",
       "- 5A: Younger Employees\n",
       "- 5B: Suddenly Family\n",
       "- 5C: Family First\n",
       "- 5D: Stock Market Junkies\n",
       "- 5E: Coffee Rider\n",
       "- 5F: Active Retirement\n",
       "- 6A: Jobstarter\n",
       "- 6B: Petty Bourgeois\n",
       "- 6C: Long-established\n",
       "- 6D: Sportgardener\n",
       "- 6E: Urban Parents\n",
       "- 6F: Frugal Aging\n",
       "- 7A: Journeymen\n",
       "- 7B: Mantaplatte\n",
       "- 7C: Factory Worker\n",
       "- 7D: Rear Window\n",
       "- 7E: Interested Retirees\n",
       "- 8A: Multi-culteral\n",
       "- 8B: Young & Mobile\n",
       "- 8C: Prefab\n",
       "- 8D: Town Seniors\n",
       "- 9A: First Shared Apartment\n",
       "- 9B: Temporary Workers\n",
       "- 9C: Afternoon Talk Show\n",
       "- 9D: Mini-Jobber\n",
       "- 9E: Socking Away\n",
       "- XX: unknown\n",
       "\n",
       "### 4.3. CAMEO_INTL_2015\n",
       "German CAMEO: Wealth / Life Stage Typology, mapped to international code\n",
       "- -1: unknown\n",
       "- 11: Wealthy Households - Pre-Family Couples & Singles\n",
       "- 12: Wealthy Households - Young Couples With Children\n",
       "- 13: Wealthy Households - Families With School Age Children\n",
       "- 14: Wealthy Households - Older Families &  Mature Couples\n",
       "- 15: Wealthy Households - Elders In Retirement\n",
       "- 21: Prosperous Households - Pre-Family Couples & Singles\n",
       "- 22: Prosperous Households - Young Couples With Children\n",
       "- 23: Prosperous Households - Families With School Age Children\n",
       "- 24: Prosperous Households - Older Families & Mature Couples\n",
       "- 25: Prosperous Households - Elders In Retirement\n",
       "- 31: Comfortable Households - Pre-Family Couples & Singles\n",
       "- 32: Comfortable Households - Young Couples With Children\n",
       "- 33: Comfortable Households - Families With School Age Children\n",
       "- 34: Comfortable Households - Older Families & Mature Couples\n",
       "- 35: Comfortable Households - Elders In Retirement\n",
       "- 41: Less Affluent Households - Pre-Family Couples & Singles\n",
       "- 42: Less Affluent Households - Young Couples With Children\n",
       "- 43: Less Affluent Households - Families With School Age Children\n",
       "- 44: Less Affluent Households - Older Families & Mature Couples\n",
       "- 45: Less Affluent Households - Elders In Retirement\n",
       "- 51: Poorer Households - Pre-Family Couples & Singles\n",
       "- 52: Poorer Households - Young Couples With Children\n",
       "- 53: Poorer Households - Families With School Age Children\n",
       "- 54: Poorer Households - Older Families & Mature Couples\n",
       "- 55: Poorer Households - Elders In Retirement\n",
       "- XX: unknown\n",
       "\n",
       "-----\n",
       "\n",
       "## 5. RR3 micro-cell features\n",
       "\n",
       "### 5.1. KBA05_ANTG1\n",
       "Number of 1-2 family houses in the microcell\n",
       "- -1: unknown\n",
       "-  0: no 1-2 family homes\n",
       "-  1: lower share of 1-2 family homes\n",
       "-  2: average share of 1-2 family homes\n",
       "-  3: high share of 1-2 family homes\n",
       "-  4: very high share of 1-2 family homes\n",
       "\n",
       "### 5.2. KBA05_ANTG2\n",
       "Number of 3-5 family houses in the microcell\n",
       "- -1: unknown\n",
       "-  0: no 3-5 family homes\n",
       "-  1: lower share of 3-5 family homes\n",
       "-  2: average share of 3-5 family homes\n",
       "-  3: high share of 3-5 family homes\n",
       "-  4: very high share of 3-5 family homes\n",
       "\n",
       "### 5.3. KBA05_ANTG3\n",
       "Number of 6-10 family houses in the microcell\n",
       "- -1: unknown\n",
       "-  0: no 6-10 family homes\n",
       "-  1: lower share of 6-10 family homes\n",
       "-  2: average share of 6-10 family homes\n",
       "-  3: high share of 6-10 family homes\n",
       "\n",
       "### 5.4. KBA05_ANTG4\n",
       "Number of 10+ family houses in the microcell\n",
       "- -1: unknown\n",
       "-  0: no 10+ family homes\n",
       "-  1: lower share of 10+ family homes\n",
       "-  2: high share of 10+ family homes\n",
       "\n",
       "### 5.5. KBA05_BAUMAX\n",
       "Most common building type within the microcell\n",
       "- -1: unknown\n",
       "-  0: unknown\n",
       "-  1: mainly 1-2 family homes in the microcell\n",
       "-  2: mainly 3-5 family homes in the microcell\n",
       "-  3: mainly 6-10 family homes in the microcell\n",
       "-  4: mainly 10+ family homes in the microcell\n",
       "-  5: mainly business buildings in the microcell\n",
       "\n",
       "### 5.6. KBA05_GBZ\n",
       "Number of buildings in the microcell\n",
       "- -1: unknown\n",
       "-  0: unknown\n",
       "-  1: 1-2 buildings\n",
       "-  2: 3-4 buildings\n",
       "-  3: 5-16 buildings\n",
       "-  4: 17-22 buildings\n",
       "-  5: >=23 buildings\n",
       "\n",
       "-----\n",
       "\n",
       "## 6. Postcode-level features\n",
       "\n",
       "### 6.1. BALLRAUM\n",
       "Distance to nearest urban center\n",
       "- -1: unknown\n",
       "-  1: less than 10 km\n",
       "-  2: 10 -  20 km\n",
       "-  3: 20 -  30 km\n",
       "-  4: 30 -  40 km\n",
       "-  5: 40 -  50 km\n",
       "-  6: 50 - 100 km\n",
       "-  7: more than 100 km\n",
       "\n",
       "### 6.2. EWDICHTE\n",
       "Density of households per square kilometer\n",
       "- -1: unknown\n",
       "-  1: less than 34 households per km^2\n",
       "-  2:  34 -  89 households per km^2\n",
       "-  3:  90 - 149 households per km^2\n",
       "-  4: 150 - 319 households per km^2\n",
       "-  5: 320 - 999 households per km^2\n",
       "-  6: more than 999 households per km^2\n",
       "\n",
       "### 6.3. INNENSTADT\n",
       "Distance to city center (downtown)\n",
       "- -1: unknown\n",
       "-  1: in city center\n",
       "-  2: less than 3 km to city center\n",
       "-  3:  3 -  5 km to city center\n",
       "-  4:  5 - 10 km to city center\n",
       "-  5: 10 - 20 km to city center\n",
       "-  6: 20 - 30 km to city center\n",
       "-  7: 30 - 40 km to city center\n",
       "-  8: more than 40 km to city center\n",
       "\n",
       "-----\n",
       "\n",
       "## 7. RR1 region features\n",
       "\n",
       "### 7.1. GEBAEUDETYP_RASTER\n",
       "Ratio of residential to commercial activity\n",
       "- 1: business cell\n",
       "- 2: mixed cell with high business share\n",
       "- 3: mixed cell with middle business share\n",
       "- 4: mixed cell with low business share\n",
       "- 5: residential cell\n",
       "\n",
       "### 7.2. KKK\n",
       "Purchasing power in region\n",
       "- -1; unknown\n",
       "-  0: unknown\n",
       "-  1: very high\n",
       "-  2: high\n",
       "-  3: average\n",
       "-  4: low\n",
       "\n",
       "### 7.3. MOBI_REGIO\n",
       "Movement patterns\n",
       "- 1: very high movement\n",
       "- 2: high movement\n",
       "- 3: middle movement\n",
       "- 4: low movement\n",
       "- 5: very low movement\n",
       "- 6: none\n",
       "\n",
       "### 7.4. ONLINE_AFFINITAET\n",
       "Online affinity\n",
       "- 0: none\n",
       "- 1: low\n",
       "- 2: middle\n",
       "- 3: high\n",
       "- 4: very high\n",
       "- 5: highest\n",
       "\n",
       "### 7.5. REGIOTYP\n",
       "Neighborhood typology\n",
       "- -1: unknown\n",
       "-  0: unknown\n",
       "-  1: upper class\n",
       "-  2: conservatives\n",
       "-  3: upper middle class\n",
       "-  4: middle class\n",
       "-  5: lower middle class\n",
       "-  6: traditional workers\n",
       "-  7: marginal groups\n",
       "\n",
       "-----\n",
       "\n",
       "## 8. PLZ8 macro-cell features\n",
       "\n",
       "### 8.1. KBA13_ANZAHL_PKW\n",
       "Number of cars in the PLZ8 region\n",
       "\n",
       "### 8.2. PLZ8_ANTG1\n",
       "Number of 1-2 family houses in the PLZ8 region\n",
       "- -1: unknown\n",
       "-  0: no 1-2 family homes\n",
       "-  1: lower share of 1-2 family homes\n",
       "-  2: average share of 1-2 family homes\n",
       "-  3: high share of 1-2 family homes\n",
       "-  4: very high share of 1-2 family homes\n",
       "\n",
       "### 8.3. PLZ8_ANTG2\n",
       "Number of 3-5 family houses in the PLZ8 region\n",
       "- -1: unknown\n",
       "-  0: no 3-5 family homes\n",
       "-  1: lower share of 3-5 family homes\n",
       "-  2: average share of 3-5 family homes\n",
       "-  3: high share of 3-5 family homes\n",
       "-  4: very high share of 3-5 family homes\n",
       "\n",
       "### 8.4. PLZ8_ANTG3\n",
       "Number of 6-10 family houses in the PLZ8 region\n",
       "- -1: unknown\n",
       "-  0: no 6-10 family homes\n",
       "-  1: lower share of 6-10 family homes\n",
       "-  2: average share of 6-10 family homes\n",
       "-  3: high share of 6-10 family homes\n",
       "\n",
       "### 8.5. PLZ8_ANTG4\n",
       "Number of 10+ family houses in the PLZ8 region\n",
       "- -1: unknown\n",
       "-  0: no 10+ family homes\n",
       "-  1: lower share of 10+ family homes\n",
       "-  2: high share of 10+ family homes\n",
       "\n",
       "### 8.6. PLZ8_BAUMAX\n",
       "Most common building type within the PLZ8 region\n",
       "- -1: unknown\n",
       "-  0: unknown\n",
       "-  1: mainly 1-2 family homes\n",
       "-  2: mainly 3-5 family homes\n",
       "-  3: mainly 6-10 family homes\n",
       "-  4: mainly 10+ family homes\n",
       "-  5: mainly business buildings\n",
       "\n",
       "### 8.7. PLZ8_HHZ\n",
       "Number of households within the PLZ8 region\n",
       "- -1: unknown\n",
       "-  1: less than 130 households\n",
       "-  2: 131-299 households\n",
       "-  3: 300-599 households\n",
       "-  4: 600-849 households\n",
       "-  5: more than 849 households\n",
       "\n",
       "### 8.8. PLZ8_GBZ\n",
       "Number of buildings within the PLZ8 region\n",
       "- -1: unknown\n",
       "-  1: less than 60 buildings\n",
       "-  2:  60-129 buildings\n",
       "-  3: 130-299 buildings\n",
       "-  4: 300-449 buildings\n",
       "-  5: more than 449 buildings\n",
       "\n",
       "-----\n",
       "\n",
       "## 9. Community-level features\n",
       "\n",
       "### 9.1. ARBEIT\n",
       "Share of unemployment in community\n",
       "- -1: unknown\n",
       "-  1: very low\n",
       "-  2: low\n",
       "-  3: average\n",
       "-  4: high\n",
       "-  5: very high\n",
       "-  9: unknown\n",
       "\n",
       "### 9.2. ORTSGR_KLS9\n",
       "Size of community\n",
       "- -1: unknown\n",
       "-  1: <= 2,000 inhabitants\n",
       "-  2:   2,001 to   5,000 inhabitants\n",
       "-  3:   5,001 to  10,000 inhabitants\n",
       "-  4:  10,001 to  20,000 inhabitants\n",
       "-  5:  20,001 to  50,000 inhabitants\n",
       "-  6:  50,001 to 100,000 inhabitants\n",
       "-  7: 100,001 to 300,000 inhabitants\n",
       "-  8: 300,001 to 700,000 inhabitants\n",
       "-  9: > 700,000  inhabitants\n",
       "\n",
       "### 9.3. RELAT_AB\n",
       "Share of unemployment relative to county in which community is contained\n",
       "- -1: unknown\n",
       "-  1: very low\n",
       "-  2: low\n",
       "-  3: average\n",
       "-  4: high\n",
       "-  5: very high\n",
       "-  9: unknown\n"
      ],
      "text/plain": [
       "<IPython.core.display.Markdown object>"
      ]
     },
     "metadata": {},
     "output_type": "display_data"
    }
   ],
   "source": [
    "from IPython.display import Markdown, display \n",
    "\n",
    "# Information about the features in the provided datasets\n",
    "display(Markdown(\"Data_Dictionary.md\"))"
   ]
  },
  {
   "cell_type": "code",
   "execution_count": 7,
   "metadata": {},
   "outputs": [
    {
     "name": "stdout",
     "output_type": "stream",
     "text": [
      "<class 'pandas.core.frame.DataFrame'>\n",
      "RangeIndex: 85 entries, 0 to 84\n",
      "Data columns (total 4 columns):\n",
      " #   Column              Non-Null Count  Dtype \n",
      "---  ------              --------------  ----- \n",
      " 0   attribute           85 non-null     object\n",
      " 1   information_level   85 non-null     object\n",
      " 2   type                85 non-null     object\n",
      " 3   missing_or_unknown  85 non-null     object\n",
      "dtypes: object(4)\n",
      "memory usage: 2.8+ KB\n"
     ]
    }
   ],
   "source": [
    "# feat_info dataset: Summary of feature attributes for demographic data (AZDIAS)\n",
    "feat_info.info()"
   ]
  },
  {
   "cell_type": "code",
   "execution_count": 8,
   "metadata": {},
   "outputs": [
    {
     "data": {
      "text/html": [
       "<div>\n",
       "<style scoped>\n",
       "    .dataframe tbody tr th:only-of-type {\n",
       "        vertical-align: middle;\n",
       "    }\n",
       "\n",
       "    .dataframe tbody tr th {\n",
       "        vertical-align: top;\n",
       "    }\n",
       "\n",
       "    .dataframe thead th {\n",
       "        text-align: right;\n",
       "    }\n",
       "</style>\n",
       "<table border=\"1\" class=\"dataframe\">\n",
       "  <thead>\n",
       "    <tr style=\"text-align: right;\">\n",
       "      <th></th>\n",
       "      <th>attribute</th>\n",
       "      <th>information_level</th>\n",
       "      <th>type</th>\n",
       "      <th>missing_or_unknown</th>\n",
       "    </tr>\n",
       "  </thead>\n",
       "  <tbody>\n",
       "    <tr>\n",
       "      <th>0</th>\n",
       "      <td>AGER_TYP</td>\n",
       "      <td>person</td>\n",
       "      <td>categorical</td>\n",
       "      <td>[-1,0]</td>\n",
       "    </tr>\n",
       "    <tr>\n",
       "      <th>1</th>\n",
       "      <td>ALTERSKATEGORIE_GROB</td>\n",
       "      <td>person</td>\n",
       "      <td>ordinal</td>\n",
       "      <td>[-1,0,9]</td>\n",
       "    </tr>\n",
       "    <tr>\n",
       "      <th>2</th>\n",
       "      <td>ANREDE_KZ</td>\n",
       "      <td>person</td>\n",
       "      <td>categorical</td>\n",
       "      <td>[-1,0]</td>\n",
       "    </tr>\n",
       "    <tr>\n",
       "      <th>3</th>\n",
       "      <td>CJT_GESAMTTYP</td>\n",
       "      <td>person</td>\n",
       "      <td>categorical</td>\n",
       "      <td>[0]</td>\n",
       "    </tr>\n",
       "    <tr>\n",
       "      <th>4</th>\n",
       "      <td>FINANZ_MINIMALIST</td>\n",
       "      <td>person</td>\n",
       "      <td>ordinal</td>\n",
       "      <td>[-1]</td>\n",
       "    </tr>\n",
       "  </tbody>\n",
       "</table>\n",
       "</div>"
      ],
      "text/plain": [
       "              attribute information_level         type missing_or_unknown\n",
       "0              AGER_TYP            person  categorical             [-1,0]\n",
       "1  ALTERSKATEGORIE_GROB            person      ordinal           [-1,0,9]\n",
       "2             ANREDE_KZ            person  categorical             [-1,0]\n",
       "3         CJT_GESAMTTYP            person  categorical                [0]\n",
       "4     FINANZ_MINIMALIST            person      ordinal               [-1]"
      ]
     },
     "execution_count": 8,
     "metadata": {},
     "output_type": "execute_result"
    }
   ],
   "source": [
    "feat_info.head(5)"
   ]
  },
  {
   "cell_type": "code",
   "execution_count": 9,
   "metadata": {},
   "outputs": [
    {
     "data": {
      "text/html": [
       "<div>\n",
       "<style scoped>\n",
       "    .dataframe tbody tr th:only-of-type {\n",
       "        vertical-align: middle;\n",
       "    }\n",
       "\n",
       "    .dataframe tbody tr th {\n",
       "        vertical-align: top;\n",
       "    }\n",
       "\n",
       "    .dataframe thead th {\n",
       "        text-align: right;\n",
       "    }\n",
       "</style>\n",
       "<table border=\"1\" class=\"dataframe\">\n",
       "  <thead>\n",
       "    <tr style=\"text-align: right;\">\n",
       "      <th></th>\n",
       "      <th>attribute</th>\n",
       "      <th>information_level</th>\n",
       "      <th>type</th>\n",
       "      <th>missing_or_unknown</th>\n",
       "    </tr>\n",
       "  </thead>\n",
       "  <tbody>\n",
       "    <tr>\n",
       "      <th>count</th>\n",
       "      <td>85</td>\n",
       "      <td>85</td>\n",
       "      <td>85</td>\n",
       "      <td>85</td>\n",
       "    </tr>\n",
       "    <tr>\n",
       "      <th>unique</th>\n",
       "      <td>85</td>\n",
       "      <td>9</td>\n",
       "      <td>5</td>\n",
       "      <td>9</td>\n",
       "    </tr>\n",
       "    <tr>\n",
       "      <th>top</th>\n",
       "      <td>ALTERSKATEGORIE_GROB</td>\n",
       "      <td>person</td>\n",
       "      <td>ordinal</td>\n",
       "      <td>[-1]</td>\n",
       "    </tr>\n",
       "    <tr>\n",
       "      <th>freq</th>\n",
       "      <td>1</td>\n",
       "      <td>43</td>\n",
       "      <td>49</td>\n",
       "      <td>26</td>\n",
       "    </tr>\n",
       "  </tbody>\n",
       "</table>\n",
       "</div>"
      ],
      "text/plain": [
       "                   attribute information_level     type missing_or_unknown\n",
       "count                     85                85       85                 85\n",
       "unique                    85                 9        5                  9\n",
       "top     ALTERSKATEGORIE_GROB            person  ordinal               [-1]\n",
       "freq                       1                43       49                 26"
      ]
     },
     "execution_count": 9,
     "metadata": {},
     "output_type": "execute_result"
    }
   ],
   "source": [
    "feat_info.describe()"
   ]
  },
  {
   "cell_type": "code",
   "execution_count": 10,
   "metadata": {},
   "outputs": [
    {
     "data": {
      "text/plain": [
       "ordinal        49\n",
       "categorical    21\n",
       "numeric         7\n",
       "mixed           7\n",
       "interval        1\n",
       "Name: type, dtype: int64"
      ]
     },
     "execution_count": 10,
     "metadata": {},
     "output_type": "execute_result"
    }
   ],
   "source": [
    "# measurement level for the features in the dataset (e.g. categorical, ordinal, numeric)\n",
    "feat_info['type'].value_counts()"
   ]
  },
  {
   "cell_type": "code",
   "execution_count": 11,
   "metadata": {},
   "outputs": [
    {
     "data": {
      "text/plain": [
       "person            43\n",
       "macrocell_plz8     8\n",
       "building           7\n",
       "household          7\n",
       "microcell_rr3      6\n",
       "region_rr1         5\n",
       "community          3\n",
       "postcode           3\n",
       "microcell_rr4      3\n",
       "Name: information_level, dtype: int64"
      ]
     },
     "execution_count": 11,
     "metadata": {},
     "output_type": "execute_result"
    }
   ],
   "source": [
    "# information level\n",
    "feat_info['information_level'].value_counts()"
   ]
  },
  {
   "cell_type": "markdown",
   "metadata": {},
   "source": [
    "> **Tip**: Add additional cells to keep everything in reasonably-sized chunks! Keyboard shortcut `esc --> a` (press escape to enter command mode, then press the 'A' key) adds a new cell before the active cell, and `esc --> b` adds a new cell after the active cell. If you need to convert an active cell to a markdown cell, use `esc --> m` and to convert to a code cell, use `esc --> y`. \n",
    "\n",
    "## Step 1: Preprocessing\n",
    "\n",
    "### Step 1.1: Assess Missing Data\n",
    "\n",
    "The feature summary file contains a summary of properties for each demographics data column. You will use this file to help you make cleaning decisions during this stage of the project. First of all, you should assess the demographics data in terms of missing data. Pay attention to the following points as you perform your analysis, and take notes on what you observe. Make sure that you fill in the **Discussion** cell with your findings and decisions at the end of each step that has one!\n",
    "\n",
    "#### Step 1.1.1: Convert Missing Value Codes to NaNs\n",
    "The fourth column of the feature attributes summary (loaded in above as `feat_info`) documents the codes from the data dictionary that indicate missing or unknown data. While the file encodes this as a list (e.g. `[-1,0]`), this will get read in as a string object. You'll need to do a little bit of parsing to make use of it to identify and clean the data. Convert data that matches a 'missing' or 'unknown' value code into a numpy NaN value. You might want to see how much data takes on a 'missing' or 'unknown' code, and how much data is naturally missing, as a point of interest.\n",
    "\n",
    "**As one more reminder, you are encouraged to add additional cells to break up your analysis into manageable chunks.**"
   ]
  },
  {
   "cell_type": "code",
   "execution_count": null,
   "metadata": {},
   "outputs": [],
   "source": [
    "# Identify missing or unknown data values and convert them to NaNs."
   ]
  },
  {
   "cell_type": "markdown",
   "metadata": {},
   "source": [
    "#### Assessing Missing Data using the Features Summary dataset"
   ]
  },
  {
   "cell_type": "code",
   "execution_count": 12,
   "metadata": {},
   "outputs": [
    {
     "data": {
      "text/html": [
       "<div>\n",
       "<style scoped>\n",
       "    .dataframe tbody tr th:only-of-type {\n",
       "        vertical-align: middle;\n",
       "    }\n",
       "\n",
       "    .dataframe tbody tr th {\n",
       "        vertical-align: top;\n",
       "    }\n",
       "\n",
       "    .dataframe thead th {\n",
       "        text-align: right;\n",
       "    }\n",
       "</style>\n",
       "<table border=\"1\" class=\"dataframe\">\n",
       "  <thead>\n",
       "    <tr style=\"text-align: right;\">\n",
       "      <th></th>\n",
       "      <th>attribute</th>\n",
       "      <th>information_level</th>\n",
       "      <th>type</th>\n",
       "      <th>missing_or_unknown</th>\n",
       "    </tr>\n",
       "  </thead>\n",
       "  <tbody>\n",
       "    <tr>\n",
       "      <th>0</th>\n",
       "      <td>AGER_TYP</td>\n",
       "      <td>person</td>\n",
       "      <td>categorical</td>\n",
       "      <td>[-1,0]</td>\n",
       "    </tr>\n",
       "    <tr>\n",
       "      <th>1</th>\n",
       "      <td>ALTERSKATEGORIE_GROB</td>\n",
       "      <td>person</td>\n",
       "      <td>ordinal</td>\n",
       "      <td>[-1,0,9]</td>\n",
       "    </tr>\n",
       "  </tbody>\n",
       "</table>\n",
       "</div>"
      ],
      "text/plain": [
       "              attribute information_level         type missing_or_unknown\n",
       "0              AGER_TYP            person  categorical             [-1,0]\n",
       "1  ALTERSKATEGORIE_GROB            person      ordinal           [-1,0,9]"
      ]
     },
     "execution_count": 12,
     "metadata": {},
     "output_type": "execute_result"
    }
   ],
   "source": [
    "feat_info.head(2)"
   ]
  },
  {
   "cell_type": "code",
   "execution_count": 13,
   "metadata": {},
   "outputs": [
    {
     "name": "stdout",
     "output_type": "stream",
     "text": [
      "Missing values are: ['[-1,0]' '[-1,0,9]' '[0]' '[-1]' '[]' '[-1,9]' '[-1,X]' '[XX]' '[-1,XX]']\n"
     ]
    }
   ],
   "source": [
    "print(\"Missing values are:\",feat_info['missing_or_unknown'].unique())"
   ]
  },
  {
   "cell_type": "code",
   "execution_count": 32,
   "metadata": {},
   "outputs": [
    {
     "data": {
      "text/html": [
       "<div>\n",
       "<style scoped>\n",
       "    .dataframe tbody tr th:only-of-type {\n",
       "        vertical-align: middle;\n",
       "    }\n",
       "\n",
       "    .dataframe tbody tr th {\n",
       "        vertical-align: top;\n",
       "    }\n",
       "\n",
       "    .dataframe thead th {\n",
       "        text-align: right;\n",
       "    }\n",
       "</style>\n",
       "<table border=\"1\" class=\"dataframe\">\n",
       "  <thead>\n",
       "    <tr style=\"text-align: right;\">\n",
       "      <th></th>\n",
       "      <th>AGER_TYP</th>\n",
       "      <th>ALTERSKATEGORIE_GROB</th>\n",
       "      <th>ANREDE_KZ</th>\n",
       "      <th>CJT_GESAMTTYP</th>\n",
       "      <th>FINANZ_MINIMALIST</th>\n",
       "      <th>FINANZ_SPARER</th>\n",
       "      <th>FINANZ_VORSORGER</th>\n",
       "      <th>FINANZ_ANLEGER</th>\n",
       "      <th>FINANZ_UNAUFFAELLIGER</th>\n",
       "      <th>FINANZ_HAUSBAUER</th>\n",
       "      <th>...</th>\n",
       "      <th>PLZ8_ANTG1</th>\n",
       "      <th>PLZ8_ANTG2</th>\n",
       "      <th>PLZ8_ANTG3</th>\n",
       "      <th>PLZ8_ANTG4</th>\n",
       "      <th>PLZ8_BAUMAX</th>\n",
       "      <th>PLZ8_HHZ</th>\n",
       "      <th>PLZ8_GBZ</th>\n",
       "      <th>ARBEIT</th>\n",
       "      <th>ORTSGR_KLS9</th>\n",
       "      <th>RELAT_AB</th>\n",
       "    </tr>\n",
       "  </thead>\n",
       "  <tbody>\n",
       "    <tr>\n",
       "      <th>0</th>\n",
       "      <td>False</td>\n",
       "      <td>False</td>\n",
       "      <td>False</td>\n",
       "      <td>False</td>\n",
       "      <td>False</td>\n",
       "      <td>False</td>\n",
       "      <td>False</td>\n",
       "      <td>False</td>\n",
       "      <td>False</td>\n",
       "      <td>False</td>\n",
       "      <td>...</td>\n",
       "      <td>True</td>\n",
       "      <td>True</td>\n",
       "      <td>True</td>\n",
       "      <td>True</td>\n",
       "      <td>True</td>\n",
       "      <td>True</td>\n",
       "      <td>True</td>\n",
       "      <td>True</td>\n",
       "      <td>True</td>\n",
       "      <td>True</td>\n",
       "    </tr>\n",
       "    <tr>\n",
       "      <th>1</th>\n",
       "      <td>False</td>\n",
       "      <td>False</td>\n",
       "      <td>False</td>\n",
       "      <td>False</td>\n",
       "      <td>False</td>\n",
       "      <td>False</td>\n",
       "      <td>False</td>\n",
       "      <td>False</td>\n",
       "      <td>False</td>\n",
       "      <td>False</td>\n",
       "      <td>...</td>\n",
       "      <td>False</td>\n",
       "      <td>False</td>\n",
       "      <td>False</td>\n",
       "      <td>False</td>\n",
       "      <td>False</td>\n",
       "      <td>False</td>\n",
       "      <td>False</td>\n",
       "      <td>False</td>\n",
       "      <td>False</td>\n",
       "      <td>False</td>\n",
       "    </tr>\n",
       "    <tr>\n",
       "      <th>2</th>\n",
       "      <td>False</td>\n",
       "      <td>False</td>\n",
       "      <td>False</td>\n",
       "      <td>False</td>\n",
       "      <td>False</td>\n",
       "      <td>False</td>\n",
       "      <td>False</td>\n",
       "      <td>False</td>\n",
       "      <td>False</td>\n",
       "      <td>False</td>\n",
       "      <td>...</td>\n",
       "      <td>False</td>\n",
       "      <td>False</td>\n",
       "      <td>False</td>\n",
       "      <td>False</td>\n",
       "      <td>False</td>\n",
       "      <td>False</td>\n",
       "      <td>False</td>\n",
       "      <td>False</td>\n",
       "      <td>False</td>\n",
       "      <td>False</td>\n",
       "    </tr>\n",
       "  </tbody>\n",
       "</table>\n",
       "<p>3 rows × 85 columns</p>\n",
       "</div>"
      ],
      "text/plain": [
       "   AGER_TYP  ALTERSKATEGORIE_GROB  ANREDE_KZ  CJT_GESAMTTYP  \\\n",
       "0     False                 False      False          False   \n",
       "1     False                 False      False          False   \n",
       "2     False                 False      False          False   \n",
       "\n",
       "   FINANZ_MINIMALIST  FINANZ_SPARER  FINANZ_VORSORGER  FINANZ_ANLEGER  \\\n",
       "0              False          False             False           False   \n",
       "1              False          False             False           False   \n",
       "2              False          False             False           False   \n",
       "\n",
       "   FINANZ_UNAUFFAELLIGER  FINANZ_HAUSBAUER  ...  PLZ8_ANTG1  PLZ8_ANTG2  \\\n",
       "0                  False             False  ...        True        True   \n",
       "1                  False             False  ...       False       False   \n",
       "2                  False             False  ...       False       False   \n",
       "\n",
       "   PLZ8_ANTG3  PLZ8_ANTG4  PLZ8_BAUMAX  PLZ8_HHZ  PLZ8_GBZ  ARBEIT  \\\n",
       "0        True        True         True      True      True    True   \n",
       "1       False       False        False     False     False   False   \n",
       "2       False       False        False     False     False   False   \n",
       "\n",
       "   ORTSGR_KLS9  RELAT_AB  \n",
       "0         True      True  \n",
       "1        False     False  \n",
       "2        False     False  \n",
       "\n",
       "[3 rows x 85 columns]"
      ]
     },
     "execution_count": 32,
     "metadata": {},
     "output_type": "execute_result"
    }
   ],
   "source": [
    "# azdias is a pandas dataframe\n",
    "# df.isnull() detect missing values & return a boolean same-sized object indicating if the values are NA\n",
    "missing_values=azdias.isnull()\n",
    "missing_values.head(3)"
   ]
  },
  {
   "cell_type": "code",
   "execution_count": 33,
   "metadata": {},
   "outputs": [
    {
     "data": {
      "text/plain": [
       "AGER_TYP                    0\n",
       "ALTERSKATEGORIE_GROB        0\n",
       "ANREDE_KZ                   0\n",
       "CJT_GESAMTTYP            4854\n",
       "FINANZ_MINIMALIST           0\n",
       "FINANZ_SPARER               0\n",
       "FINANZ_VORSORGER            0\n",
       "FINANZ_ANLEGER              0\n",
       "FINANZ_UNAUFFAELLIGER       0\n",
       "FINANZ_HAUSBAUER            0\n",
       "dtype: int64"
      ]
     },
     "execution_count": 33,
     "metadata": {},
     "output_type": "execute_result"
    }
   ],
   "source": [
    "# df.sum() returns a series  of sum of all values \n",
    "# pd series is a one-dimensional labeled array\n",
    "sum_of_missings=missing_values.sum()\n",
    "sum_of_missings.head(10)"
   ]
  },
  {
   "cell_type": "code",
   "execution_count": 16,
   "metadata": {},
   "outputs": [
    {
     "data": {
      "text/plain": [
       "CJT_GESAMTTYP            4854\n",
       "GFK_URLAUBERTYP          4854\n",
       "LP_LEBENSPHASE_FEIN      4854\n",
       "LP_LEBENSPHASE_GROB      4854\n",
       "LP_FAMILIE_FEIN          4854\n",
       "LP_FAMILIE_GROB          4854\n",
       "LP_STATUS_FEIN           4854\n",
       "LP_STATUS_GROB           4854\n",
       "RETOURTYP_BK_S           4854\n",
       "SOHO_KZ                 73499\n",
       "TITEL_KZ                73499\n",
       "ALTER_HH                73499\n",
       "ANZ_PERSONEN            73499\n",
       "ANZ_TITEL               73499\n",
       "HH_EINKOMMEN_SCORE      18348\n",
       "KK_KUNDENTYP           584612\n",
       "W_KEIT_KIND_HH         107602\n",
       "WOHNDAUER_2008          73499\n",
       "ANZ_HAUSHALTE_AKTIV     93148\n",
       "ANZ_HH_TITEL            97008\n",
       "GEBAEUDETYP             93148\n",
       "KONSUMNAEHE             73969\n",
       "MIN_GEBAEUDEJAHR        93148\n",
       "OST_WEST_KZ             93148\n",
       "WOHNLAGE                93148\n",
       "CAMEO_DEUG_2015         98979\n",
       "CAMEO_DEU_2015          98979\n",
       "CAMEO_INTL_2015         98979\n",
       "KBA05_ANTG1            133324\n",
       "KBA05_ANTG2            133324\n",
       "KBA05_ANTG3            133324\n",
       "KBA05_ANTG4            133324\n",
       "KBA05_BAUMAX           133324\n",
       "KBA05_GBZ              133324\n",
       "BALLRAUM                93740\n",
       "EWDICHTE                93740\n",
       "INNENSTADT              93740\n",
       "GEBAEUDETYP_RASTER      93155\n",
       "KKK                    121196\n",
       "MOBI_REGIO             133324\n",
       "ONLINE_AFFINITAET        4854\n",
       "REGIOTYP               121196\n",
       "KBA13_ANZAHL_PKW       105800\n",
       "PLZ8_ANTG1             116515\n",
       "PLZ8_ANTG2             116515\n",
       "PLZ8_ANTG3             116515\n",
       "PLZ8_ANTG4             116515\n",
       "PLZ8_BAUMAX            116515\n",
       "PLZ8_HHZ               116515\n",
       "PLZ8_GBZ               116515\n",
       "ARBEIT                  97216\n",
       "ORTSGR_KLS9             97216\n",
       "RELAT_AB                97216\n",
       "dtype: int64"
      ]
     },
     "execution_count": 16,
     "metadata": {},
     "output_type": "execute_result"
    }
   ],
   "source": [
    "# To show only the colunms nulls with their sum of null-values  \n",
    "sum_of_missings = sum_of_missings[sum_of_missings.values > 0]\n",
    "sum_of_missings"
   ]
  },
  {
   "cell_type": "code",
   "execution_count": 17,
   "metadata": {},
   "outputs": [
    {
     "data": {
      "text/plain": [
       "4896838"
      ]
     },
     "execution_count": 17,
     "metadata": {},
     "output_type": "execute_result"
    }
   ],
   "source": [
    "sum(sum_of_missings.values)"
   ]
  },
  {
   "cell_type": "code",
   "execution_count": 18,
   "metadata": {},
   "outputs": [
    {
     "name": "stdout",
     "output_type": "stream",
     "text": [
      "There are 4896838 unknown values in the azdias dataset\n"
     ]
    }
   ],
   "source": [
    "# To show the total of all nulls in the dataset before converting the 'coded' missing values\n",
    "# by coded missing values we mean the unknown values represnted by numbers or strings and not numpy NaNs\n",
    "print(\"There are\", sum(sum_of_missings.values), 'unknown values in the azdias dataset' )"
   ]
  },
  {
   "cell_type": "markdown",
   "metadata": {},
   "source": [
    "#### Convert 'missing' or 'unknown' value code  into numpy NaNs"
   ]
  },
  {
   "cell_type": "code",
   "execution_count": 19,
   "metadata": {},
   "outputs": [
    {
     "name": "stdout",
     "output_type": "stream",
     "text": [
      "Missing values are: ['[-1,0]' '[-1,0,9]' '[0]' '[-1]' '[]' '[-1,9]' '[-1,X]' '[XX]' '[-1,XX]']\n"
     ]
    }
   ],
   "source": [
    "print(\"Missing values are:\",feat_info['missing_or_unknown'].unique())"
   ]
  },
  {
   "cell_type": "code",
   "execution_count": 40,
   "metadata": {},
   "outputs": [],
   "source": [
    "# Now replace missing values with numpy NaNs \n",
    "# For each row in feat_info: \n",
    "#                       Take each elemnt (string) of  the 'missing_or_unknown' colunm, \n",
    "#                       Strip (remove) the [brkets],\n",
    "#                       Split the string into a list, \n",
    "#                       Convert the items of the list into integers using List comprehension (note we still have X,XX, and empty elemtns)\n",
    "#                       Replace each correspending integer in azdias with NaN\n",
    "\n",
    "for row in range(azdias.shape[1]): #85 times, 'row' will be 0 for the first loop, then 1,2,3...etc with each loop\n",
    "    elemnt = feat_info.loc[row,'missing_or_unknown']  #'loc' selects single value by row & column lable\n",
    "    a_list = elemnt.strip(\"[]\").split(sep=',') \n",
    "    a_list = [int(i) if (i!='X' and i!='XX' and i!='') else i for i in a_list]\n",
    "\n",
    "    if a_list!= ['']: \n",
    "        new_azdias = pd.DataFrame(azdias.replace({feat_info.iloc[row]['attribute']: a_list}, np.nan,inplace=False)) "
   ]
  },
  {
   "cell_type": "code",
   "execution_count": 41,
   "metadata": {},
   "outputs": [
    {
     "data": {
      "text/plain": [
       "(891221, 85)"
      ]
     },
     "execution_count": 41,
     "metadata": {},
     "output_type": "execute_result"
    }
   ],
   "source": [
    " new_azdias.shape"
   ]
  },
  {
   "cell_type": "code",
   "execution_count": 42,
   "metadata": {},
   "outputs": [
    {
     "data": {
      "text/plain": [
       "8373929"
      ]
     },
     "execution_count": 42,
     "metadata": {},
     "output_type": "execute_result"
    }
   ],
   "source": [
    "#Total mumber of missing values after conversion into NaNs is \n",
    "missing_values=new_azdias.isnull()\n",
    "sum(missing_values.sum())"
   ]
  },
  {
   "cell_type": "markdown",
   "metadata": {},
   "source": [
    "###### We can notice the increment in the number of missing values since now all null values are recognized"
   ]
  },
  {
   "cell_type": "code",
   "execution_count": 43,
   "metadata": {},
   "outputs": [
    {
     "data": {
      "text/html": [
       "<div>\n",
       "<style scoped>\n",
       "    .dataframe tbody tr th:only-of-type {\n",
       "        vertical-align: middle;\n",
       "    }\n",
       "\n",
       "    .dataframe tbody tr th {\n",
       "        vertical-align: top;\n",
       "    }\n",
       "\n",
       "    .dataframe thead th {\n",
       "        text-align: right;\n",
       "    }\n",
       "</style>\n",
       "<table border=\"1\" class=\"dataframe\">\n",
       "  <thead>\n",
       "    <tr style=\"text-align: right;\">\n",
       "      <th></th>\n",
       "      <th>AGER_TYP</th>\n",
       "      <th>ALTERSKATEGORIE_GROB</th>\n",
       "      <th>ANREDE_KZ</th>\n",
       "      <th>CJT_GESAMTTYP</th>\n",
       "      <th>FINANZ_MINIMALIST</th>\n",
       "      <th>FINANZ_SPARER</th>\n",
       "      <th>FINANZ_VORSORGER</th>\n",
       "      <th>FINANZ_ANLEGER</th>\n",
       "      <th>FINANZ_UNAUFFAELLIGER</th>\n",
       "      <th>FINANZ_HAUSBAUER</th>\n",
       "      <th>...</th>\n",
       "      <th>PLZ8_ANTG1</th>\n",
       "      <th>PLZ8_ANTG2</th>\n",
       "      <th>PLZ8_ANTG3</th>\n",
       "      <th>PLZ8_ANTG4</th>\n",
       "      <th>PLZ8_BAUMAX</th>\n",
       "      <th>PLZ8_HHZ</th>\n",
       "      <th>PLZ8_GBZ</th>\n",
       "      <th>ARBEIT</th>\n",
       "      <th>ORTSGR_KLS9</th>\n",
       "      <th>RELAT_AB</th>\n",
       "    </tr>\n",
       "  </thead>\n",
       "  <tbody>\n",
       "    <tr>\n",
       "      <th>0</th>\n",
       "      <td>NaN</td>\n",
       "      <td>2.0</td>\n",
       "      <td>1</td>\n",
       "      <td>2.0</td>\n",
       "      <td>3</td>\n",
       "      <td>4</td>\n",
       "      <td>3</td>\n",
       "      <td>5</td>\n",
       "      <td>5</td>\n",
       "      <td>3</td>\n",
       "      <td>...</td>\n",
       "      <td>NaN</td>\n",
       "      <td>NaN</td>\n",
       "      <td>NaN</td>\n",
       "      <td>NaN</td>\n",
       "      <td>NaN</td>\n",
       "      <td>NaN</td>\n",
       "      <td>NaN</td>\n",
       "      <td>NaN</td>\n",
       "      <td>NaN</td>\n",
       "      <td>NaN</td>\n",
       "    </tr>\n",
       "    <tr>\n",
       "      <th>1</th>\n",
       "      <td>NaN</td>\n",
       "      <td>1.0</td>\n",
       "      <td>2</td>\n",
       "      <td>5.0</td>\n",
       "      <td>1</td>\n",
       "      <td>5</td>\n",
       "      <td>2</td>\n",
       "      <td>5</td>\n",
       "      <td>4</td>\n",
       "      <td>5</td>\n",
       "      <td>...</td>\n",
       "      <td>2.0</td>\n",
       "      <td>3.0</td>\n",
       "      <td>2.0</td>\n",
       "      <td>1.0</td>\n",
       "      <td>1.0</td>\n",
       "      <td>5.0</td>\n",
       "      <td>4.0</td>\n",
       "      <td>3.0</td>\n",
       "      <td>5.0</td>\n",
       "      <td>4.0</td>\n",
       "    </tr>\n",
       "    <tr>\n",
       "      <th>2</th>\n",
       "      <td>NaN</td>\n",
       "      <td>3.0</td>\n",
       "      <td>2</td>\n",
       "      <td>3.0</td>\n",
       "      <td>1</td>\n",
       "      <td>4</td>\n",
       "      <td>1</td>\n",
       "      <td>2</td>\n",
       "      <td>3</td>\n",
       "      <td>5</td>\n",
       "      <td>...</td>\n",
       "      <td>3.0</td>\n",
       "      <td>3.0</td>\n",
       "      <td>1.0</td>\n",
       "      <td>0.0</td>\n",
       "      <td>1.0</td>\n",
       "      <td>4.0</td>\n",
       "      <td>4.0</td>\n",
       "      <td>3.0</td>\n",
       "      <td>5.0</td>\n",
       "      <td>2.0</td>\n",
       "    </tr>\n",
       "  </tbody>\n",
       "</table>\n",
       "<p>3 rows × 85 columns</p>\n",
       "</div>"
      ],
      "text/plain": [
       "   AGER_TYP  ALTERSKATEGORIE_GROB  ANREDE_KZ  CJT_GESAMTTYP  \\\n",
       "0       NaN                   2.0          1            2.0   \n",
       "1       NaN                   1.0          2            5.0   \n",
       "2       NaN                   3.0          2            3.0   \n",
       "\n",
       "   FINANZ_MINIMALIST  FINANZ_SPARER  FINANZ_VORSORGER  FINANZ_ANLEGER  \\\n",
       "0                  3              4                 3               5   \n",
       "1                  1              5                 2               5   \n",
       "2                  1              4                 1               2   \n",
       "\n",
       "   FINANZ_UNAUFFAELLIGER  FINANZ_HAUSBAUER  ...  PLZ8_ANTG1  PLZ8_ANTG2  \\\n",
       "0                      5                 3  ...         NaN         NaN   \n",
       "1                      4                 5  ...         2.0         3.0   \n",
       "2                      3                 5  ...         3.0         3.0   \n",
       "\n",
       "   PLZ8_ANTG3  PLZ8_ANTG4  PLZ8_BAUMAX  PLZ8_HHZ  PLZ8_GBZ  ARBEIT  \\\n",
       "0         NaN         NaN          NaN       NaN       NaN     NaN   \n",
       "1         2.0         1.0          1.0       5.0       4.0     3.0   \n",
       "2         1.0         0.0          1.0       4.0       4.0     3.0   \n",
       "\n",
       "   ORTSGR_KLS9  RELAT_AB  \n",
       "0          NaN       NaN  \n",
       "1          5.0       4.0  \n",
       "2          5.0       2.0  \n",
       "\n",
       "[3 rows x 85 columns]"
      ]
     },
     "execution_count": 43,
     "metadata": {},
     "output_type": "execute_result"
    }
   ],
   "source": [
    "new_azdias.head(3)"
   ]
  },
  {
   "cell_type": "markdown",
   "metadata": {},
   "source": [
    "#### Step 1.1.2: Assess Missing Data in Each Column\n",
    "\n",
    "How much missing data is present in each column? There are a few columns that are outliers in terms of the proportion of values that are missing. You will want to use matplotlib's [`hist()`](https://matplotlib.org/api/_as_gen/matplotlib.pyplot.hist.html) function to visualize the distribution of missing value counts to find these columns. Identify and document these columns. While some of these columns might have justifications for keeping or re-encoding the data, for this project you should just remove them from the dataframe. (Feel free to make remarks about these outlier columns in the discussion, however!)\n",
    "\n",
    "For the remaining features, are there any patterns in which columns have, or share, missing data?"
   ]
  },
  {
   "cell_type": "code",
   "execution_count": 44,
   "metadata": {},
   "outputs": [
    {
     "data": {
      "text/html": [
       "<div>\n",
       "<style scoped>\n",
       "    .dataframe tbody tr th:only-of-type {\n",
       "        vertical-align: middle;\n",
       "    }\n",
       "\n",
       "    .dataframe tbody tr th {\n",
       "        vertical-align: top;\n",
       "    }\n",
       "\n",
       "    .dataframe thead th {\n",
       "        text-align: right;\n",
       "    }\n",
       "</style>\n",
       "<table border=\"1\" class=\"dataframe\">\n",
       "  <thead>\n",
       "    <tr style=\"text-align: right;\">\n",
       "      <th></th>\n",
       "      <th>AGER_TYP</th>\n",
       "      <th>ALTERSKATEGORIE_GROB</th>\n",
       "      <th>ANREDE_KZ</th>\n",
       "      <th>CJT_GESAMTTYP</th>\n",
       "      <th>FINANZ_MINIMALIST</th>\n",
       "      <th>FINANZ_SPARER</th>\n",
       "      <th>FINANZ_VORSORGER</th>\n",
       "      <th>FINANZ_ANLEGER</th>\n",
       "      <th>FINANZ_UNAUFFAELLIGER</th>\n",
       "      <th>FINANZ_HAUSBAUER</th>\n",
       "      <th>...</th>\n",
       "      <th>PLZ8_ANTG1</th>\n",
       "      <th>PLZ8_ANTG2</th>\n",
       "      <th>PLZ8_ANTG3</th>\n",
       "      <th>PLZ8_ANTG4</th>\n",
       "      <th>PLZ8_BAUMAX</th>\n",
       "      <th>PLZ8_HHZ</th>\n",
       "      <th>PLZ8_GBZ</th>\n",
       "      <th>ARBEIT</th>\n",
       "      <th>ORTSGR_KLS9</th>\n",
       "      <th>RELAT_AB</th>\n",
       "    </tr>\n",
       "  </thead>\n",
       "  <tbody>\n",
       "    <tr>\n",
       "      <th>0</th>\n",
       "      <td>True</td>\n",
       "      <td>False</td>\n",
       "      <td>False</td>\n",
       "      <td>False</td>\n",
       "      <td>False</td>\n",
       "      <td>False</td>\n",
       "      <td>False</td>\n",
       "      <td>False</td>\n",
       "      <td>False</td>\n",
       "      <td>False</td>\n",
       "      <td>...</td>\n",
       "      <td>True</td>\n",
       "      <td>True</td>\n",
       "      <td>True</td>\n",
       "      <td>True</td>\n",
       "      <td>True</td>\n",
       "      <td>True</td>\n",
       "      <td>True</td>\n",
       "      <td>True</td>\n",
       "      <td>True</td>\n",
       "      <td>True</td>\n",
       "    </tr>\n",
       "    <tr>\n",
       "      <th>1</th>\n",
       "      <td>True</td>\n",
       "      <td>False</td>\n",
       "      <td>False</td>\n",
       "      <td>False</td>\n",
       "      <td>False</td>\n",
       "      <td>False</td>\n",
       "      <td>False</td>\n",
       "      <td>False</td>\n",
       "      <td>False</td>\n",
       "      <td>False</td>\n",
       "      <td>...</td>\n",
       "      <td>False</td>\n",
       "      <td>False</td>\n",
       "      <td>False</td>\n",
       "      <td>False</td>\n",
       "      <td>False</td>\n",
       "      <td>False</td>\n",
       "      <td>False</td>\n",
       "      <td>False</td>\n",
       "      <td>False</td>\n",
       "      <td>False</td>\n",
       "    </tr>\n",
       "    <tr>\n",
       "      <th>2</th>\n",
       "      <td>True</td>\n",
       "      <td>False</td>\n",
       "      <td>False</td>\n",
       "      <td>False</td>\n",
       "      <td>False</td>\n",
       "      <td>False</td>\n",
       "      <td>False</td>\n",
       "      <td>False</td>\n",
       "      <td>False</td>\n",
       "      <td>False</td>\n",
       "      <td>...</td>\n",
       "      <td>False</td>\n",
       "      <td>False</td>\n",
       "      <td>False</td>\n",
       "      <td>False</td>\n",
       "      <td>False</td>\n",
       "      <td>False</td>\n",
       "      <td>False</td>\n",
       "      <td>False</td>\n",
       "      <td>False</td>\n",
       "      <td>False</td>\n",
       "    </tr>\n",
       "  </tbody>\n",
       "</table>\n",
       "<p>3 rows × 85 columns</p>\n",
       "</div>"
      ],
      "text/plain": [
       "   AGER_TYP  ALTERSKATEGORIE_GROB  ANREDE_KZ  CJT_GESAMTTYP  \\\n",
       "0      True                 False      False          False   \n",
       "1      True                 False      False          False   \n",
       "2      True                 False      False          False   \n",
       "\n",
       "   FINANZ_MINIMALIST  FINANZ_SPARER  FINANZ_VORSORGER  FINANZ_ANLEGER  \\\n",
       "0              False          False             False           False   \n",
       "1              False          False             False           False   \n",
       "2              False          False             False           False   \n",
       "\n",
       "   FINANZ_UNAUFFAELLIGER  FINANZ_HAUSBAUER  ...  PLZ8_ANTG1  PLZ8_ANTG2  \\\n",
       "0                  False             False  ...        True        True   \n",
       "1                  False             False  ...       False       False   \n",
       "2                  False             False  ...       False       False   \n",
       "\n",
       "   PLZ8_ANTG3  PLZ8_ANTG4  PLZ8_BAUMAX  PLZ8_HHZ  PLZ8_GBZ  ARBEIT  \\\n",
       "0        True        True         True      True      True    True   \n",
       "1       False       False        False     False     False   False   \n",
       "2       False       False        False     False     False   False   \n",
       "\n",
       "   ORTSGR_KLS9  RELAT_AB  \n",
       "0         True      True  \n",
       "1        False     False  \n",
       "2        False     False  \n",
       "\n",
       "[3 rows x 85 columns]"
      ]
     },
     "execution_count": 44,
     "metadata": {},
     "output_type": "execute_result"
    }
   ],
   "source": [
    "# new_azdias is a pandas dataframe\n",
    "# df.isnull() detect missing values & return a boolean same-sized object indicating if the values are NA\n",
    "missing_values=new_azdias.isnull()\n",
    "missing_values.head(3)"
   ]
  },
  {
   "cell_type": "code",
   "execution_count": 45,
   "metadata": {},
   "outputs": [
    {
     "data": {
      "text/plain": [
       "AGER_TYP                 685843\n",
       "ALTERSKATEGORIE_GROB       2881\n",
       "ANREDE_KZ                     0\n",
       "CJT_GESAMTTYP              4854\n",
       "FINANZ_MINIMALIST             0\n",
       "FINANZ_SPARER                 0\n",
       "FINANZ_VORSORGER              0\n",
       "FINANZ_ANLEGER                0\n",
       "FINANZ_UNAUFFAELLIGER         0\n",
       "FINANZ_HAUSBAUER              0\n",
       "dtype: int64"
      ]
     },
     "execution_count": 45,
     "metadata": {},
     "output_type": "execute_result"
    }
   ],
   "source": [
    "# df.sum() returns a series  of sum of all values \n",
    "# pd series is a one-dimensional labeled array\n",
    "missings_per_column=missing_values.sum()\n",
    "missings_per_column.head(10)"
   ]
  },
  {
   "cell_type": "code",
   "execution_count": 46,
   "metadata": {},
   "outputs": [
    {
     "data": {
      "text/plain": [
       "AGER_TYP                 685843\n",
       "ALTERSKATEGORIE_GROB       2881\n",
       "CJT_GESAMTTYP              4854\n",
       "GEBURTSJAHR              392318\n",
       "GFK_URLAUBERTYP            4854\n",
       "HEALTH_TYP               111196\n",
       "LP_LEBENSPHASE_FEIN       97632\n",
       "LP_LEBENSPHASE_GROB       94572\n",
       "LP_FAMILIE_FEIN           77792\n",
       "LP_FAMILIE_GROB           77792\n",
       "LP_STATUS_FEIN             4854\n",
       "LP_STATUS_GROB             4854\n",
       "NATIONALITAET_KZ         108315\n",
       "PRAEGENDE_JUGENDJAHRE    108164\n",
       "RETOURTYP_BK_S             4854\n",
       "SHOPPER_TYP              111196\n",
       "SOHO_KZ                   73499\n",
       "TITEL_KZ                 889061\n",
       "VERS_TYP                 111196\n",
       "ALTER_HH                 310267\n",
       "ANZ_PERSONEN              73499\n",
       "ANZ_TITEL                 73499\n",
       "HH_EINKOMMEN_SCORE        18348\n",
       "KK_KUNDENTYP             584612\n",
       "W_KEIT_KIND_HH           147988\n",
       "WOHNDAUER_2008            73499\n",
       "ANZ_HAUSHALTE_AKTIV       99611\n",
       "ANZ_HH_TITEL              97008\n",
       "GEBAEUDETYP               93148\n",
       "KONSUMNAEHE               73969\n",
       "MIN_GEBAEUDEJAHR          93148\n",
       "OST_WEST_KZ               93148\n",
       "WOHNLAGE                  93148\n",
       "CAMEO_DEUG_2015           99352\n",
       "CAMEO_DEU_2015            99352\n",
       "CAMEO_INTL_2015           99352\n",
       "KBA05_ANTG1              133324\n",
       "KBA05_ANTG2              133324\n",
       "KBA05_ANTG3              133324\n",
       "KBA05_ANTG4              133324\n",
       "KBA05_BAUMAX             476524\n",
       "KBA05_GBZ                133324\n",
       "BALLRAUM                  93740\n",
       "EWDICHTE                  93740\n",
       "INNENSTADT                93740\n",
       "GEBAEUDETYP_RASTER        93155\n",
       "KKK                      158064\n",
       "MOBI_REGIO               133324\n",
       "ONLINE_AFFINITAET          4854\n",
       "REGIOTYP                 158064\n",
       "KBA13_ANZAHL_PKW         105800\n",
       "PLZ8_ANTG1               116515\n",
       "PLZ8_ANTG2               116515\n",
       "PLZ8_ANTG3               116515\n",
       "PLZ8_ANTG4               116515\n",
       "PLZ8_BAUMAX              116515\n",
       "PLZ8_HHZ                 116515\n",
       "PLZ8_GBZ                 116515\n",
       "ARBEIT                    97375\n",
       "ORTSGR_KLS9               97274\n",
       "RELAT_AB                  97375\n",
       "dtype: int64"
      ]
     },
     "execution_count": 46,
     "metadata": {},
     "output_type": "execute_result"
    }
   ],
   "source": [
    "# Perform an assessment of how much missing data there is in each column of the dataset.\n",
    "# To show only the colunms nulls with their sum of null-values  \n",
    "pd.set_option('display.max_rows', None) # To show full output in Jupyter\n",
    "\n",
    "missings_per_column = missings_per_column[missings_per_column.values > 0]\n",
    "missings_per_column"
   ]
  },
  {
   "cell_type": "code",
   "execution_count": 47,
   "metadata": {},
   "outputs": [
    {
     "data": {
      "image/png": "[encoded data removed]",
      "text/plain": [
       "<Figure size 864x576 with 1 Axes>"
      ]
     },
     "metadata": {
      "needs_background": "light"
     },
     "output_type": "display_data"
    }
   ],
   "source": [
    "# Investigate patterns in the amount of missing data in each column.\n",
    "plt.figure(figsize=(12,8))\n",
    "n,bins, patches = plt.hist(missings_per_column)\n",
    "plt.xlabel('Missing data')\n",
    "plt.ylabel('Number of Attributes')\n",
    "plt.grid(True)\n",
    "plt.show()"
   ]
  },
  {
   "cell_type": "code",
   "execution_count": 48,
   "metadata": {},
   "outputs": [],
   "source": [
    "#To Show the outlier columns\n",
    "outlier_columns = missings_per_column[missings_per_column.values > 200000]"
   ]
  },
  {
   "cell_type": "code",
   "execution_count": 49,
   "metadata": {},
   "outputs": [
    {
     "data": {
      "text/plain": [
       "AGER_TYP        685843\n",
       "GEBURTSJAHR     392318\n",
       "TITEL_KZ        889061\n",
       "ALTER_HH        310267\n",
       "KK_KUNDENTYP    584612\n",
       "KBA05_BAUMAX    476524\n",
       "dtype: int64"
      ]
     },
     "execution_count": 49,
     "metadata": {},
     "output_type": "execute_result"
    }
   ],
   "source": [
    "outlier_columns"
   ]
  },
  {
   "cell_type": "code",
   "execution_count": 50,
   "metadata": {},
   "outputs": [],
   "source": [
    "# Remove the outlier columns from the dataset. (You'll perform other data\n",
    "# engineering tasks such as re-encoding and imputation later.)\n",
    "n2_azdias = new_azdias.drop(outlier_columns.index, axis=1)"
   ]
  },
  {
   "cell_type": "code",
   "execution_count": 51,
   "metadata": {},
   "outputs": [
    {
     "data": {
      "text/plain": [
       "(891221, 79)"
      ]
     },
     "execution_count": 51,
     "metadata": {},
     "output_type": "execute_result"
    }
   ],
   "source": [
    "n2_azdias.shape"
   ]
  },
  {
   "cell_type": "markdown",
   "metadata": {},
   "source": [
    "#### Discussion 1.1.2: Assess Missing Data in Each Column, Observations\n",
    "\n",
    "The dataset has six outlier columns with missing values more than 200k element per culumn. So these following outliers were removed\n",
    "\n",
    "|  Column | Count  |   \n",
    "|---|---|\n",
    "| AGER_TYP  | 685843  |   \n",
    "| GEBURTSJAHR  | 392318  |  \n",
    "|  TITEL_KZ |  889061 |   \n",
    "|  ALTER_HH |  310267 |   \n",
    "|KK_KUNDENTYP   | 584612  |   \n",
    "| KBA05_BAUMAX  |  476524 |   \n"
   ]
  },
  {
   "cell_type": "markdown",
   "metadata": {},
   "source": [
    "#### Step 1.1.3: Assess Missing Data in Each Row\n",
    "\n",
    "Now, you'll perform a similar assessment for the rows of the dataset. How much data is missing in each row? As with the columns, you should see some groups of points that have a very different numbers of missing values. Divide the data into two subsets: one for data points that are above some threshold for missing values, and a second subset for points below that threshold.\n",
    "\n",
    "In order to know what to do with the outlier rows, we should see if the distribution of data values on columns that are not missing data (or are missing very little data) are similar or different between the two groups. Select at least five of these columns and compare the distribution of values.\n",
    "- You can use seaborn's [`countplot()`](https://seaborn.pydata.org/generated/seaborn.countplot.html) function to create a bar chart of code frequencies and matplotlib's [`subplot()`](https://matplotlib.org/api/_as_gen/matplotlib.pyplot.subplot.html) function to put bar charts for the two subplots side by side.\n",
    "- To reduce repeated code, you might want to write a function that can perform this comparison, taking as one of its arguments a column to be compared.\n",
    "\n",
    "Depending on what you observe in your comparison, this will have implications on how you approach your conclusions later in the analysis. If the distributions of non-missing features look similar between the data with many missing values and the data with few or no missing values, then we could argue that simply dropping those points from the analysis won't present a major issue. On the other hand, if the data with many missing values looks very different from the data with few or no missing values, then we should make a note on those data as special. We'll revisit these data later on. **Either way, you should continue your analysis for now using just the subset of the data with few or no missing values.**"
   ]
  },
  {
   "cell_type": "code",
   "execution_count": 52,
   "metadata": {},
   "outputs": [
    {
     "data": {
      "text/plain": [
       "0    43\n",
       "1     0\n",
       "2     0\n",
       "3     7\n",
       "4     0\n",
       "dtype: int64"
      ]
     },
     "execution_count": 52,
     "metadata": {},
     "output_type": "execute_result"
    }
   ],
   "source": [
    "# How much data is missing in each row of the dataset?\n",
    "\n",
    "missing_per_row = n2_azdias.isnull().sum(axis=1)\n",
    "#missing_per_row = missing_per_row[missing_per_row.values > 0]\n",
    "missing_per_row.head(5)"
   ]
  },
  {
   "cell_type": "code",
   "execution_count": 53,
   "metadata": {},
   "outputs": [
    {
     "data": {
      "image/png": "[encoded data removed]",
      "text/plain": [
       "<Figure size 864x576 with 1 Axes>"
      ]
     },
     "metadata": {
      "needs_background": "light"
     },
     "output_type": "display_data"
    }
   ],
   "source": [
    "plt.figure(figsize=(12,8))\n",
    "n, bins, patches = plt.hist(missing_per_row,bins=100)\n",
    "plt.xlabel('Total of Missing Data per Row')\n",
    "plt.ylabel('Number of rows')\n",
    "plt.grid(True)\n",
    "plt.show()"
   ]
  },
  {
   "cell_type": "code",
   "execution_count": 54,
   "metadata": {},
   "outputs": [],
   "source": [
    "# Write code to divide the data into two subsets based on the number of missing\n",
    "# values in each row.\n",
    "\n",
    "azdias_row_less_20 = n2_azdias[n2_azdias.isnull().sum(axis=1) <= 20]\n",
    "azdias_row_more_20 = n2_azdias[n2_azdias.isnull().sum(axis=1) > 20]"
   ]
  },
  {
   "cell_type": "code",
   "execution_count": 55,
   "metadata": {},
   "outputs": [
    {
     "name": "stdout",
     "output_type": "stream",
     "text": [
      "(797426, 79)\n",
      "(93795, 79)\n"
     ]
    }
   ],
   "source": [
    "print(azdias_row_less_20.shape)\n",
    "print(azdias_row_more_20.shape)"
   ]
  },
  {
   "cell_type": "code",
   "execution_count": 56,
   "metadata": {},
   "outputs": [
    {
     "data": {
      "text/plain": [
       "Index(['ALTERSKATEGORIE_GROB', 'ANREDE_KZ', 'CJT_GESAMTTYP',\n",
       "       'FINANZ_MINIMALIST', 'FINANZ_SPARER', 'FINANZ_VORSORGER',\n",
       "       'FINANZ_ANLEGER', 'FINANZ_UNAUFFAELLIGER', 'FINANZ_HAUSBAUER',\n",
       "       'FINANZTYP', 'GFK_URLAUBERTYP', 'GREEN_AVANTGARDE', 'HEALTH_TYP',\n",
       "       'LP_LEBENSPHASE_FEIN', 'LP_LEBENSPHASE_GROB', 'LP_FAMILIE_FEIN',\n",
       "       'LP_FAMILIE_GROB', 'LP_STATUS_FEIN', 'LP_STATUS_GROB',\n",
       "       'NATIONALITAET_KZ', 'PRAEGENDE_JUGENDJAHRE', 'RETOURTYP_BK_S',\n",
       "       'SEMIO_SOZ', 'SEMIO_FAM', 'SEMIO_REL', 'SEMIO_MAT', 'SEMIO_VERT',\n",
       "       'SEMIO_LUST', 'SEMIO_ERL', 'SEMIO_KULT', 'SEMIO_RAT', 'SEMIO_KRIT',\n",
       "       'SEMIO_DOM', 'SEMIO_KAEM', 'SEMIO_PFLICHT', 'SEMIO_TRADV',\n",
       "       'SHOPPER_TYP', 'SOHO_KZ', 'VERS_TYP', 'ZABEOTYP', 'ANZ_PERSONEN',\n",
       "       'ANZ_TITEL', 'HH_EINKOMMEN_SCORE', 'W_KEIT_KIND_HH', 'WOHNDAUER_2008',\n",
       "       'ANZ_HAUSHALTE_AKTIV', 'ANZ_HH_TITEL', 'GEBAEUDETYP', 'KONSUMNAEHE',\n",
       "       'MIN_GEBAEUDEJAHR', 'OST_WEST_KZ', 'WOHNLAGE', 'CAMEO_DEUG_2015',\n",
       "       'CAMEO_DEU_2015', 'CAMEO_INTL_2015', 'KBA05_ANTG1', 'KBA05_ANTG2',\n",
       "       'KBA05_ANTG3', 'KBA05_ANTG4', 'KBA05_GBZ', 'BALLRAUM', 'EWDICHTE',\n",
       "       'INNENSTADT', 'GEBAEUDETYP_RASTER', 'KKK', 'MOBI_REGIO',\n",
       "       'ONLINE_AFFINITAET', 'REGIOTYP', 'KBA13_ANZAHL_PKW', 'PLZ8_ANTG1',\n",
       "       'PLZ8_ANTG2', 'PLZ8_ANTG3', 'PLZ8_ANTG4', 'PLZ8_BAUMAX', 'PLZ8_HHZ',\n",
       "       'PLZ8_GBZ', 'ARBEIT', 'ORTSGR_KLS9', 'RELAT_AB'],\n",
       "      dtype='object')"
      ]
     },
     "execution_count": 56,
     "metadata": {},
     "output_type": "execute_result"
    }
   ],
   "source": [
    "new_columns = azdias_row_less_20.columns\n",
    "new_columns"
   ]
  },
  {
   "cell_type": "code",
   "execution_count": 57,
   "metadata": {},
   "outputs": [
    {
     "name": "stdout",
     "output_type": "stream",
     "text": [
      "['ANREDE_KZ', 'FINANZ_MINIMALIST', 'FINANZ_SPARER', 'FINANZ_VORSORGER', 'FINANZ_ANLEGER']\n"
     ]
    }
   ],
   "source": [
    "# Compare the distribution of values for at least five columns, (choose 5 columns)\n",
    "# where there are no or few missing values (at these 5 columns),between the two subsets (of varied missing row values).\n",
    "\n",
    "missing_values=n2_azdias.isnull()\n",
    "missings_per_column=missing_values.sum()\n",
    "no_missings_columns = missings_per_column[missings_per_column.values == 0].index.tolist()\n",
    "comparison_columns = no_missings_columns[:5]\n",
    "print(comparison_columns)"
   ]
  },
  {
   "cell_type": "code",
   "execution_count": 58,
   "metadata": {},
   "outputs": [
    {
     "data": {
      "image/png": "[encoded data removed]",
      "text/plain": [
       "<Figure size 1080x360 with 2 Axes>"
      ]
     },
     "metadata": {
      "needs_background": "light"
     },
     "output_type": "display_data"
    },
    {
     "data": {
      "image/png": "[encoded data removed]",
      "text/plain": [
       "<Figure size 1080x360 with 2 Axes>"
      ]
     },
     "metadata": {
      "needs_background": "light"
     },
     "output_type": "display_data"
    },
    {
     "data": {
      "image/png": "[encoded data removed]",
      "text/plain": [
       "<Figure size 1080x360 with 2 Axes>"
      ]
     },
     "metadata": {
      "needs_background": "light"
     },
     "output_type": "display_data"
    },
    {
     "data": {
      "image/png": "[encoded data removed]",
      "text/plain": [
       "<Figure size 1080x360 with 2 Axes>"
      ]
     },
     "metadata": {
      "needs_background": "light"
     },
     "output_type": "display_data"
    },
    {
     "data": {
      "image/png": "[encoded data removed]",
      "text/plain": [
       "<Figure size 1080x360 with 2 Axes>"
      ]
     },
     "metadata": {
      "needs_background": "light"
     },
     "output_type": "display_data"
    }
   ],
   "source": [
    "# I'll plot distributin graphs to compare btwn the five culomns in the two subsets\n",
    "\n",
    "def compare_columns(column):\n",
    "    plt.figure(figsize=(15,5))\n",
    "    plt.subplot(1,2,2)\n",
    "    plt.title('More than 20 missing Row Values')\n",
    "    sns.countplot(azdias_row_more_20[column])\n",
    "    plt.subplot(1,2,1)\n",
    "    plt.title('Less than 20 missing Row Values')\n",
    "    sns.countplot(azdias_row_less_20[column])\n",
    "    \n",
    "for x in range(5):\n",
    "    compare_columns(comparison_columns[x])    \n",
    "    plt.show()"
   ]
  },
  {
   "cell_type": "markdown",
   "metadata": {},
   "source": [
    "#### Discussion 1.1.3: Assess Missing Data in Each Row\n",
    "\n",
    "We can notice from the plots above that only one column ('ANREDE_KZ') is similar in the tow subsets. the other columns are diffrent from each other (between the tow sublists)"
   ]
  },
  {
   "cell_type": "markdown",
   "metadata": {},
   "source": [
    "### Step 1.2: Select and Re-Encode Features\n",
    "\n",
    "Checking for missing data isn't the only way in which you can prepare a dataset for analysis. Since the **unsupervised learning techniques to be used will only work on data that is encoded numerically**, you need to make a few encoding changes or additional assumptions to be able to make progress. In addition, while almost all of the values in the dataset are encoded using numbers, not all of them represent numeric values. Check the third column of the feature summary (`feat_info`) for a summary of types of measurement.\n",
    "- For numeric and interval data, these features can be kept without changes.\n",
    "- Most of the variables in the dataset are ordinal in nature. While ordinal values may technically be non-linear in spacing, make the simplifying assumption that the ordinal variables can be treated as being interval in nature (that is, kept without any changes).\n",
    "- Special handling may be necessary for the remaining two variable types: categorical, and 'mixed'.\n",
    "\n",
    "In the first two parts of this sub-step, you will perform an investigation of the categorical and mixed-type features and make a decision on each of them, whether you will keep, drop, or re-encode each. Then, in the last part, you will create a new data frame with only the selected and engineered columns.\n",
    "\n",
    "Data wrangling is often the trickiest part of the data analysis process, and there's a lot of it to be done here. But stick with it: once you're done with this step, you'll be ready to get to the machine learning parts of the project!"
   ]
  },
  {
   "cell_type": "code",
   "execution_count": 59,
   "metadata": {},
   "outputs": [
    {
     "data": {
      "text/html": [
       "<div>\n",
       "<style scoped>\n",
       "    .dataframe tbody tr th:only-of-type {\n",
       "        vertical-align: middle;\n",
       "    }\n",
       "\n",
       "    .dataframe tbody tr th {\n",
       "        vertical-align: top;\n",
       "    }\n",
       "\n",
       "    .dataframe thead th {\n",
       "        text-align: right;\n",
       "    }\n",
       "</style>\n",
       "<table border=\"1\" class=\"dataframe\">\n",
       "  <thead>\n",
       "    <tr style=\"text-align: right;\">\n",
       "      <th></th>\n",
       "      <th>attribute</th>\n",
       "      <th>information_level</th>\n",
       "      <th>type</th>\n",
       "      <th>missing_or_unknown</th>\n",
       "    </tr>\n",
       "  </thead>\n",
       "  <tbody>\n",
       "    <tr>\n",
       "      <th>0</th>\n",
       "      <td>AGER_TYP</td>\n",
       "      <td>person</td>\n",
       "      <td>categorical</td>\n",
       "      <td>[-1,0]</td>\n",
       "    </tr>\n",
       "    <tr>\n",
       "      <th>1</th>\n",
       "      <td>ALTERSKATEGORIE_GROB</td>\n",
       "      <td>person</td>\n",
       "      <td>ordinal</td>\n",
       "      <td>[-1,0,9]</td>\n",
       "    </tr>\n",
       "  </tbody>\n",
       "</table>\n",
       "</div>"
      ],
      "text/plain": [
       "              attribute information_level         type missing_or_unknown\n",
       "0              AGER_TYP            person  categorical             [-1,0]\n",
       "1  ALTERSKATEGORIE_GROB            person      ordinal           [-1,0,9]"
      ]
     },
     "execution_count": 59,
     "metadata": {},
     "output_type": "execute_result"
    }
   ],
   "source": [
    "feat_info.head(2)"
   ]
  },
  {
   "cell_type": "code",
   "execution_count": 60,
   "metadata": {},
   "outputs": [
    {
     "data": {
      "text/plain": [
       "array(['categorical', 'ordinal', 'numeric', 'mixed', 'interval'],\n",
       "      dtype=object)"
      ]
     },
     "execution_count": 60,
     "metadata": {},
     "output_type": "execute_result"
    }
   ],
   "source": [
    "dftypes= feat_info['type'].unique()\n",
    "dftypes"
   ]
  },
  {
   "cell_type": "code",
   "execution_count": 61,
   "metadata": {},
   "outputs": [
    {
     "data": {
      "text/plain": [
       "ordinal        49\n",
       "categorical    21\n",
       "numeric         7\n",
       "mixed           7\n",
       "interval        1\n",
       "Name: type, dtype: int64"
      ]
     },
     "execution_count": 61,
     "metadata": {},
     "output_type": "execute_result"
    }
   ],
   "source": [
    "# How many features are there of each data type?\n",
    "feat_info.type.value_counts()"
   ]
  },
  {
   "cell_type": "markdown",
   "metadata": {},
   "source": [
    "#### Step 1.2.1: Re-Encode Categorical Features\n",
    "\n",
    "For categorical data, you would ordinarily need to encode the levels as dummy variables. Depending on the number of categories, perform one of the following:\n",
    "- For binary (two-level) categoricals that take numeric values, you can keep them without needing to do anything.\n",
    "- There is one binary variable that takes on non-numeric values. For this one, you need to re-encode the values as numbers or create a dummy variable.\n",
    "- For multi-level categoricals (three or more values), you can choose to encode the values using multiple dummy variables (e.g. via [OneHotEncoder](http://scikit-learn.org/stable/modules/generated/sklearn.preprocessing.OneHotEncoder.html)), or (to keep things straightforward) just drop them from the analysis. As always, document your choices in the Discussion section."
   ]
  },
  {
   "cell_type": "code",
   "execution_count": 62,
   "metadata": {},
   "outputs": [
    {
     "data": {
      "text/plain": [
       "Index(['ALTERSKATEGORIE_GROB', 'ANREDE_KZ', 'CJT_GESAMTTYP',\n",
       "       'FINANZ_MINIMALIST', 'FINANZ_SPARER', 'FINANZ_VORSORGER',\n",
       "       'FINANZ_ANLEGER', 'FINANZ_UNAUFFAELLIGER', 'FINANZ_HAUSBAUER',\n",
       "       'FINANZTYP', 'GFK_URLAUBERTYP', 'GREEN_AVANTGARDE', 'HEALTH_TYP',\n",
       "       'LP_LEBENSPHASE_FEIN', 'LP_LEBENSPHASE_GROB', 'LP_FAMILIE_FEIN',\n",
       "       'LP_FAMILIE_GROB', 'LP_STATUS_FEIN', 'LP_STATUS_GROB',\n",
       "       'NATIONALITAET_KZ', 'PRAEGENDE_JUGENDJAHRE', 'RETOURTYP_BK_S',\n",
       "       'SEMIO_SOZ', 'SEMIO_FAM', 'SEMIO_REL', 'SEMIO_MAT', 'SEMIO_VERT',\n",
       "       'SEMIO_LUST', 'SEMIO_ERL', 'SEMIO_KULT', 'SEMIO_RAT', 'SEMIO_KRIT',\n",
       "       'SEMIO_DOM', 'SEMIO_KAEM', 'SEMIO_PFLICHT', 'SEMIO_TRADV',\n",
       "       'SHOPPER_TYP', 'SOHO_KZ', 'VERS_TYP', 'ZABEOTYP', 'ANZ_PERSONEN',\n",
       "       'ANZ_TITEL', 'HH_EINKOMMEN_SCORE', 'W_KEIT_KIND_HH', 'WOHNDAUER_2008',\n",
       "       'ANZ_HAUSHALTE_AKTIV', 'ANZ_HH_TITEL', 'GEBAEUDETYP', 'KONSUMNAEHE',\n",
       "       'MIN_GEBAEUDEJAHR', 'OST_WEST_KZ', 'WOHNLAGE', 'CAMEO_DEUG_2015',\n",
       "       'CAMEO_DEU_2015', 'CAMEO_INTL_2015', 'KBA05_ANTG1', 'KBA05_ANTG2',\n",
       "       'KBA05_ANTG3', 'KBA05_ANTG4', 'KBA05_GBZ', 'BALLRAUM', 'EWDICHTE',\n",
       "       'INNENSTADT', 'GEBAEUDETYP_RASTER', 'KKK', 'MOBI_REGIO',\n",
       "       'ONLINE_AFFINITAET', 'REGIOTYP', 'KBA13_ANZAHL_PKW', 'PLZ8_ANTG1',\n",
       "       'PLZ8_ANTG2', 'PLZ8_ANTG3', 'PLZ8_ANTG4', 'PLZ8_BAUMAX', 'PLZ8_HHZ',\n",
       "       'PLZ8_GBZ', 'ARBEIT', 'ORTSGR_KLS9', 'RELAT_AB'],\n",
       "      dtype='object')"
      ]
     },
     "execution_count": 62,
     "metadata": {},
     "output_type": "execute_result"
    }
   ],
   "source": [
    "new_columns"
   ]
  },
  {
   "cell_type": "code",
   "execution_count": 63,
   "metadata": {},
   "outputs": [
    {
     "data": {
      "text/plain": [
       "['AGER_TYP',\n",
       " 'ANREDE_KZ',\n",
       " 'CJT_GESAMTTYP',\n",
       " 'FINANZTYP',\n",
       " 'GFK_URLAUBERTYP',\n",
       " 'GREEN_AVANTGARDE',\n",
       " 'LP_FAMILIE_FEIN',\n",
       " 'LP_FAMILIE_GROB',\n",
       " 'LP_STATUS_FEIN',\n",
       " 'LP_STATUS_GROB',\n",
       " 'NATIONALITAET_KZ',\n",
       " 'SHOPPER_TYP',\n",
       " 'SOHO_KZ',\n",
       " 'TITEL_KZ',\n",
       " 'VERS_TYP',\n",
       " 'ZABEOTYP',\n",
       " 'KK_KUNDENTYP',\n",
       " 'GEBAEUDETYP',\n",
       " 'OST_WEST_KZ',\n",
       " 'CAMEO_DEUG_2015',\n",
       " 'CAMEO_DEU_2015']"
      ]
     },
     "execution_count": 63,
     "metadata": {},
     "output_type": "execute_result"
    }
   ],
   "source": [
    "# Assess categorical variables: which are binary, which are multi-level, and\n",
    "# which one needs to be re-encoded?\n",
    "\n",
    "cat_feat = feat_info[feat_info['type'] == 'categorical']\n",
    "cat_attributes = list(cat_feat['attribute'])\n",
    "cat_attributes"
   ]
  },
  {
   "cell_type": "code",
   "execution_count": 64,
   "metadata": {},
   "outputs": [
    {
     "data": {
      "text/plain": [
       "['ANREDE_KZ',\n",
       " 'CJT_GESAMTTYP',\n",
       " 'FINANZTYP',\n",
       " 'GFK_URLAUBERTYP',\n",
       " 'GREEN_AVANTGARDE',\n",
       " 'LP_FAMILIE_FEIN',\n",
       " 'LP_FAMILIE_GROB',\n",
       " 'LP_STATUS_FEIN',\n",
       " 'LP_STATUS_GROB',\n",
       " 'NATIONALITAET_KZ',\n",
       " 'SHOPPER_TYP',\n",
       " 'SOHO_KZ',\n",
       " 'VERS_TYP',\n",
       " 'ZABEOTYP',\n",
       " 'GEBAEUDETYP',\n",
       " 'OST_WEST_KZ',\n",
       " 'CAMEO_DEUG_2015',\n",
       " 'CAMEO_DEU_2015']"
      ]
     },
     "execution_count": 64,
     "metadata": {},
     "output_type": "execute_result"
    }
   ],
   "source": [
    "# To remove the columns from this list that are dropped earlier\n",
    "final_cat_attributes = []\n",
    "for column in cat_attributes:\n",
    "    if column in new_columns:\n",
    "        final_cat_attributes.append(column)\n",
    "\n",
    "final_cat_attributes"
   ]
  },
  {
   "cell_type": "code",
   "execution_count": 65,
   "metadata": {},
   "outputs": [
    {
     "name": "stdout",
     "output_type": "stream",
     "text": [
      "Binary categorical variables are:\n",
      "  ['ANREDE_KZ', 'GREEN_AVANTGARDE', 'SOHO_KZ', 'OST_WEST_KZ'] \n",
      "\n",
      "Multi-Level categorical variables are: ['CJT_GESAMTTYP', 'FINANZTYP', 'GFK_URLAUBERTYP', 'LP_FAMILIE_FEIN', 'LP_FAMILIE_GROB', 'LP_STATUS_FEIN', 'LP_STATUS_GROB', 'NATIONALITAET_KZ', 'SHOPPER_TYP', 'VERS_TYP', 'ZABEOTYP', 'GEBAEUDETYP', 'CAMEO_DEUG_2015', 'CAMEO_DEU_2015']\n"
     ]
    }
   ],
   "source": [
    "binary= []\n",
    "multi_level=[]\n",
    "for column in final_cat_attributes:\n",
    "    if (len(azdias_row_less_20[column].unique())==2):\n",
    "        binary.append(column)\n",
    "    else: \n",
    "        multi_level.append(column)\n",
    "print(\"Binary categorical variables are:\\n \",binary,'\\n')\n",
    "print(\"Multi-Level categorical variables are:\",multi_level)"
   ]
  },
  {
   "cell_type": "code",
   "execution_count": 66,
   "metadata": {},
   "outputs": [
    {
     "name": "stdout",
     "output_type": "stream",
     "text": [
      "Column: ANREDE_KZ Values: [2 1]\n",
      "Column: GREEN_AVANTGARDE Values: [0 1]\n",
      "Column: SOHO_KZ Values: [1. 0.]\n",
      "Column: OST_WEST_KZ Values: ['W' 'O']\n"
     ]
    }
   ],
   "source": [
    "# binary features inspection\n",
    "for i in binary:\n",
    "    print( 'Column:',i ,'Values:',azdias_row_less_20[i].unique())"
   ]
  },
  {
   "cell_type": "code",
   "execution_count": 67,
   "metadata": {},
   "outputs": [
    {
     "name": "stdout",
     "output_type": "stream",
     "text": [
      "Column: CJT_GESAMTTYP Values: [ 5.  3.  2.  4.  1.  6. nan]\n",
      "Column: FINANZTYP Values: [1 6 5 2 4 3]\n",
      "Column: GFK_URLAUBERTYP Values: [10.  1.  5. 12.  9.  3.  8. 11.  4.  2.  7.  6. nan]\n",
      "Column: LP_FAMILIE_FEIN Values: [ 5.  1. nan 10.  2.  7. 11.  8.  4.  6.  9.  3.]\n",
      "Column: LP_FAMILIE_GROB Values: [ 3.  1. nan  5.  2.  4.]\n",
      "Column: LP_STATUS_FEIN Values: [ 2.  3.  9.  4.  1. 10.  5.  8.  6.  7. nan]\n",
      "Column: LP_STATUS_GROB Values: [ 1.  2.  4.  5.  3. nan]\n",
      "Column: NATIONALITAET_KZ Values: [ 1.  3.  2. nan]\n",
      "Column: SHOPPER_TYP Values: [ 3.  2.  1.  0. nan]\n",
      "Column: VERS_TYP Values: [ 2.  1. nan]\n",
      "Column: ZABEOTYP Values: [5 3 4 1 6 2]\n",
      "Column: GEBAEUDETYP Values: [8. 1. 3. 2. 6. 4. 5.]\n",
      "Column: CAMEO_DEUG_2015 Values: ['8' '4' '2' '6' '1' '9' '5' '7' nan '3']\n",
      "Column: CAMEO_DEU_2015 Values: ['8A' '4C' '2A' '6B' '8C' '4A' '2D' '1A' '1E' '9D' '5C' '8B' '7A' '5D'\n",
      " '9E' nan '9B' '1B' '3D' '4E' '4B' '3C' '5A' '7B' '9A' '6D' '6E' '2C' '7C'\n",
      " '9C' '7D' '5E' '1D' '8D' '6C' '6A' '5B' '4D' '3A' '2B' '7E' '3B' '6F'\n",
      " '5F' '1C']\n"
     ]
    }
   ],
   "source": [
    "# Multi-Level features inspection\n",
    "for i in multi_level:\n",
    "    print( 'Column:',i ,'Values:',azdias_row_less_20[i].unique())"
   ]
  },
  {
   "cell_type": "code",
   "execution_count": null,
   "metadata": {},
   "outputs": [],
   "source": [
    "# Re-encode categorical variable(s) to be kept in the analysis"
   ]
  },
  {
   "cell_type": "code",
   "execution_count": null,
   "metadata": {},
   "outputs": [],
   "source": [
    "# Re-encode the binary attribute ('OST_WEST_KZ') since it's values are string"
   ]
  },
  {
   "cell_type": "code",
   "execution_count": 68,
   "metadata": {},
   "outputs": [
    {
     "data": {
      "text/plain": [
       "array(['W', 'O'], dtype=object)"
      ]
     },
     "execution_count": 68,
     "metadata": {},
     "output_type": "execute_result"
    }
   ],
   "source": [
    "azdias_row_less_20['OST_WEST_KZ'].unique()"
   ]
  },
  {
   "cell_type": "code",
   "execution_count": 69,
   "metadata": {},
   "outputs": [],
   "source": [
    "azdias_row_less_20['OST_WEST_KZ'].replace({'W': 0, 'O': 1},inplace=True)"
   ]
  },
  {
   "cell_type": "code",
   "execution_count": 70,
   "metadata": {},
   "outputs": [
    {
     "data": {
      "text/plain": [
       "array([0, 1])"
      ]
     },
     "execution_count": 70,
     "metadata": {},
     "output_type": "execute_result"
    }
   ],
   "source": [
    "azdias_row_less_20['OST_WEST_KZ'].unique()"
   ]
  },
  {
   "cell_type": "code",
   "execution_count": 71,
   "metadata": {},
   "outputs": [],
   "source": [
    "final_azdias = azdias_row_less_20"
   ]
  },
  {
   "cell_type": "code",
   "execution_count": 72,
   "metadata": {},
   "outputs": [],
   "source": [
    "# Drop the multi-level attributes\n",
    "for i in multi_level:\n",
    "    final_azdias=final_azdias.drop(i, axis=1)"
   ]
  },
  {
   "cell_type": "code",
   "execution_count": 73,
   "metadata": {},
   "outputs": [
    {
     "data": {
      "text/html": [
       "<div>\n",
       "<style scoped>\n",
       "    .dataframe tbody tr th:only-of-type {\n",
       "        vertical-align: middle;\n",
       "    }\n",
       "\n",
       "    .dataframe tbody tr th {\n",
       "        vertical-align: top;\n",
       "    }\n",
       "\n",
       "    .dataframe thead th {\n",
       "        text-align: right;\n",
       "    }\n",
       "</style>\n",
       "<table border=\"1\" class=\"dataframe\">\n",
       "  <thead>\n",
       "    <tr style=\"text-align: right;\">\n",
       "      <th></th>\n",
       "      <th>ALTERSKATEGORIE_GROB</th>\n",
       "      <th>ANREDE_KZ</th>\n",
       "      <th>FINANZ_MINIMALIST</th>\n",
       "      <th>FINANZ_SPARER</th>\n",
       "      <th>FINANZ_VORSORGER</th>\n",
       "      <th>FINANZ_ANLEGER</th>\n",
       "      <th>FINANZ_UNAUFFAELLIGER</th>\n",
       "      <th>FINANZ_HAUSBAUER</th>\n",
       "      <th>GREEN_AVANTGARDE</th>\n",
       "      <th>HEALTH_TYP</th>\n",
       "      <th>...</th>\n",
       "      <th>PLZ8_ANTG1</th>\n",
       "      <th>PLZ8_ANTG2</th>\n",
       "      <th>PLZ8_ANTG3</th>\n",
       "      <th>PLZ8_ANTG4</th>\n",
       "      <th>PLZ8_BAUMAX</th>\n",
       "      <th>PLZ8_HHZ</th>\n",
       "      <th>PLZ8_GBZ</th>\n",
       "      <th>ARBEIT</th>\n",
       "      <th>ORTSGR_KLS9</th>\n",
       "      <th>RELAT_AB</th>\n",
       "    </tr>\n",
       "  </thead>\n",
       "  <tbody>\n",
       "    <tr>\n",
       "      <th>1</th>\n",
       "      <td>1.0</td>\n",
       "      <td>2</td>\n",
       "      <td>1</td>\n",
       "      <td>5</td>\n",
       "      <td>2</td>\n",
       "      <td>5</td>\n",
       "      <td>4</td>\n",
       "      <td>5</td>\n",
       "      <td>0</td>\n",
       "      <td>3.0</td>\n",
       "      <td>...</td>\n",
       "      <td>2.0</td>\n",
       "      <td>3.0</td>\n",
       "      <td>2.0</td>\n",
       "      <td>1.0</td>\n",
       "      <td>1.0</td>\n",
       "      <td>5.0</td>\n",
       "      <td>4.0</td>\n",
       "      <td>3.0</td>\n",
       "      <td>5.0</td>\n",
       "      <td>4.0</td>\n",
       "    </tr>\n",
       "    <tr>\n",
       "      <th>2</th>\n",
       "      <td>3.0</td>\n",
       "      <td>2</td>\n",
       "      <td>1</td>\n",
       "      <td>4</td>\n",
       "      <td>1</td>\n",
       "      <td>2</td>\n",
       "      <td>3</td>\n",
       "      <td>5</td>\n",
       "      <td>1</td>\n",
       "      <td>3.0</td>\n",
       "      <td>...</td>\n",
       "      <td>3.0</td>\n",
       "      <td>3.0</td>\n",
       "      <td>1.0</td>\n",
       "      <td>0.0</td>\n",
       "      <td>1.0</td>\n",
       "      <td>4.0</td>\n",
       "      <td>4.0</td>\n",
       "      <td>3.0</td>\n",
       "      <td>5.0</td>\n",
       "      <td>2.0</td>\n",
       "    </tr>\n",
       "  </tbody>\n",
       "</table>\n",
       "<p>2 rows × 65 columns</p>\n",
       "</div>"
      ],
      "text/plain": [
       "   ALTERSKATEGORIE_GROB  ANREDE_KZ  FINANZ_MINIMALIST  FINANZ_SPARER  \\\n",
       "1                   1.0          2                  1              5   \n",
       "2                   3.0          2                  1              4   \n",
       "\n",
       "   FINANZ_VORSORGER  FINANZ_ANLEGER  FINANZ_UNAUFFAELLIGER  FINANZ_HAUSBAUER  \\\n",
       "1                 2               5                      4                 5   \n",
       "2                 1               2                      3                 5   \n",
       "\n",
       "   GREEN_AVANTGARDE  HEALTH_TYP  ...  PLZ8_ANTG1  PLZ8_ANTG2  PLZ8_ANTG3  \\\n",
       "1                 0         3.0  ...         2.0         3.0         2.0   \n",
       "2                 1         3.0  ...         3.0         3.0         1.0   \n",
       "\n",
       "   PLZ8_ANTG4  PLZ8_BAUMAX  PLZ8_HHZ  PLZ8_GBZ  ARBEIT  ORTSGR_KLS9  RELAT_AB  \n",
       "1         1.0          1.0       5.0       4.0     3.0          5.0       4.0  \n",
       "2         0.0          1.0       4.0       4.0     3.0          5.0       2.0  \n",
       "\n",
       "[2 rows x 65 columns]"
      ]
     },
     "execution_count": 73,
     "metadata": {},
     "output_type": "execute_result"
    }
   ],
   "source": [
    "final_azdias.head(2)"
   ]
  },
  {
   "cell_type": "code",
   "execution_count": 74,
   "metadata": {},
   "outputs": [
    {
     "data": {
      "text/plain": [
       "(797426, 65)"
      ]
     },
     "execution_count": 74,
     "metadata": {},
     "output_type": "execute_result"
    }
   ],
   "source": [
    "final_azdias.shape"
   ]
  },
  {
   "cell_type": "markdown",
   "metadata": {},
   "source": [
    "#### Discussion 1.2.1: Re-Encode Categorical Features\n",
    "\n",
    "To keep things straightforward, I just dropped the multi-level features from the analysis. While binary attributes were re-encoded"
   ]
  },
  {
   "cell_type": "markdown",
   "metadata": {},
   "source": [
    "#### Step 1.2.2: Engineer Mixed-Type Features\n",
    "\n",
    "There are a handful of features that are marked as \"mixed\" in the feature summary that require special treatment in order to be included in the analysis. There are two in particular that deserve attention; the handling of the rest are up to your own choices:\n",
    "- \"PRAEGENDE_JUGENDJAHRE\" combines information on three dimensions: generation by decade, movement (mainstream vs. avantgarde), and nation (east vs. west). While there aren't enough levels to disentangle east from west, you should create two new variables to capture the other two dimensions: an interval-type variable for decade, and a binary variable for movement.\n",
    "- \"CAMEO_INTL_2015\" combines information on two axes: wealth and life stage. Break up the two-digit codes by their 'tens'-place and 'ones'-place digits into two new ordinal variables (which, for the purposes of this project, is equivalent to just treating them as their raw numeric values).\n",
    "- If you decide to keep or engineer new features around the other mixed-type features, make sure you note your steps in the Discussion section.\n",
    "\n",
    "Be sure to check `Data_Dictionary.md` for the details needed to finish these tasks."
   ]
  },
  {
   "cell_type": "code",
   "execution_count": 75,
   "metadata": {},
   "outputs": [
    {
     "data": {
      "text/plain": [
       "array([14., 15.,  8.,  3., 10., 11.,  5.,  9.,  6.,  4., nan,  2.,  1.,\n",
       "       12., 13.,  7.])"
      ]
     },
     "execution_count": 75,
     "metadata": {},
     "output_type": "execute_result"
    }
   ],
   "source": [
    "# Investigate \"PRAEGENDE_JUGENDJAHRE\" and engineer two new variables,\n",
    "# (interval-type variable for decade, and a binary variable for movement)\n",
    "# generation by decade, movement (mainstream vs. avantgarde), and nation\n",
    "\n",
    "final_azdias['PRAEGENDE_JUGENDJAHRE'].unique()"
   ]
  },
  {
   "cell_type": "markdown",
   "metadata": {},
   "source": [
    "### Feature ' PRAEGENDE_JUGENDJAHRE '\n",
    "Dominating movement of person's youth (avantgarde vs. mainstream; east vs. west)\n",
    "- -1: unknown\n",
    "-  0: unknown\n",
    "-  1: 40s - war years (Mainstream, E+W)\n",
    "-  2: 40s - reconstruction years (Avantgarde, E+W)\n",
    "-  3: 50s - economic miracle (Mainstream, E+W)\n",
    "-  4: 50s - milk bar / Individualisation (Avantgarde, E+W)\n",
    "-  5: 60s - economic miracle (Mainstream, E+W)\n",
    "-  6: 60s - generation 68 / student protestors (Avantgarde, W)\n",
    "-  7: 60s - opponents to the building of the Wall (Avantgarde, E)\n",
    "-  8: 70s - family orientation (Mainstream, E+W)\n",
    "-  9: 70s - peace movement (Avantgarde, E+W)\n",
    "- 10: 80s - Generation Golf (Mainstream, W)\n",
    "- 11: 80s - ecological awareness (Avantgarde, W)\n",
    "- 12: 80s - FDJ / communist party youth organisation (Mainstream, E)\n",
    "- 13: 80s - Swords into ploughshares (Avantgarde, E)\n",
    "- 14: 90s - digital media kids (Mainstream, E+W)\n",
    "- 15: 90s - ecological awareness (Avantgarde, E+W)\n"
   ]
  },
  {
   "cell_type": "code",
   "execution_count": 76,
   "metadata": {},
   "outputs": [],
   "source": [
    "# movement variable: \n",
    "# -----------------------------------------------------------\n",
    "# mainstream :[1, 3, 5, 8, 10, 12, 14],\n",
    "# avantgarde :[2, 4, 6, 7, 9, 11, 13, 15]\n",
    "# So, 1= mainstream & 2= avantgarde\n",
    "# -----------------------------------------------------------\n",
    "\n",
    "movement_dictionary = {1:1,3:1,5:1,8:1,10:1,12:1,14:1,\n",
    "                       2:2,4:2,6:2,7:2,9:2,11:2,13:2,15:2}\n",
    "final_azdias['MOVEMENT']  = final_azdias[\"PRAEGENDE_JUGENDJAHRE\"].map(movement_dictionary)"
   ]
  },
  {
   "cell_type": "code",
   "execution_count": 77,
   "metadata": {},
   "outputs": [],
   "source": [
    "# generation variable:\n",
    "# -----------------------------------------------------------\n",
    "# generations:         {'40s': [1, 2], \n",
    "#                       '50s': [3, 4], \n",
    "#                       '60s': [5, 6, 7], \n",
    "#                       '70s': [8, 9], \n",
    "#                       '80s': [10, 11, 12, 13], \n",
    "#                       '90s':[14, 15]}\n",
    "# -----------------------------------------------------------\n",
    "generation_dictionary  = {1:1,2:1,\n",
    "                          3:2,4:2,\n",
    "                          5:3,6:3,7:3,\n",
    "                          8:4,9:4,\n",
    "                          10:5,11:5,12:5,13:5,\n",
    "                          14:6,15:6}\n",
    "final_azdias['DECADE'] = final_azdias[\"PRAEGENDE_JUGENDJAHRE\"].map(generation_dictionary)"
   ]
  },
  {
   "cell_type": "code",
   "execution_count": 78,
   "metadata": {},
   "outputs": [],
   "source": [
    "# nation variable: (east=1 vs. west=2, west+east=3)\n",
    "# -----------------------------------------------------------\n",
    "# nations =          'east':[7, 12, 13],\n",
    "#                    'west':[6, 10, 11],\n",
    "#                    'westeast':[1, 2, 3, 4, 5, 8, 9, 14, 15]}\n",
    "# -----------------------------------------------------------\n",
    "nation_dictionary = {7:1,12:1,13:1,\n",
    "                     6:2,10:2,11:2,\n",
    "                     1:3,2:3,3:3,4:3,5:3,8:3,9:3,14:3,15:3}\n",
    "final_azdias['NATION'] = final_azdias[\"PRAEGENDE_JUGENDJAHRE\"].map(nation_dictionary)"
   ]
  },
  {
   "cell_type": "code",
   "execution_count": 79,
   "metadata": {},
   "outputs": [],
   "source": [
    "# Remove \"PRAEGENDE_JUGENDJAHRE\" from the dataframe\n",
    "final_azdias.drop(\"PRAEGENDE_JUGENDJAHRE\", axis=1, inplace=True)"
   ]
  },
  {
   "cell_type": "code",
   "execution_count": 80,
   "metadata": {},
   "outputs": [
    {
     "data": {
      "text/html": [
       "<div>\n",
       "<style scoped>\n",
       "    .dataframe tbody tr th:only-of-type {\n",
       "        vertical-align: middle;\n",
       "    }\n",
       "\n",
       "    .dataframe tbody tr th {\n",
       "        vertical-align: top;\n",
       "    }\n",
       "\n",
       "    .dataframe thead th {\n",
       "        text-align: right;\n",
       "    }\n",
       "</style>\n",
       "<table border=\"1\" class=\"dataframe\">\n",
       "  <thead>\n",
       "    <tr style=\"text-align: right;\">\n",
       "      <th></th>\n",
       "      <th>NATION</th>\n",
       "      <th>DECADE</th>\n",
       "      <th>MOVEMENT</th>\n",
       "    </tr>\n",
       "  </thead>\n",
       "  <tbody>\n",
       "    <tr>\n",
       "      <th>1</th>\n",
       "      <td>3.0</td>\n",
       "      <td>6.0</td>\n",
       "      <td>1.0</td>\n",
       "    </tr>\n",
       "    <tr>\n",
       "      <th>2</th>\n",
       "      <td>3.0</td>\n",
       "      <td>6.0</td>\n",
       "      <td>2.0</td>\n",
       "    </tr>\n",
       "    <tr>\n",
       "      <th>3</th>\n",
       "      <td>3.0</td>\n",
       "      <td>4.0</td>\n",
       "      <td>1.0</td>\n",
       "    </tr>\n",
       "  </tbody>\n",
       "</table>\n",
       "</div>"
      ],
      "text/plain": [
       "   NATION  DECADE  MOVEMENT\n",
       "1     3.0     6.0       1.0\n",
       "2     3.0     6.0       2.0\n",
       "3     3.0     4.0       1.0"
      ]
     },
     "execution_count": 80,
     "metadata": {},
     "output_type": "execute_result"
    }
   ],
   "source": [
    "mixed_1 = final_azdias[['NATION','DECADE','MOVEMENT']]\n",
    "mixed_1.head(3)"
   ]
  },
  {
   "cell_type": "markdown",
   "metadata": {},
   "source": [
    "### Feature: CAMEO_INTL_2015\n",
    "German CAMEO: Wealth / Life Stage Typology, mapped to international code\n",
    "- -1: unknown\n",
    "- 11: Wealthy Households - Pre-Family Couples & Singles\n",
    "- 12: Wealthy Households - Young Couples With Children\n",
    "- 13: Wealthy Households - Families With School Age Children\n",
    "- 14: Wealthy Households - Older Families &  Mature Couples\n",
    "- 15: Wealthy Households - Elders In Retirement\n",
    "- 21: Prosperous Households - Pre-Family Couples & Singles\n",
    "- 22: Prosperous Households - Young Couples With Children\n",
    "- 23: Prosperous Households - Families With School Age Children\n",
    "- 24: Prosperous Households - Older Families & Mature Couples\n",
    "- 25: Prosperous Households - Elders In Retirement\n",
    "- 31: Comfortable Households - Pre-Family Couples & Singles\n",
    "- 32: Comfortable Households - Young Couples With Children\n",
    "- 33: Comfortable Households - Families With School Age Children\n",
    "- 34: Comfortable Households - Older Families & Mature Couples\n",
    "- 35: Comfortable Households - Elders In Retirement\n",
    "- 41: Less Affluent Households - Pre-Family Couples & Singles\n",
    "- 42: Less Affluent Households - Young Couples With Children\n",
    "- 43: Less Affluent Households - Families With School Age Children\n",
    "- 44: Less Affluent Households - Older Families & Mature Couples\n",
    "- 45: Less Affluent Households - Elders In Retirement\n",
    "- 51: Poorer Households - Pre-Family Couples & Singles\n",
    "- 52: Poorer Households - Young Couples With Children\n",
    "- 53: Poorer Households - Families With School Age Children\n",
    "- 54: Poorer Households - Older Families & Mature Couples\n",
    "- 55: Poorer Households - Elders In Retirement\n",
    "- XX: unknown"
   ]
  },
  {
   "cell_type": "markdown",
   "metadata": {},
   "source": [
    "combines information on two axes: wealth and life stage. Break up the two-digit codes by their 'tens'-place and 'ones'-place digits into two new ordinal variables (which, for the purposes of this project, is equivalent to just treating them as their raw numeric values)."
   ]
  },
  {
   "cell_type": "code",
   "execution_count": 81,
   "metadata": {},
   "outputs": [
    {
     "data": {
      "text/plain": [
       "array(['51', '24', '12', '43', '54', '22', '14', '13', '15', '33', '41',\n",
       "       '34', '55', nan, '25', '23', '31', '52', '35', '45', '44', '32'],\n",
       "      dtype=object)"
      ]
     },
     "execution_count": 81,
     "metadata": {},
     "output_type": "execute_result"
    }
   ],
   "source": [
    "# Investigate \"CAMEO_INTL_2015\" and engineer two new variables.\n",
    "final_azdias['CAMEO_INTL_2015'].unique()"
   ]
  },
  {
   "cell_type": "code",
   "execution_count": 82,
   "metadata": {},
   "outputs": [
    {
     "data": {
      "text/plain": [
       "2      12\n",
       "7      13\n",
       "6      14\n",
       "8      15\n",
       "5      22\n",
       "15     23\n",
       "1      24\n",
       "14     25\n",
       "16     31\n",
       "21     32\n",
       "9      33\n",
       "11     34\n",
       "18     35\n",
       "10     41\n",
       "3      43\n",
       "20     44\n",
       "19     45\n",
       "0      51\n",
       "17     52\n",
       "4      54\n",
       "12     55\n",
       "13    NaN\n",
       "dtype: object"
      ]
     },
     "execution_count": 82,
     "metadata": {},
     "output_type": "execute_result"
    }
   ],
   "source": [
    "pd.Series(final_azdias['CAMEO_INTL_2015'].unique()).sort_values()"
   ]
  },
  {
   "cell_type": "code",
   "execution_count": 83,
   "metadata": {},
   "outputs": [],
   "source": [
    "# wealth variable: Wealthy:1, Prosperous:2, Comfortable:3, Less Affluent:4, Poorer: 5\n",
    "final_azdias['WEALTH'] = final_azdias[\"CAMEO_INTL_2015\"].map({'11':1,'12':1,'13':1,'14':1,'15':1,\n",
    "                                                              '21':2,'22':2,'23':2,'24':2,'25':2,\n",
    "                                                              '31':3,'32':3,'33':3,'34':3,'35':3,\n",
    "                                                              '41':4,'42':4,'43':4,'44':4,'45':4,\n",
    "                                                              '51':5,'52':5,'53':5,'54':5,'55':5})\n",
    "# life stage variable: Pre-Family Couples & Singles:1, \n",
    "#                      Young Couples With Children:2, \n",
    "#                      Families With School Age Children:3, \n",
    "#                      Older Families &  Mature Couples:4, \n",
    "#                      Elders In Retirement:5\n",
    "final_azdias['LIFE_STAGE'] = final_azdias[\"CAMEO_INTL_2015\"].map({'11':1,'12':2,'13':3,'14':4,\n",
    "                                                                  '15':5,'21':1,'22':2,'23':3,\n",
    "                                                                  '24':4,'25':5,'31':1,'32':2,\n",
    "                                                                  '33':3,'34':4,'35':5,'41':1,\n",
    "                                                                  '42':2,'43':3,'44':4,'45':5,\n",
    "                                                                  '51':1,'52':2,'53':3,'54':4,'55':5})\n",
    "# Remove \"CAMEO_INTL_2015\" column from the dataframe\n",
    "final_azdias.drop(\"CAMEO_INTL_2015\", axis=1, inplace=True)"
   ]
  },
  {
   "cell_type": "code",
   "execution_count": 84,
   "metadata": {},
   "outputs": [
    {
     "data": {
      "text/html": [
       "<div>\n",
       "<style scoped>\n",
       "    .dataframe tbody tr th:only-of-type {\n",
       "        vertical-align: middle;\n",
       "    }\n",
       "\n",
       "    .dataframe tbody tr th {\n",
       "        vertical-align: top;\n",
       "    }\n",
       "\n",
       "    .dataframe thead th {\n",
       "        text-align: right;\n",
       "    }\n",
       "</style>\n",
       "<table border=\"1\" class=\"dataframe\">\n",
       "  <thead>\n",
       "    <tr style=\"text-align: right;\">\n",
       "      <th></th>\n",
       "      <th>LIFE_STAGE</th>\n",
       "      <th>WEALTH</th>\n",
       "    </tr>\n",
       "  </thead>\n",
       "  <tbody>\n",
       "    <tr>\n",
       "      <th>1</th>\n",
       "      <td>1.0</td>\n",
       "      <td>5.0</td>\n",
       "    </tr>\n",
       "    <tr>\n",
       "      <th>2</th>\n",
       "      <td>4.0</td>\n",
       "      <td>2.0</td>\n",
       "    </tr>\n",
       "    <tr>\n",
       "      <th>3</th>\n",
       "      <td>2.0</td>\n",
       "      <td>1.0</td>\n",
       "    </tr>\n",
       "  </tbody>\n",
       "</table>\n",
       "</div>"
      ],
      "text/plain": [
       "   LIFE_STAGE  WEALTH\n",
       "1         1.0     5.0\n",
       "2         4.0     2.0\n",
       "3         2.0     1.0"
      ]
     },
     "execution_count": 84,
     "metadata": {},
     "output_type": "execute_result"
    }
   ],
   "source": [
    "mixed_2 = final_azdias[['LIFE_STAGE','WEALTH']]\n",
    "mixed_2.head(3)"
   ]
  },
  {
   "cell_type": "markdown",
   "metadata": {},
   "source": [
    "#### Discussion 1.2.2: Engineer Mixed-Type Features\n",
    "\n",
    "'CAMEO_INTL_2015' attribute combines information on two axes: wealth and life stage. I broke up the two-digit codes by their 'tens'-place and 'ones'-place digits into two new ordinal variables ('LIFE_STAGE','WEALTH') Then dropped the CAMEO_INTL_2015 column from the dataframe "
   ]
  },
  {
   "cell_type": "markdown",
   "metadata": {},
   "source": [
    "#### Step 1.2.3: Complete Feature Selection\n",
    "\n",
    "In order to finish this step up, you need to make sure that your data frame now only has the columns that you want to keep. To summarize, the dataframe should consist of the following:\n",
    "- All numeric, interval, and ordinal type columns from the original dataset.\n",
    "- Binary categorical features (all numerically-encoded).\n",
    "- Engineered features from other multi-level categorical features and mixed features.\n",
    "\n",
    "Make sure that for any new columns that you have engineered, that you've excluded the original columns from the final dataset. Otherwise, their values will interfere with the analysis later on the project. For example, you should not keep \"PRAEGENDE_JUGENDJAHRE\", since its values won't be useful for the algorithm: only the values derived from it in the engineered features you created should be retained. As a reminder, your data should only be from **the subset with few or no missing values**."
   ]
  },
  {
   "cell_type": "code",
   "execution_count": null,
   "metadata": {},
   "outputs": [],
   "source": [
    "# If there are other re-engineering tasks you need to perform, make sure you\n",
    "# take care of them here. (Dealing with missing data will come in step 2.1.)"
   ]
  },
  {
   "cell_type": "code",
   "execution_count": 85,
   "metadata": {},
   "outputs": [
    {
     "name": "stdout",
     "output_type": "stream",
     "text": [
      "Shape of clean dataframe is: (797426, 68)\n",
      "Data types of all columns in the clean dataframe:\n",
      " ALTERSKATEGORIE_GROB     float64\n",
      "ANREDE_KZ                  int64\n",
      "FINANZ_MINIMALIST          int64\n",
      "FINANZ_SPARER              int64\n",
      "FINANZ_VORSORGER           int64\n",
      "FINANZ_ANLEGER             int64\n",
      "FINANZ_UNAUFFAELLIGER      int64\n",
      "FINANZ_HAUSBAUER           int64\n",
      "GREEN_AVANTGARDE           int64\n",
      "HEALTH_TYP               float64\n",
      "LP_LEBENSPHASE_FEIN      float64\n",
      "LP_LEBENSPHASE_GROB      float64\n",
      "RETOURTYP_BK_S           float64\n",
      "SEMIO_SOZ                  int64\n",
      "SEMIO_FAM                  int64\n",
      "SEMIO_REL                  int64\n",
      "SEMIO_MAT                  int64\n",
      "SEMIO_VERT                 int64\n",
      "SEMIO_LUST                 int64\n",
      "SEMIO_ERL                  int64\n",
      "SEMIO_KULT                 int64\n",
      "SEMIO_RAT                  int64\n",
      "SEMIO_KRIT                 int64\n",
      "SEMIO_DOM                  int64\n",
      "SEMIO_KAEM                 int64\n",
      "SEMIO_PFLICHT              int64\n",
      "SEMIO_TRADV                int64\n",
      "SOHO_KZ                  float64\n",
      "ANZ_PERSONEN             float64\n",
      "ANZ_TITEL                float64\n",
      "HH_EINKOMMEN_SCORE       float64\n",
      "W_KEIT_KIND_HH           float64\n",
      "WOHNDAUER_2008           float64\n",
      "ANZ_HAUSHALTE_AKTIV      float64\n",
      "ANZ_HH_TITEL             float64\n",
      "KONSUMNAEHE              float64\n",
      "MIN_GEBAEUDEJAHR         float64\n",
      "OST_WEST_KZ                int64\n",
      "WOHNLAGE                 float64\n",
      "KBA05_ANTG1              float64\n",
      "KBA05_ANTG2              float64\n",
      "KBA05_ANTG3              float64\n",
      "KBA05_ANTG4              float64\n",
      "KBA05_GBZ                float64\n",
      "BALLRAUM                 float64\n",
      "EWDICHTE                 float64\n",
      "INNENSTADT               float64\n",
      "GEBAEUDETYP_RASTER       float64\n",
      "KKK                      float64\n",
      "MOBI_REGIO               float64\n",
      "ONLINE_AFFINITAET        float64\n",
      "REGIOTYP                 float64\n",
      "KBA13_ANZAHL_PKW         float64\n",
      "PLZ8_ANTG1               float64\n",
      "PLZ8_ANTG2               float64\n",
      "PLZ8_ANTG3               float64\n",
      "PLZ8_ANTG4               float64\n",
      "PLZ8_BAUMAX              float64\n",
      "PLZ8_HHZ                 float64\n",
      "PLZ8_GBZ                 float64\n",
      "ARBEIT                   float64\n",
      "ORTSGR_KLS9              float64\n",
      "RELAT_AB                 float64\n",
      "MOVEMENT                 float64\n",
      "DECADE                   float64\n",
      "NATION                   float64\n",
      "WEALTH                   float64\n",
      "LIFE_STAGE               float64\n",
      "dtype: object\n"
     ]
    }
   ],
   "source": [
    "# Do whatever you need to in order to ensure that the dataframe only contains\n",
    "# the columns that should be passed to the algorithm functions.\n",
    "print('Shape of clean dataframe is:', final_azdias.shape)\n",
    "print('Data types of all columns in the clean dataframe:\\n', final_azdias.dtypes)"
   ]
  },
  {
   "cell_type": "markdown",
   "metadata": {},
   "source": [
    "### Step 1.3: Create a Cleaning Function\n",
    "\n",
    "Even though you've finished cleaning up the general population demographics data, it's important to look ahead to the future and realize that you'll need to perform the same cleaning steps on the customer demographics data. In this substep, complete the function below to execute the main feature selection, encoding, and re-engineering steps you performed above. Then, when it comes to looking at the customer data in Step 3, you can just run this function on that DataFrame to get the trimmed dataset in a single step."
   ]
  },
  {
   "cell_type": "code",
   "execution_count": 86,
   "metadata": {},
   "outputs": [],
   "source": [
    "def clean_data(df):\n",
    "    \"\"\"\n",
    "    Perform feature trimming, re-encoding, and engineering for demographics\n",
    "    data\n",
    "    \n",
    "    INPUT: Demographics DataFrame\n",
    "    OUTPUT: Trimmed and cleaned demographics DataFrame\n",
    "    \"\"\"\n",
    "    \n",
    "    # Put in code here to execute all main cleaning steps:\n",
    "    \n",
    "    # convert missing value codes into NaNs, ...\n",
    "    feat_info = pd.read_csv('AZDIAS_Feature_Summary.csv',sep=';')\n",
    "    # For each row in feat_info: \n",
    "    #                       Take each elemnt (string) of  the 'missing_or_unknown' colunm, \n",
    "    #                       Strip (remove) the [brkets],\n",
    "    #                       Split the string into a list, \n",
    "    #                       Convert the items of the list into integers using List comprehension (note we still have X,XX, and empty elemtns)\n",
    "    #                       Replace each correspending integer in azdias with NaN\n",
    "\n",
    "    for row in range(df.shape[1]): \n",
    "        elemnt = feat_info.loc[row,'missing_or_unknown']  #'loc' selects single value by row & column lable\n",
    "        a_list = elemnt.strip(\"[]\").split(sep=',') \n",
    "        a_list = [int(i) if (i!='X' and i!='XX' and i!='') else i for i in a_list]\n",
    "\n",
    "        if a_list!= ['']: \n",
    "            new_df = df.replace({feat_info.iloc[row]['attribute']: a_list}, np.nan,inplace=False) \n",
    "           #new_df is df with missing values converted to NaNs\n",
    "    #-------------------------------------------------\n",
    "    # remove selected columns and rows, ...\n",
    "    \n",
    "    # Columns with 200k and more missing values will be removed\n",
    "    outlier_columns = ['AGER_TYP', 'GEBURTSJAHR', 'TITEL_KZ', 'ALTER_HH', 'KK_KUNDENTYP', 'KBA05_BAUMAX']\n",
    "    df_clean = new_df.drop(outlier_columns, axis=1) \n",
    "    # df_clean is df with uotlier columns dropped\n",
    "    \n",
    "    ''' Rows with less than 20 missing data elemnt will be kept''' \n",
    "    #df_clean = df_clean[df_clean.isnull().sum(axis=1) <= 20], here, # df_clean is df with uotlier columns and rows dropped\n",
    "    #-------------------------------------------------\n",
    "    # select, re-encode, and engineer column values.\n",
    "    \n",
    "    # First: Select categorical columns (both binary and multilevel ones)\n",
    "    columns = list(df_clean.columns) # List of columns without outliers\n",
    "    columns_without_outliers = feat_info[feat_info['attribute'].isin(columns)]\n",
    "    categorical_columns = columns_without_outliers.loc[columns_without_outliers[\"type\"]==\"categorical\"]\n",
    "    \n",
    "    binary = []\n",
    "    multi_level = []\n",
    "    for col in categorical_columns['attribute']:\n",
    "        if len(df_clean[col].unique()) == 2:\n",
    "            binary.append(col)\n",
    "        else:\n",
    "            multi_level.append(col)\n",
    "            \n",
    "    # Second: re-encode binaary features & drop the multi-level features\n",
    "    df_clean['OST_WEST_KZ'].replace({'W': 0, 'O': 1},inplace=True)\n",
    "\n",
    "    for i in multi_level:\n",
    "        df_clean=df_clean.drop(i, axis=1)\n",
    "    \n",
    "    # Third: engineer column values (mixed type features in particular)\n",
    "    # 1: Feature 'PRAEGENDE_JUGENDJAHRE'\n",
    "    movement_dictionary = {1:1,3:1,5:1,8:1,10:1,12:1,14:1,\n",
    "                           2:2,4:2,6:2,7:2,9:2,11:2,13:2,15:2}\n",
    "    df_clean['MOVEMENT']  = df_clean[\"PRAEGENDE_JUGENDJAHRE\"].map(movement_dictionary)\n",
    "    \n",
    "    generation_dictionary  = {1:1,2:1,\n",
    "                              3:2,4:2,\n",
    "                              5:3,6:3,7:3,\n",
    "                              8:4,9:4,\n",
    "                              10:5,11:5,12:5,13:5,\n",
    "                              14:6,15:6}\n",
    "    df_clean['DECADE'] = df_clean[\"PRAEGENDE_JUGENDJAHRE\"].map(generation_dictionary)\n",
    "    \n",
    "    nation_dictionary = {7:1,12:1,13:1,\n",
    "                         6:2,10:2,11:2,\n",
    "                         1:3,2:3,3:3,4:3,5:3,8:3,9:3,14:3,15:3}\n",
    "    df_clean['NATION'] = df_clean[\"PRAEGENDE_JUGENDJAHRE\"].map(nation_dictionary)\n",
    "    \n",
    "    # Remove \"PRAEGENDE_JUGENDJAHRE\" from the dataframe\n",
    "    df_clean.drop(\"PRAEGENDE_JUGENDJAHRE\", axis=1, inplace=True)\n",
    "    \n",
    "    #2: Feature: 'CAMEO_INTL_2015'\n",
    "    df_clean['WEALTH'] = df_clean[\"CAMEO_INTL_2015\"].map({'11':1,'12':1,'13':1,'14':1,'15':1,\n",
    "                                                              '21':2,'22':2,'23':2,'24':2,'25':2,\n",
    "                                                              '31':3,'32':3,'33':3,'34':3,'35':3,\n",
    "                                                              '41':4,'42':4,'43':4,'44':4,'45':4,\n",
    "                                                              '51':5,'52':5,'53':5,'54':5,'55':5})\n",
    " \n",
    "    df_clean['LIFE_STAGE'] = df_clean[\"CAMEO_INTL_2015\"].map({'11':1,'12':2,'13':3,'14':4,\n",
    "                                                                  '15':5,'21':1,'22':2,'23':3,\n",
    "                                                                  '24':4,'25':5,'31':1,'32':2,\n",
    "                                                                  '33':3,'34':4,'35':5,'41':1,\n",
    "                                                                  '42':2,'43':3,'44':4,'45':5,\n",
    "                                                                  '51':1,'52':2,'53':3,'54':4,'55':5})\n",
    "    # Remove \"CAMEO_INTL_2015\" from the dataframe\n",
    "    df_clean.drop(\"CAMEO_INTL_2015\", axis=1, inplace=True)\n",
    "    #-------------------------------------------------\n",
    "    # Return the cleaned dataframe.\n",
    "    return df_clean"
   ]
  },
  {
   "cell_type": "code",
   "execution_count": 87,
   "metadata": {},
   "outputs": [],
   "source": [
    "# Test the cleaning function\n",
    "customers = pd.read_csv('Udacity_CUSTOMERS_Subset.csv', sep=';')"
   ]
  },
  {
   "cell_type": "code",
   "execution_count": 90,
   "metadata": {},
   "outputs": [],
   "source": [
    "customers_clean = clean_data(customers)"
   ]
  },
  {
   "cell_type": "code",
   "execution_count": 88,
   "metadata": {},
   "outputs": [
    {
     "data": {
      "text/plain": [
       "(191652, 85)"
      ]
     },
     "execution_count": 88,
     "metadata": {},
     "output_type": "execute_result"
    }
   ],
   "source": [
    "customers.shape"
   ]
  },
  {
   "cell_type": "code",
   "execution_count": 99,
   "metadata": {},
   "outputs": [
    {
     "data": {
      "text/plain": [
       "(191652, 66)"
      ]
     },
     "execution_count": 99,
     "metadata": {},
     "output_type": "execute_result"
    }
   ],
   "source": [
    "customers_clean.shape"
   ]
  },
  {
   "cell_type": "code",
   "execution_count": 100,
   "metadata": {},
   "outputs": [
    {
     "data": {
      "text/plain": [
       "Index(['ALTERSKATEGORIE_GROB', 'ANREDE_KZ', 'FINANZ_MINIMALIST',\n",
       "       'FINANZ_SPARER', 'FINANZ_VORSORGER', 'FINANZ_ANLEGER',\n",
       "       'FINANZ_UNAUFFAELLIGER', 'FINANZ_HAUSBAUER', 'GREEN_AVANTGARDE',\n",
       "       'HEALTH_TYP', 'LP_LEBENSPHASE_FEIN', 'LP_LEBENSPHASE_GROB',\n",
       "       'RETOURTYP_BK_S', 'SEMIO_SOZ', 'SEMIO_FAM', 'SEMIO_REL', 'SEMIO_MAT',\n",
       "       'SEMIO_VERT', 'SEMIO_LUST', 'SEMIO_ERL', 'SEMIO_KULT', 'SEMIO_RAT',\n",
       "       'SEMIO_KRIT', 'SEMIO_DOM', 'SEMIO_KAEM', 'SEMIO_PFLICHT', 'SEMIO_TRADV',\n",
       "       'ANZ_PERSONEN', 'ANZ_TITEL', 'HH_EINKOMMEN_SCORE', 'W_KEIT_KIND_HH',\n",
       "       'WOHNDAUER_2008', 'ANZ_HAUSHALTE_AKTIV', 'ANZ_HH_TITEL', 'KONSUMNAEHE',\n",
       "       'MIN_GEBAEUDEJAHR', 'WOHNLAGE', 'KBA05_ANTG1', 'KBA05_ANTG2',\n",
       "       'KBA05_ANTG3', 'KBA05_ANTG4', 'KBA05_GBZ', 'BALLRAUM', 'EWDICHTE',\n",
       "       'INNENSTADT', 'GEBAEUDETYP_RASTER', 'KKK', 'MOBI_REGIO',\n",
       "       'ONLINE_AFFINITAET', 'REGIOTYP', 'KBA13_ANZAHL_PKW', 'PLZ8_ANTG1',\n",
       "       'PLZ8_ANTG2', 'PLZ8_ANTG3', 'PLZ8_ANTG4', 'PLZ8_BAUMAX', 'PLZ8_HHZ',\n",
       "       'PLZ8_GBZ', 'ARBEIT', 'ORTSGR_KLS9', 'RELAT_AB', 'MOVEMENT', 'DECADE',\n",
       "       'NATION', 'WEALTH', 'LIFE_STAGE'],\n",
       "      dtype='object')"
      ]
     },
     "execution_count": 100,
     "metadata": {},
     "output_type": "execute_result"
    }
   ],
   "source": [
    "customers_clean.columns"
   ]
  },
  {
   "cell_type": "code",
   "execution_count": 92,
   "metadata": {},
   "outputs": [
    {
     "data": {
      "text/plain": [
       "(797426, 68)"
      ]
     },
     "execution_count": 92,
     "metadata": {},
     "output_type": "execute_result"
    }
   ],
   "source": [
    "final_azdias.shape"
   ]
  },
  {
   "cell_type": "code",
   "execution_count": 101,
   "metadata": {},
   "outputs": [
    {
     "data": {
      "text/plain": [
       "Index(['ALTERSKATEGORIE_GROB', 'ANREDE_KZ', 'FINANZ_MINIMALIST',\n",
       "       'FINANZ_SPARER', 'FINANZ_VORSORGER', 'FINANZ_ANLEGER',\n",
       "       'FINANZ_UNAUFFAELLIGER', 'FINANZ_HAUSBAUER', 'GREEN_AVANTGARDE',\n",
       "       'HEALTH_TYP', 'LP_LEBENSPHASE_FEIN', 'LP_LEBENSPHASE_GROB',\n",
       "       'RETOURTYP_BK_S', 'SEMIO_SOZ', 'SEMIO_FAM', 'SEMIO_REL', 'SEMIO_MAT',\n",
       "       'SEMIO_VERT', 'SEMIO_LUST', 'SEMIO_ERL', 'SEMIO_KULT', 'SEMIO_RAT',\n",
       "       'SEMIO_KRIT', 'SEMIO_DOM', 'SEMIO_KAEM', 'SEMIO_PFLICHT', 'SEMIO_TRADV',\n",
       "       'SOHO_KZ', 'ANZ_PERSONEN', 'ANZ_TITEL', 'HH_EINKOMMEN_SCORE',\n",
       "       'W_KEIT_KIND_HH', 'WOHNDAUER_2008', 'ANZ_HAUSHALTE_AKTIV',\n",
       "       'ANZ_HH_TITEL', 'KONSUMNAEHE', 'MIN_GEBAEUDEJAHR', 'OST_WEST_KZ',\n",
       "       'WOHNLAGE', 'KBA05_ANTG1', 'KBA05_ANTG2', 'KBA05_ANTG3', 'KBA05_ANTG4',\n",
       "       'KBA05_GBZ', 'BALLRAUM', 'EWDICHTE', 'INNENSTADT', 'GEBAEUDETYP_RASTER',\n",
       "       'KKK', 'MOBI_REGIO', 'ONLINE_AFFINITAET', 'REGIOTYP',\n",
       "       'KBA13_ANZAHL_PKW', 'PLZ8_ANTG1', 'PLZ8_ANTG2', 'PLZ8_ANTG3',\n",
       "       'PLZ8_ANTG4', 'PLZ8_BAUMAX', 'PLZ8_HHZ', 'PLZ8_GBZ', 'ARBEIT',\n",
       "       'ORTSGR_KLS9', 'RELAT_AB', 'MOVEMENT', 'DECADE', 'NATION', 'WEALTH',\n",
       "       'LIFE_STAGE'],\n",
       "      dtype='object')"
      ]
     },
     "execution_count": 101,
     "metadata": {},
     "output_type": "execute_result"
    }
   ],
   "source": [
    "final_azdias.columns"
   ]
  },
  {
   "cell_type": "code",
   "execution_count": 104,
   "metadata": {},
   "outputs": [
    {
     "name": "stdout",
     "output_type": "stream",
     "text": [
      "Index([], dtype='object')\n"
     ]
    }
   ],
   "source": [
    "print (customers_clean.columns.difference(final_azdias.columns))"
   ]
  },
  {
   "cell_type": "code",
   "execution_count": 105,
   "metadata": {},
   "outputs": [
    {
     "name": "stdout",
     "output_type": "stream",
     "text": [
      "Index(['OST_WEST_KZ', 'SOHO_KZ'], dtype='object')\n"
     ]
    }
   ],
   "source": [
    "print (final_azdias.columns.difference(customers_clean.columns))"
   ]
  },
  {
   "cell_type": "code",
   "execution_count": 106,
   "metadata": {},
   "outputs": [],
   "source": [
    " final_azdias=final_azdias.drop('OST_WEST_KZ', axis=1)"
   ]
  },
  {
   "cell_type": "code",
   "execution_count": 107,
   "metadata": {},
   "outputs": [],
   "source": [
    "final_azdias=final_azdias.drop('SOHO_KZ', axis=1)"
   ]
  },
  {
   "cell_type": "code",
   "execution_count": 108,
   "metadata": {},
   "outputs": [
    {
     "data": {
      "text/plain": [
       "(797426, 66)"
      ]
     },
     "execution_count": 108,
     "metadata": {},
     "output_type": "execute_result"
    }
   ],
   "source": [
    "final_azdias.shape"
   ]
  },
  {
   "cell_type": "markdown",
   "metadata": {},
   "source": [
    "## Step 2: Feature Transformation\n",
    "\n",
    "### Step 2.1: Apply Feature Scaling\n",
    "\n",
    "Before we apply dimensionality reduction techniques to the data, we need to perform feature scaling so that the principal component vectors are not influenced by the natural differences in scale for features. Starting from this part of the project, you'll want to keep an eye on the [API reference page for sklearn](http://scikit-learn.org/stable/modules/classes.html) to help you navigate to all of the classes and functions that you'll need. In this substep, you'll need to check the following:\n",
    "\n",
    "- sklearn requires that data not have missing values in order for its estimators to work properly. So, before applying the scaler to your data, make sure that you've cleaned the DataFrame of the remaining missing values. This can be as simple as just removing all data points with missing data, or applying an [Imputer](https://scikit-learn.org/0.16/modules/generated/sklearn.preprocessing.Imputer.html) to replace all missing values. You might also try a more complicated procedure where you temporarily remove missing values in order to compute the scaling parameters before re-introducing those missing values and applying imputation. Think about how much missing data you have and what possible effects each approach might have on your analysis, and justify your decision in the discussion section below.\n",
    "- For the actual scaling function, a [StandardScaler](http://scikit-learn.org/stable/modules/generated/sklearn.preprocessing.StandardScaler.html) instance is suggested, scaling each feature to mean 0 and standard deviation 1.\n",
    "- For these classes, you can make use of the `.fit_transform()` method to both fit a procedure to the data as well as apply the transformation to the data at the same time. Don't forget to keep the fit sklearn objects handy, since you'll be applying them to the customer demographics data towards the end of the project."
   ]
  },
  {
   "cell_type": "code",
   "execution_count": 109,
   "metadata": {},
   "outputs": [
    {
     "data": {
      "text/plain": [
       "(797426, 66)"
      ]
     },
     "execution_count": 109,
     "metadata": {},
     "output_type": "execute_result"
    }
   ],
   "source": [
    "final_azdias.shape"
   ]
  },
  {
   "cell_type": "code",
   "execution_count": 110,
   "metadata": {},
   "outputs": [],
   "source": [
    "# If you've not yet cleaned the dataset of all NaN values, then investigate and do that now.\n",
    "\n",
    "# Impute the missing values, i.e., infer them from the known part of the data\n",
    "from sklearn.impute import SimpleImputer\n",
    "\n",
    "imp = SimpleImputer(strategy='most_frequent')\n",
    "imputed_azdias = pd.DataFrame(imp.fit_transform(final_azdias))"
   ]
  },
  {
   "cell_type": "code",
   "execution_count": 111,
   "metadata": {},
   "outputs": [
    {
     "data": {
      "text/html": [
       "<div>\n",
       "<style scoped>\n",
       "    .dataframe tbody tr th:only-of-type {\n",
       "        vertical-align: middle;\n",
       "    }\n",
       "\n",
       "    .dataframe tbody tr th {\n",
       "        vertical-align: top;\n",
       "    }\n",
       "\n",
       "    .dataframe thead th {\n",
       "        text-align: right;\n",
       "    }\n",
       "</style>\n",
       "<table border=\"1\" class=\"dataframe\">\n",
       "  <thead>\n",
       "    <tr style=\"text-align: right;\">\n",
       "      <th></th>\n",
       "      <th>0</th>\n",
       "      <th>1</th>\n",
       "      <th>2</th>\n",
       "      <th>3</th>\n",
       "      <th>4</th>\n",
       "      <th>5</th>\n",
       "      <th>6</th>\n",
       "      <th>7</th>\n",
       "      <th>8</th>\n",
       "      <th>9</th>\n",
       "      <th>...</th>\n",
       "      <th>56</th>\n",
       "      <th>57</th>\n",
       "      <th>58</th>\n",
       "      <th>59</th>\n",
       "      <th>60</th>\n",
       "      <th>61</th>\n",
       "      <th>62</th>\n",
       "      <th>63</th>\n",
       "      <th>64</th>\n",
       "      <th>65</th>\n",
       "    </tr>\n",
       "  </thead>\n",
       "  <tbody>\n",
       "    <tr>\n",
       "      <th>0</th>\n",
       "      <td>1.0</td>\n",
       "      <td>2.0</td>\n",
       "      <td>1.0</td>\n",
       "      <td>5.0</td>\n",
       "      <td>2.0</td>\n",
       "      <td>5.0</td>\n",
       "      <td>4.0</td>\n",
       "      <td>5.0</td>\n",
       "      <td>0.0</td>\n",
       "      <td>3.0</td>\n",
       "      <td>...</td>\n",
       "      <td>5.0</td>\n",
       "      <td>4.0</td>\n",
       "      <td>3.0</td>\n",
       "      <td>5.0</td>\n",
       "      <td>4.0</td>\n",
       "      <td>1.0</td>\n",
       "      <td>6.0</td>\n",
       "      <td>3.0</td>\n",
       "      <td>5.0</td>\n",
       "      <td>1.0</td>\n",
       "    </tr>\n",
       "    <tr>\n",
       "      <th>1</th>\n",
       "      <td>3.0</td>\n",
       "      <td>2.0</td>\n",
       "      <td>1.0</td>\n",
       "      <td>4.0</td>\n",
       "      <td>1.0</td>\n",
       "      <td>2.0</td>\n",
       "      <td>3.0</td>\n",
       "      <td>5.0</td>\n",
       "      <td>1.0</td>\n",
       "      <td>3.0</td>\n",
       "      <td>...</td>\n",
       "      <td>4.0</td>\n",
       "      <td>4.0</td>\n",
       "      <td>3.0</td>\n",
       "      <td>5.0</td>\n",
       "      <td>2.0</td>\n",
       "      <td>2.0</td>\n",
       "      <td>6.0</td>\n",
       "      <td>3.0</td>\n",
       "      <td>2.0</td>\n",
       "      <td>4.0</td>\n",
       "    </tr>\n",
       "    <tr>\n",
       "      <th>2</th>\n",
       "      <td>4.0</td>\n",
       "      <td>2.0</td>\n",
       "      <td>4.0</td>\n",
       "      <td>2.0</td>\n",
       "      <td>5.0</td>\n",
       "      <td>2.0</td>\n",
       "      <td>1.0</td>\n",
       "      <td>2.0</td>\n",
       "      <td>0.0</td>\n",
       "      <td>2.0</td>\n",
       "      <td>...</td>\n",
       "      <td>3.0</td>\n",
       "      <td>4.0</td>\n",
       "      <td>2.0</td>\n",
       "      <td>3.0</td>\n",
       "      <td>3.0</td>\n",
       "      <td>1.0</td>\n",
       "      <td>4.0</td>\n",
       "      <td>3.0</td>\n",
       "      <td>1.0</td>\n",
       "      <td>2.0</td>\n",
       "    </tr>\n",
       "  </tbody>\n",
       "</table>\n",
       "<p>3 rows × 66 columns</p>\n",
       "</div>"
      ],
      "text/plain": [
       "    0    1    2    3    4    5    6    7    8    9   ...   56   57   58   59  \\\n",
       "0  1.0  2.0  1.0  5.0  2.0  5.0  4.0  5.0  0.0  3.0  ...  5.0  4.0  3.0  5.0   \n",
       "1  3.0  2.0  1.0  4.0  1.0  2.0  3.0  5.0  1.0  3.0  ...  4.0  4.0  3.0  5.0   \n",
       "2  4.0  2.0  4.0  2.0  5.0  2.0  1.0  2.0  0.0  2.0  ...  3.0  4.0  2.0  3.0   \n",
       "\n",
       "    60   61   62   63   64   65  \n",
       "0  4.0  1.0  6.0  3.0  5.0  1.0  \n",
       "1  2.0  2.0  6.0  3.0  2.0  4.0  \n",
       "2  3.0  1.0  4.0  3.0  1.0  2.0  \n",
       "\n",
       "[3 rows x 66 columns]"
      ]
     },
     "execution_count": 111,
     "metadata": {},
     "output_type": "execute_result"
    }
   ],
   "source": [
    "imputed_azdias.head(3)"
   ]
  },
  {
   "cell_type": "code",
   "execution_count": 112,
   "metadata": {},
   "outputs": [
    {
     "data": {
      "text/plain": [
       "0"
      ]
     },
     "execution_count": 112,
     "metadata": {},
     "output_type": "execute_result"
    }
   ],
   "source": [
    "imputed_azdias.isnull().sum().sum() "
   ]
  },
  {
   "cell_type": "code",
   "execution_count": 113,
   "metadata": {},
   "outputs": [],
   "source": [
    "# Apply feature scaling to the general population demographics data\n",
    "# i.e. Standardize features by removing the mean and scaling to unit variance\n",
    "from sklearn.preprocessing import StandardScaler\n",
    "\n",
    "scaler = StandardScaler()\n",
    "scaled_azdias = pd.DataFrame(scaler.fit_transform(imputed_azdias))"
   ]
  },
  {
   "cell_type": "code",
   "execution_count": 114,
   "metadata": {},
   "outputs": [
    {
     "data": {
      "text/html": [
       "<div>\n",
       "<style scoped>\n",
       "    .dataframe tbody tr th:only-of-type {\n",
       "        vertical-align: middle;\n",
       "    }\n",
       "\n",
       "    .dataframe tbody tr th {\n",
       "        vertical-align: top;\n",
       "    }\n",
       "\n",
       "    .dataframe thead th {\n",
       "        text-align: right;\n",
       "    }\n",
       "</style>\n",
       "<table border=\"1\" class=\"dataframe\">\n",
       "  <thead>\n",
       "    <tr style=\"text-align: right;\">\n",
       "      <th></th>\n",
       "      <th>0</th>\n",
       "      <th>1</th>\n",
       "      <th>2</th>\n",
       "      <th>3</th>\n",
       "      <th>4</th>\n",
       "      <th>5</th>\n",
       "      <th>6</th>\n",
       "      <th>7</th>\n",
       "      <th>8</th>\n",
       "      <th>9</th>\n",
       "      <th>...</th>\n",
       "      <th>56</th>\n",
       "      <th>57</th>\n",
       "      <th>58</th>\n",
       "      <th>59</th>\n",
       "      <th>60</th>\n",
       "      <th>61</th>\n",
       "      <th>62</th>\n",
       "      <th>63</th>\n",
       "      <th>64</th>\n",
       "      <th>65</th>\n",
       "    </tr>\n",
       "  </thead>\n",
       "  <tbody>\n",
       "    <tr>\n",
       "      <th>count</th>\n",
       "      <td>7.974260e+05</td>\n",
       "      <td>7.974260e+05</td>\n",
       "      <td>7.974260e+05</td>\n",
       "      <td>7.974260e+05</td>\n",
       "      <td>7.974260e+05</td>\n",
       "      <td>7.974260e+05</td>\n",
       "      <td>7.974260e+05</td>\n",
       "      <td>7.974260e+05</td>\n",
       "      <td>7.974260e+05</td>\n",
       "      <td>7.974260e+05</td>\n",
       "      <td>...</td>\n",
       "      <td>7.974260e+05</td>\n",
       "      <td>7.974260e+05</td>\n",
       "      <td>7.974260e+05</td>\n",
       "      <td>7.974260e+05</td>\n",
       "      <td>7.974260e+05</td>\n",
       "      <td>7.974260e+05</td>\n",
       "      <td>7.974260e+05</td>\n",
       "      <td>7.974260e+05</td>\n",
       "      <td>7.974260e+05</td>\n",
       "      <td>7.974260e+05</td>\n",
       "    </tr>\n",
       "    <tr>\n",
       "      <th>mean</th>\n",
       "      <td>-6.650437e-15</td>\n",
       "      <td>-9.867674e-15</td>\n",
       "      <td>-5.939413e-15</td>\n",
       "      <td>1.416197e-15</td>\n",
       "      <td>2.436810e-14</td>\n",
       "      <td>-1.211866e-14</td>\n",
       "      <td>1.928393e-14</td>\n",
       "      <td>1.642516e-14</td>\n",
       "      <td>-9.846672e-16</td>\n",
       "      <td>1.455145e-16</td>\n",
       "      <td>...</td>\n",
       "      <td>1.901510e-14</td>\n",
       "      <td>3.933226e-14</td>\n",
       "      <td>-2.526143e-14</td>\n",
       "      <td>2.613449e-15</td>\n",
       "      <td>-2.297042e-15</td>\n",
       "      <td>-9.846672e-16</td>\n",
       "      <td>-3.400551e-15</td>\n",
       "      <td>-1.819252e-14</td>\n",
       "      <td>2.081611e-14</td>\n",
       "      <td>2.579585e-15</td>\n",
       "    </tr>\n",
       "    <tr>\n",
       "      <th>std</th>\n",
       "      <td>1.000001e+00</td>\n",
       "      <td>1.000001e+00</td>\n",
       "      <td>1.000001e+00</td>\n",
       "      <td>1.000001e+00</td>\n",
       "      <td>1.000001e+00</td>\n",
       "      <td>1.000001e+00</td>\n",
       "      <td>1.000001e+00</td>\n",
       "      <td>1.000001e+00</td>\n",
       "      <td>1.000001e+00</td>\n",
       "      <td>1.000001e+00</td>\n",
       "      <td>...</td>\n",
       "      <td>1.000001e+00</td>\n",
       "      <td>1.000001e+00</td>\n",
       "      <td>1.000001e+00</td>\n",
       "      <td>1.000001e+00</td>\n",
       "      <td>1.000001e+00</td>\n",
       "      <td>1.000001e+00</td>\n",
       "      <td>1.000001e+00</td>\n",
       "      <td>1.000001e+00</td>\n",
       "      <td>1.000001e+00</td>\n",
       "      <td>1.000001e+00</td>\n",
       "    </tr>\n",
       "    <tr>\n",
       "      <th>min</th>\n",
       "      <td>-1.766334e+00</td>\n",
       "      <td>-1.043765e+00</td>\n",
       "      <td>-1.494609e+00</td>\n",
       "      <td>-1.155304e+00</td>\n",
       "      <td>-1.766955e+00</td>\n",
       "      <td>-1.249881e+00</td>\n",
       "      <td>-1.184467e+00</td>\n",
       "      <td>-1.502317e+00</td>\n",
       "      <td>-5.305674e-01</td>\n",
       "      <td>-1.633717e+00</td>\n",
       "      <td>...</td>\n",
       "      <td>-2.688401e+00</td>\n",
       "      <td>-2.159703e+00</td>\n",
       "      <td>-2.175136e+00</td>\n",
       "      <td>-1.868232e+00</td>\n",
       "      <td>-1.526103e+00</td>\n",
       "      <td>-5.305674e-01</td>\n",
       "      <td>-2.316187e+00</td>\n",
       "      <td>-3.251118e+00</td>\n",
       "      <td>-1.551476e+00</td>\n",
       "      <td>-1.249157e+00</td>\n",
       "    </tr>\n",
       "    <tr>\n",
       "      <th>25%</th>\n",
       "      <td>-7.828722e-01</td>\n",
       "      <td>-1.043765e+00</td>\n",
       "      <td>-7.686897e-01</td>\n",
       "      <td>-1.155304e+00</td>\n",
       "      <td>-1.040726e+00</td>\n",
       "      <td>-1.249881e+00</td>\n",
       "      <td>-1.184467e+00</td>\n",
       "      <td>-7.920337e-01</td>\n",
       "      <td>-5.305674e-01</td>\n",
       "      <td>-3.116745e-01</td>\n",
       "      <td>...</td>\n",
       "      <td>-6.166974e-01</td>\n",
       "      <td>-3.373370e-01</td>\n",
       "      <td>-1.716026e-01</td>\n",
       "      <td>-5.624168e-01</td>\n",
       "      <td>-7.891542e-01</td>\n",
       "      <td>-5.305674e-01</td>\n",
       "      <td>-9.502996e-01</td>\n",
       "      <td>5.081193e-01</td>\n",
       "      <td>-8.696736e-01</td>\n",
       "      <td>-1.249157e+00</td>\n",
       "    </tr>\n",
       "    <tr>\n",
       "      <th>50%</th>\n",
       "      <td>2.005893e-01</td>\n",
       "      <td>9.580705e-01</td>\n",
       "      <td>-4.276997e-02</td>\n",
       "      <td>1.914482e-01</td>\n",
       "      <td>4.117312e-01</td>\n",
       "      <td>1.082835e-01</td>\n",
       "      <td>-4.697522e-01</td>\n",
       "      <td>-8.175029e-02</td>\n",
       "      <td>-5.305674e-01</td>\n",
       "      <td>-3.116745e-01</td>\n",
       "      <td>...</td>\n",
       "      <td>-6.166974e-01</td>\n",
       "      <td>-3.373370e-01</td>\n",
       "      <td>-1.716026e-01</td>\n",
       "      <td>-1.271450e-01</td>\n",
       "      <td>-5.220488e-02</td>\n",
       "      <td>-5.305674e-01</td>\n",
       "      <td>4.155877e-01</td>\n",
       "      <td>5.081193e-01</td>\n",
       "      <td>4.939317e-01</td>\n",
       "      <td>9.484474e-02</td>\n",
       "    </tr>\n",
       "    <tr>\n",
       "      <th>75%</th>\n",
       "      <td>1.184051e+00</td>\n",
       "      <td>9.580705e-01</td>\n",
       "      <td>6.831497e-01</td>\n",
       "      <td>8.648242e-01</td>\n",
       "      <td>1.137960e+00</td>\n",
       "      <td>7.873659e-01</td>\n",
       "      <td>9.596769e-01</td>\n",
       "      <td>6.285331e-01</td>\n",
       "      <td>-5.305674e-01</td>\n",
       "      <td>1.010368e+00</td>\n",
       "      <td>...</td>\n",
       "      <td>4.191542e-01</td>\n",
       "      <td>5.738462e-01</td>\n",
       "      <td>8.301643e-01</td>\n",
       "      <td>7.433986e-01</td>\n",
       "      <td>6.847444e-01</td>\n",
       "      <td>-5.305674e-01</td>\n",
       "      <td>1.098531e+00</td>\n",
       "      <td>5.081193e-01</td>\n",
       "      <td>1.175734e+00</td>\n",
       "      <td>7.668454e-01</td>\n",
       "    </tr>\n",
       "    <tr>\n",
       "      <th>max</th>\n",
       "      <td>1.184051e+00</td>\n",
       "      <td>9.580705e-01</td>\n",
       "      <td>1.409069e+00</td>\n",
       "      <td>1.538200e+00</td>\n",
       "      <td>1.137960e+00</td>\n",
       "      <td>1.466448e+00</td>\n",
       "      <td>1.674391e+00</td>\n",
       "      <td>1.338816e+00</td>\n",
       "      <td>1.884775e+00</td>\n",
       "      <td>1.010368e+00</td>\n",
       "      <td>...</td>\n",
       "      <td>1.455006e+00</td>\n",
       "      <td>1.485029e+00</td>\n",
       "      <td>1.831931e+00</td>\n",
       "      <td>1.613942e+00</td>\n",
       "      <td>1.421694e+00</td>\n",
       "      <td>1.884775e+00</td>\n",
       "      <td>1.098531e+00</td>\n",
       "      <td>5.081193e-01</td>\n",
       "      <td>1.175734e+00</td>\n",
       "      <td>1.438846e+00</td>\n",
       "    </tr>\n",
       "  </tbody>\n",
       "</table>\n",
       "<p>8 rows × 66 columns</p>\n",
       "</div>"
      ],
      "text/plain": [
       "                 0             1             2             3             4   \\\n",
       "count  7.974260e+05  7.974260e+05  7.974260e+05  7.974260e+05  7.974260e+05   \n",
       "mean  -6.650437e-15 -9.867674e-15 -5.939413e-15  1.416197e-15  2.436810e-14   \n",
       "std    1.000001e+00  1.000001e+00  1.000001e+00  1.000001e+00  1.000001e+00   \n",
       "min   -1.766334e+00 -1.043765e+00 -1.494609e+00 -1.155304e+00 -1.766955e+00   \n",
       "25%   -7.828722e-01 -1.043765e+00 -7.686897e-01 -1.155304e+00 -1.040726e+00   \n",
       "50%    2.005893e-01  9.580705e-01 -4.276997e-02  1.914482e-01  4.117312e-01   \n",
       "75%    1.184051e+00  9.580705e-01  6.831497e-01  8.648242e-01  1.137960e+00   \n",
       "max    1.184051e+00  9.580705e-01  1.409069e+00  1.538200e+00  1.137960e+00   \n",
       "\n",
       "                 5             6             7             8             9   \\\n",
       "count  7.974260e+05  7.974260e+05  7.974260e+05  7.974260e+05  7.974260e+05   \n",
       "mean  -1.211866e-14  1.928393e-14  1.642516e-14 -9.846672e-16  1.455145e-16   \n",
       "std    1.000001e+00  1.000001e+00  1.000001e+00  1.000001e+00  1.000001e+00   \n",
       "min   -1.249881e+00 -1.184467e+00 -1.502317e+00 -5.305674e-01 -1.633717e+00   \n",
       "25%   -1.249881e+00 -1.184467e+00 -7.920337e-01 -5.305674e-01 -3.116745e-01   \n",
       "50%    1.082835e-01 -4.697522e-01 -8.175029e-02 -5.305674e-01 -3.116745e-01   \n",
       "75%    7.873659e-01  9.596769e-01  6.285331e-01 -5.305674e-01  1.010368e+00   \n",
       "max    1.466448e+00  1.674391e+00  1.338816e+00  1.884775e+00  1.010368e+00   \n",
       "\n",
       "       ...            56            57            58            59  \\\n",
       "count  ...  7.974260e+05  7.974260e+05  7.974260e+05  7.974260e+05   \n",
       "mean   ...  1.901510e-14  3.933226e-14 -2.526143e-14  2.613449e-15   \n",
       "std    ...  1.000001e+00  1.000001e+00  1.000001e+00  1.000001e+00   \n",
       "min    ... -2.688401e+00 -2.159703e+00 -2.175136e+00 -1.868232e+00   \n",
       "25%    ... -6.166974e-01 -3.373370e-01 -1.716026e-01 -5.624168e-01   \n",
       "50%    ... -6.166974e-01 -3.373370e-01 -1.716026e-01 -1.271450e-01   \n",
       "75%    ...  4.191542e-01  5.738462e-01  8.301643e-01  7.433986e-01   \n",
       "max    ...  1.455006e+00  1.485029e+00  1.831931e+00  1.613942e+00   \n",
       "\n",
       "                 60            61            62            63            64  \\\n",
       "count  7.974260e+05  7.974260e+05  7.974260e+05  7.974260e+05  7.974260e+05   \n",
       "mean  -2.297042e-15 -9.846672e-16 -3.400551e-15 -1.819252e-14  2.081611e-14   \n",
       "std    1.000001e+00  1.000001e+00  1.000001e+00  1.000001e+00  1.000001e+00   \n",
       "min   -1.526103e+00 -5.305674e-01 -2.316187e+00 -3.251118e+00 -1.551476e+00   \n",
       "25%   -7.891542e-01 -5.305674e-01 -9.502996e-01  5.081193e-01 -8.696736e-01   \n",
       "50%   -5.220488e-02 -5.305674e-01  4.155877e-01  5.081193e-01  4.939317e-01   \n",
       "75%    6.847444e-01 -5.305674e-01  1.098531e+00  5.081193e-01  1.175734e+00   \n",
       "max    1.421694e+00  1.884775e+00  1.098531e+00  5.081193e-01  1.175734e+00   \n",
       "\n",
       "                 65  \n",
       "count  7.974260e+05  \n",
       "mean   2.579585e-15  \n",
       "std    1.000001e+00  \n",
       "min   -1.249157e+00  \n",
       "25%   -1.249157e+00  \n",
       "50%    9.484474e-02  \n",
       "75%    7.668454e-01  \n",
       "max    1.438846e+00  \n",
       "\n",
       "[8 rows x 66 columns]"
      ]
     },
     "execution_count": 114,
     "metadata": {},
     "output_type": "execute_result"
    }
   ],
   "source": [
    "scaled_azdias.describe() "
   ]
  },
  {
   "cell_type": "markdown",
   "metadata": {},
   "source": [
    "### Discussion 2.1: Apply Feature Scaling\n",
    "\n",
    "First the NaN values of the cleaned azdias dataframe were imputed (i.e., inferred from the known part of the data) by most frequent values. Then the dataset features were scaled by removing the mean and scaling to unit variance"
   ]
  },
  {
   "cell_type": "markdown",
   "metadata": {},
   "source": [
    "### Step 2.2: Perform Dimensionality Reduction\n",
    "\n",
    "On your scaled data, you are now ready to apply dimensionality reduction techniques.\n",
    "\n",
    "- Use sklearn's [PCA](http://scikit-learn.org/stable/modules/generated/sklearn.decomposition.PCA.html) class to apply principal component analysis on the data, thus finding the vectors of maximal variance in the data. To start, you should not set any parameters (so all components are computed) or set a number of components that is at least half the number of features (so there's enough features to see the general trend in variability).\n",
    "- Check out the ratio of variance explained by each principal component as well as the cumulative variance explained. Try plotting the cumulative or sequential values using matplotlib's [`plot()`](https://matplotlib.org/api/_as_gen/matplotlib.pyplot.plot.html) function. Based on what you find, select a value for the number of transformed features you'll retain for the clustering part of the project.\n",
    "- Once you've made a choice for the number of components to keep, make sure you re-fit a PCA instance to perform the decided-on transformation."
   ]
  },
  {
   "cell_type": "code",
   "execution_count": 115,
   "metadata": {},
   "outputs": [],
   "source": [
    "# Apply PCA to the data.\n",
    "from sklearn.decomposition import PCA\n",
    "\n",
    "pca = PCA()\n",
    "pca_azdias = pca.fit_transform(scaled_azdias)"
   ]
  },
  {
   "cell_type": "code",
   "execution_count": 116,
   "metadata": {},
   "outputs": [
    {
     "data": {
      "image/png": "[encoded data removed]",
      "text/plain": [
       "<Figure size 432x288 with 1 Axes>"
      ]
     },
     "metadata": {
      "needs_background": "light"
     },
     "output_type": "display_data"
    }
   ],
   "source": [
    "# Investigate the variance accounted for by each principal component.\n",
    "plt.bar(range(len(pca.explained_variance_ratio_)), pca.explained_variance_ratio_);\n",
    "plt.title(\"Variance Explained per Each Component\");\n",
    "plt.xlabel(\"Principal Component\");\n",
    "plt.ylabel(\" Variance Explanation Ratio\");"
   ]
  },
  {
   "cell_type": "code",
   "execution_count": 117,
   "metadata": {},
   "outputs": [
    {
     "data": {
      "image/png": "[encoded data removed]",
      "text/plain": [
       "<Figure size 432x288 with 1 Axes>"
      ]
     },
     "metadata": {
      "needs_background": "light"
     },
     "output_type": "display_data"
    }
   ],
   "source": [
    "plt.plot(range(len(pca.explained_variance_ratio_)),np.cumsum(pca.explained_variance_ratio_), '-');\n",
    "plt.title(\"Cumulative Variance\");\n",
    "plt.xlabel(\"Principal Component\");\n",
    "plt.ylabel(\"Variance Explanation Ratio\");"
   ]
  },
  {
   "cell_type": "code",
   "execution_count": 118,
   "metadata": {},
   "outputs": [],
   "source": [
    "# Re-apply PCA to the data while selecting for number of components to retain.\n",
    "\n",
    "pca_50 = PCA(n_components=50)\n",
    "pca_azdias_50 = pca_50.fit_transform(scaled_azdias)"
   ]
  },
  {
   "cell_type": "code",
   "execution_count": 119,
   "metadata": {},
   "outputs": [
    {
     "data": {
      "text/plain": [
       "0.9706949301126957"
      ]
     },
     "execution_count": 119,
     "metadata": {},
     "output_type": "execute_result"
    }
   ],
   "source": [
    "pca.explained_variance_ratio_[:50].sum()"
   ]
  },
  {
   "cell_type": "markdown",
   "metadata": {},
   "source": [
    "### Discussion 2.2: Perform Dimensionality Reduction\n",
    "\n",
    "Judging from the above graphs, and the calculated explained variance ratio, 50 features accounts for almost 97% of the variance. So, the features will be reduced to 50 "
   ]
  },
  {
   "cell_type": "markdown",
   "metadata": {},
   "source": [
    "### Step 2.3: Interpret Principal Components\n",
    "\n",
    "Now that we have our transformed principal components, it's a nice idea to check out the weight of each variable on the first few components to see if they can be interpreted in some fashion.\n",
    "\n",
    "As a reminder, each principal component is a unit vector that points in the direction of highest variance (after accounting for the variance captured by earlier principal components). The further a weight is from zero, the more the principal component is in the direction of the corresponding feature. If two features have large weights of the same sign (both positive or both negative), then increases in one tend expect to be associated with increases in the other. To contrast, features with different signs can be expected to show a negative correlation: increases in one variable should result in a decrease in the other.\n",
    "\n",
    "- To investigate the features, you should map each weight to their corresponding feature name, then sort the features according to weight. The most interesting features for each principal component, then, will be those at the beginning and end of the sorted list. Use the data dictionary document to help you understand these most prominent features, their relationships, and what a positive or negative value on the principal component might indicate.\n",
    "- You should investigate and interpret feature associations from the first three principal components in this substep. To help facilitate this, you should write a function that you can call at any time to print the sorted list of feature weights, for the *i*-th principal component. This might come in handy in the next step of the project, when you interpret the tendencies of the discovered clusters."
   ]
  },
  {
   "cell_type": "code",
   "execution_count": 120,
   "metadata": {},
   "outputs": [
    {
     "data": {
      "text/plain": [
       "PLZ8_ANTG3               0.224037\n",
       "PLZ8_ANTG4               0.216961\n",
       "PLZ8_BAUMAX              0.213577\n",
       "WEALTH                   0.199680\n",
       "ORTSGR_KLS9              0.197593\n",
       "HH_EINKOMMEN_SCORE       0.196827\n",
       "EWDICHTE                 0.195460\n",
       "FINANZ_HAUSBAUER         0.162301\n",
       "PLZ8_ANTG2               0.153482\n",
       "KBA05_ANTG4              0.152233\n",
       "ARBEIT                   0.139550\n",
       "ANZ_HAUSHALTE_AKTIV      0.134500\n",
       "RELAT_AB                 0.133818\n",
       "KBA05_ANTG3              0.133188\n",
       "FINANZ_SPARER            0.122781\n",
       "SEMIO_PFLICHT            0.093187\n",
       "SEMIO_REL                0.090212\n",
       "DECADE                   0.082869\n",
       "SEMIO_RAT                0.076447\n",
       "SEMIO_TRADV              0.067056\n",
       "SEMIO_MAT                0.064755\n",
       "SEMIO_FAM                0.063296\n",
       "W_KEIT_KIND_HH           0.057736\n",
       "FINANZ_UNAUFFAELLIGER    0.057266\n",
       "REGIOTYP                 0.055353\n",
       "SEMIO_KULT               0.053836\n",
       "FINANZ_ANLEGER           0.048268\n",
       "SEMIO_KAEM               0.043610\n",
       "PLZ8_HHZ                 0.043339\n",
       "ANZ_HH_TITEL             0.035053\n",
       "SEMIO_SOZ                0.034415\n",
       "HEALTH_TYP               0.033509\n",
       "KKK                      0.033178\n",
       "SEMIO_DOM                0.026294\n",
       "KBA05_ANTG2              0.013691\n",
       "SEMIO_KRIT               0.013232\n",
       "ANREDE_KZ                0.011244\n",
       "NATION                   0.009127\n",
       "ANZ_TITEL               -0.003582\n",
       "RETOURTYP_BK_S          -0.003922\n",
       "SEMIO_VERT              -0.041353\n",
       "MIN_GEBAEUDEJAHR        -0.046983\n",
       "SEMIO_LUST              -0.055093\n",
       "WOHNDAUER_2008          -0.056295\n",
       "SEMIO_ERL               -0.057238\n",
       "ONLINE_AFFINITAET       -0.061092\n",
       "KBA13_ANZAHL_PKW        -0.073790\n",
       "WOHNLAGE                -0.086010\n",
       "FINANZ_VORSORGER        -0.091672\n",
       "ALTERSKATEGORIE_GROB    -0.094110\n",
       "ANZ_PERSONEN            -0.096038\n",
       "MOVEMENT                -0.103829\n",
       "GREEN_AVANTGARDE        -0.103829\n",
       "GEBAEUDETYP_RASTER      -0.117551\n",
       "LIFE_STAGE              -0.118670\n",
       "BALLRAUM                -0.127227\n",
       "LP_LEBENSPHASE_GROB     -0.133536\n",
       "LP_LEBENSPHASE_FEIN     -0.147634\n",
       "INNENSTADT              -0.164244\n",
       "PLZ8_GBZ                -0.165200\n",
       "KONSUMNAEHE             -0.167845\n",
       "FINANZ_MINIMALIST       -0.205118\n",
       "KBA05_ANTG1             -0.208559\n",
       "KBA05_GBZ               -0.211934\n",
       "MOBI_REGIO              -0.219770\n",
       "PLZ8_ANTG1              -0.223829\n",
       "Name: 0, dtype: float64"
      ]
     },
     "execution_count": 120,
     "metadata": {},
     "output_type": "execute_result"
    }
   ],
   "source": [
    "# Map weights for the first principal component to corresponding feature names\n",
    "# and then print the linked values, sorted by weight.\n",
    "# HINT: Try defining a function here or in a new cell that you can reuse in the\n",
    "# other cells.\n",
    "\n",
    "def map_weight(data,component):\n",
    "    pca_datframe = pd.DataFrame(data.components_, columns=list(final_azdias.columns) )\n",
    "    weight = pca_datframe.iloc[component].sort_values(ascending=False)\n",
    "    return weight\n",
    "\n",
    "# first principal component\n",
    "map_weight(pca_50,0)"
   ]
  },
  {
   "cell_type": "code",
   "execution_count": 121,
   "metadata": {},
   "outputs": [
    {
     "data": {
      "text/plain": [
       "ALTERSKATEGORIE_GROB     0.269410\n",
       "FINANZ_VORSORGER         0.242389\n",
       "SEMIO_ERL                0.235203\n",
       "SEMIO_LUST               0.188119\n",
       "RETOURTYP_BK_S           0.163230\n",
       "SEMIO_KRIT               0.114011\n",
       "W_KEIT_KIND_HH           0.113321\n",
       "SEMIO_KAEM               0.107098\n",
       "FINANZ_HAUSBAUER         0.099865\n",
       "ANREDE_KZ                0.088077\n",
       "FINANZ_MINIMALIST        0.087605\n",
       "EWDICHTE                 0.074110\n",
       "ORTSGR_KLS9              0.072744\n",
       "PLZ8_ANTG3               0.069780\n",
       "PLZ8_ANTG4               0.068830\n",
       "SEMIO_DOM                0.068467\n",
       "WOHNDAUER_2008           0.064198\n",
       "PLZ8_BAUMAX              0.063767\n",
       "KBA05_ANTG4              0.054314\n",
       "ARBEIT                   0.052249\n",
       "RELAT_AB                 0.051833\n",
       "WEALTH                   0.051341\n",
       "PLZ8_ANTG2               0.049234\n",
       "ANZ_HAUSHALTE_AKTIV      0.048000\n",
       "HH_EINKOMMEN_SCORE       0.034342\n",
       "NATION                   0.033592\n",
       "KBA05_ANTG3              0.032092\n",
       "ANZ_HH_TITEL             0.027425\n",
       "LIFE_STAGE               0.014882\n",
       "PLZ8_HHZ                 0.011546\n",
       "ANZ_TITEL                0.007373\n",
       "REGIOTYP                 0.002598\n",
       "GREEN_AVANTGARDE        -0.002207\n",
       "MOVEMENT                -0.002207\n",
       "KBA05_ANTG2             -0.002672\n",
       "KKK                     -0.006890\n",
       "KBA13_ANZAHL_PKW        -0.027941\n",
       "LP_LEBENSPHASE_FEIN     -0.028352\n",
       "GEBAEUDETYP_RASTER      -0.032659\n",
       "LP_LEBENSPHASE_GROB     -0.036313\n",
       "MIN_GEBAEUDEJAHR        -0.043540\n",
       "KBA05_ANTG1             -0.045541\n",
       "WOHNLAGE                -0.047431\n",
       "BALLRAUM                -0.048879\n",
       "MOBI_REGIO              -0.051122\n",
       "PLZ8_GBZ                -0.053271\n",
       "KONSUMNAEHE             -0.054136\n",
       "ANZ_PERSONEN            -0.058488\n",
       "INNENSTADT              -0.058937\n",
       "HEALTH_TYP              -0.062393\n",
       "KBA05_GBZ               -0.063346\n",
       "SEMIO_VERT              -0.063869\n",
       "PLZ8_ANTG1              -0.067123\n",
       "SEMIO_SOZ               -0.105341\n",
       "ONLINE_AFFINITAET       -0.160010\n",
       "SEMIO_MAT               -0.169000\n",
       "SEMIO_RAT               -0.178901\n",
       "SEMIO_FAM               -0.189917\n",
       "FINANZ_ANLEGER          -0.212397\n",
       "SEMIO_KULT              -0.224617\n",
       "FINANZ_UNAUFFAELLIGER   -0.231867\n",
       "SEMIO_TRADV             -0.237620\n",
       "SEMIO_PFLICHT           -0.238431\n",
       "FINANZ_SPARER           -0.248655\n",
       "DECADE                  -0.250804\n",
       "SEMIO_REL               -0.264534\n",
       "Name: 1, dtype: float64"
      ]
     },
     "execution_count": 121,
     "metadata": {},
     "output_type": "execute_result"
    }
   ],
   "source": [
    "# Map weights for the second principal component to corresponding feature names\n",
    "# and then print the linked values, sorted by weight.\n",
    "\n",
    "map_weight(pca_50,1)"
   ]
  },
  {
   "cell_type": "code",
   "execution_count": 122,
   "metadata": {},
   "outputs": [
    {
     "data": {
      "text/plain": [
       "SEMIO_VERT               0.345881\n",
       "SEMIO_SOZ                0.262106\n",
       "SEMIO_FAM                0.248975\n",
       "SEMIO_KULT               0.234676\n",
       "FINANZ_MINIMALIST        0.159891\n",
       "RETOURTYP_BK_S           0.106618\n",
       "FINANZ_VORSORGER         0.100660\n",
       "W_KEIT_KIND_HH           0.079361\n",
       "ALTERSKATEGORIE_GROB     0.077952\n",
       "SEMIO_REL                0.068672\n",
       "SEMIO_LUST               0.063416\n",
       "SEMIO_MAT                0.056178\n",
       "MOVEMENT                 0.055670\n",
       "GREEN_AVANTGARDE         0.055670\n",
       "ORTSGR_KLS9              0.048492\n",
       "EWDICHTE                 0.047586\n",
       "PLZ8_BAUMAX              0.047404\n",
       "PLZ8_ANTG4               0.045266\n",
       "PLZ8_ANTG3               0.043938\n",
       "WOHNDAUER_2008           0.033738\n",
       "ARBEIT                   0.033297\n",
       "RELAT_AB                 0.031592\n",
       "PLZ8_ANTG2               0.029928\n",
       "KBA05_ANTG4              0.024887\n",
       "WEALTH                   0.022415\n",
       "ANZ_HAUSHALTE_AKTIV      0.021988\n",
       "ANZ_HH_TITEL             0.012906\n",
       "ANZ_TITEL                0.010270\n",
       "LP_LEBENSPHASE_FEIN      0.009120\n",
       "KBA05_ANTG3              0.006648\n",
       "PLZ8_HHZ                 0.005732\n",
       "LP_LEBENSPHASE_GROB      0.003947\n",
       "ANZ_PERSONEN            -0.004499\n",
       "LIFE_STAGE              -0.006749\n",
       "NATION                  -0.007229\n",
       "KBA05_ANTG2             -0.007585\n",
       "REGIOTYP                -0.011187\n",
       "KBA05_ANTG1             -0.014361\n",
       "MIN_GEBAEUDEJAHR        -0.016782\n",
       "MOBI_REGIO              -0.019345\n",
       "KKK                     -0.019564\n",
       "KBA05_GBZ               -0.021667\n",
       "KBA13_ANZAHL_PKW        -0.022119\n",
       "WOHNLAGE                -0.024556\n",
       "HH_EINKOMMEN_SCORE      -0.025929\n",
       "GEBAEUDETYP_RASTER      -0.030107\n",
       "HEALTH_TYP              -0.033834\n",
       "BALLRAUM                -0.036281\n",
       "PLZ8_GBZ                -0.036738\n",
       "KONSUMNAEHE             -0.037700\n",
       "INNENSTADT              -0.043785\n",
       "PLZ8_ANTG1              -0.044270\n",
       "FINANZ_HAUSBAUER        -0.047715\n",
       "ONLINE_AFFINITAET       -0.049137\n",
       "SEMIO_TRADV             -0.077098\n",
       "SEMIO_PFLICHT           -0.078985\n",
       "FINANZ_UNAUFFAELLIGER   -0.098128\n",
       "FINANZ_SPARER           -0.107067\n",
       "DECADE                  -0.109779\n",
       "SEMIO_ERL               -0.176764\n",
       "FINANZ_ANLEGER          -0.191078\n",
       "SEMIO_RAT               -0.216242\n",
       "SEMIO_KRIT              -0.276435\n",
       "SEMIO_DOM               -0.312000\n",
       "SEMIO_KAEM              -0.335788\n",
       "ANREDE_KZ               -0.367688\n",
       "Name: 2, dtype: float64"
      ]
     },
     "execution_count": 122,
     "metadata": {},
     "output_type": "execute_result"
    }
   ],
   "source": [
    "# Map weights for the third principal component to corresponding feature names\n",
    "# and then print the linked values, sorted by weight.\n",
    "\n",
    "map_weight(pca_50,2)"
   ]
  },
  {
   "cell_type": "markdown",
   "metadata": {},
   "source": [
    "### Discussion 2.3: Interpret Principal Components\n",
    "\n",
    "The top five variables strognly correlated to the first principle companent are:  \n",
    "PLZ8_ANTG3               \n",
    "PLZ8_ANTG4               \n",
    "PLZ8_BAUMAX              \n",
    "WEALTH                   \n",
    "ORTSGR_KLS9              \n",
    "\n",
    "The first PC seems to be strongly correlated with the number of houses in diffrent locations, the size of the community, and the wealth.\n",
    "\n",
    "--------\n",
    "The top five variables strognly correlated to the second principle companent are:  \n",
    "ALTERSKATEGORIE_GROB     \n",
    "FINANZ_VORSORGER         \n",
    "SEMIO_ERL                \n",
    "SEMIO_LUST               \n",
    "RETOURTYP_BK_S             \n",
    "\n",
    "The second PC seems to be strongly correlated with the\n",
    "estimated age based on given name analysis, the financial situation, indivisual's personality, and the behevior of personal shopping.\n",
    "\n",
    "-----------\n",
    "The top five variables strognly correlated to the third principle companent are:  \n",
    "SEMIO_VERT               \n",
    "SEMIO_SOZ                \n",
    "SEMIO_FAM                \n",
    "SEMIO_KULT               \n",
    "FINANZ_MINIMALIST        \n",
    "\n",
    "The third PC seems to be strongly correlated with the general personality attributes and the financial situation.\n"
   ]
  },
  {
   "cell_type": "markdown",
   "metadata": {},
   "source": [
    "## Step 3: Clustering\n",
    "\n",
    "### Step 3.1: Apply Clustering to General Population\n",
    "\n",
    "You've assessed and cleaned the demographics data, then scaled and transformed them. Now, it's time to see how the data clusters in the principal components space. In this substep, you will apply k-means clustering to the dataset and use the average within-cluster distances from each point to their assigned cluster's centroid to decide on a number of clusters to keep.\n",
    "\n",
    "- Use sklearn's [KMeans](http://scikit-learn.org/stable/modules/generated/sklearn.cluster.KMeans.html#sklearn.cluster.KMeans) class to perform k-means clustering on the PCA-transformed data.\n",
    "- Then, compute the average difference from each point to its assigned cluster's center. **Hint**: The KMeans object's `.score()` method might be useful here, but note that in sklearn, scores tend to be defined so that larger is better. Try applying it to a small, toy dataset, or use an internet search to help your understanding.\n",
    "- Perform the above two steps for a number of different cluster counts. You can then see how the average distance decreases with an increasing number of clusters. However, each additional cluster provides a smaller net benefit. Use this fact to select a final number of clusters in which to group the data. **Warning**: because of the large size of the dataset, it can take a long time for the algorithm to resolve. The more clusters to fit, the longer the algorithm will take. You should test for cluster counts through at least 10 clusters to get the full picture, but you shouldn't need to test for a number of clusters above about 30.\n",
    "- Once you've selected a final number of clusters to use, re-fit a KMeans instance to perform the clustering operation. Make sure that you also obtain the cluster assignments for the general demographics data, since you'll be using them in the final Step 3.3."
   ]
  },
  {
   "cell_type": "code",
   "execution_count": 123,
   "metadata": {},
   "outputs": [],
   "source": [
    "from sklearn.cluster import KMeans\n",
    "\n",
    "def Kmean_score(data, n_cluster):\n",
    "    kmeans = KMeans(n_clusters = n_cluster)\n",
    "    model = kmeans.fit(data)\n",
    "    score = np.abs(model.score(data))\n",
    "    return score"
   ]
  },
  {
   "cell_type": "code",
   "execution_count": 124,
   "metadata": {},
   "outputs": [],
   "source": [
    "# Over a number of different cluster counts...\n",
    "K = list(range(1,10))\n",
    "\n",
    "    # run k-means clustering on the data and...\n",
    "    # compute the average within-cluster distances.\n",
    "scores = []\n",
    "for i in K:\n",
    "    scores.append(Kmean_score(pca_azdias_50, i))"
   ]
  },
  {
   "cell_type": "code",
   "execution_count": 125,
   "metadata": {},
   "outputs": [
    {
     "data": {
      "image/png": "[encoded data removed]",
      "text/plain": [
       "<Figure size 1080x360 with 1 Axes>"
      ]
     },
     "metadata": {
      "needs_background": "light"
     },
     "output_type": "display_data"
    }
   ],
   "source": [
    "# Investigate the change in within-cluster distance across number of clusters.\n",
    "# HINT: Use matplotlib's plot function to visualize this relationship.\n",
    "plt.figure(figsize=(15,5))\n",
    "plt.plot(K, scores, linestyle='-', marker='o')\n",
    "plt.grid(color='black', linestyle='-.', linewidth=0.3)\n",
    "plt.title('Change in within-cluster Distance')\n",
    "plt.xlabel('K');\n",
    "plt.ylabel('Sum of Squared Errors');"
   ]
  },
  {
   "cell_type": "code",
   "execution_count": 126,
   "metadata": {},
   "outputs": [],
   "source": [
    "# Re-fit the k-means model with the selected number of clusters and obtain\n",
    "# cluster predictions for the general population demographics data.\n",
    "kmeans = KMeans(n_clusters=10)\n",
    "model = kmeans.fit(pca_azdias_50)\n",
    "pred = model.predict(pca_azdias_50)"
   ]
  },
  {
   "cell_type": "markdown",
   "metadata": {},
   "source": [
    "### Discussion 3.1: Apply Clustering to General Population\n",
    "\n",
    "10 clusters seem to have smallest SSE. Due to computational challenges, I did't go for more than 10 clusters where the model perfermoance is expected to enhance."
   ]
  },
  {
   "cell_type": "markdown",
   "metadata": {},
   "source": [
    "### Step 3.2: Apply All Steps to the Customer Data\n",
    "\n",
    "Now that you have clusters and cluster centers for the general population, it's time to see how the customer data maps on to those clusters. Take care to not confuse this for re-fitting all of the models to the customer data. Instead, you're going to use the fits from the general population to clean, transform, and cluster the customer data. In the last step of the project, you will interpret how the general population fits apply to the customer data.\n",
    "\n",
    "- Don't forget when loading in the customers data, that it is semicolon (`;`) delimited.\n",
    "- Apply the same feature wrangling, selection, and engineering steps to the customer demographics using the `clean_data()` function you created earlier. (You can assume that the customer demographics data has similar meaning behind missing data patterns as the general demographics data.)\n",
    "- Use the sklearn objects from the general demographics data, and apply their transformations to the customers data. That is, you should not be using a `.fit()` or `.fit_transform()` method to re-fit the old objects, nor should you be creating new sklearn objects! Carry the data through the feature scaling, PCA, and clustering steps, obtaining cluster assignments for all of the data in the customer demographics data."
   ]
  },
  {
   "cell_type": "code",
   "execution_count": 129,
   "metadata": {},
   "outputs": [],
   "source": [
    "# Load in the customer demographics data.\n",
    "customers = pd.read_csv('Udacity_CUSTOMERS_Subset.csv', sep=';')"
   ]
  },
  {
   "cell_type": "code",
   "execution_count": 128,
   "metadata": {},
   "outputs": [
    {
     "data": {
      "text/plain": [
       "(191652, 85)"
      ]
     },
     "execution_count": 128,
     "metadata": {},
     "output_type": "execute_result"
    }
   ],
   "source": [
    "customers.shape"
   ]
  },
  {
   "cell_type": "code",
   "execution_count": 130,
   "metadata": {},
   "outputs": [],
   "source": [
    "# Apply preprocessing (cleaning) to the costumer data\n",
    "customers_clean = clean_data(customers)"
   ]
  },
  {
   "cell_type": "code",
   "execution_count": 131,
   "metadata": {},
   "outputs": [
    {
     "data": {
      "text/plain": [
       "(191652, 66)"
      ]
     },
     "execution_count": 131,
     "metadata": {},
     "output_type": "execute_result"
    }
   ],
   "source": [
    "customers_clean.shape"
   ]
  },
  {
   "cell_type": "code",
   "execution_count": null,
   "metadata": {},
   "outputs": [],
   "source": [
    "# Apply feature transformation to the costumer data "
   ]
  },
  {
   "cell_type": "code",
   "execution_count": 132,
   "metadata": {},
   "outputs": [],
   "source": [
    "# imputation\n",
    "imputed_customers = pd.DataFrame(imp.transform(customers_clean))"
   ]
  },
  {
   "cell_type": "code",
   "execution_count": 133,
   "metadata": {},
   "outputs": [],
   "source": [
    "# scaling\n",
    "scaled_customers = pd.DataFrame(scaler.transform(imputed_customers))"
   ]
  },
  {
   "cell_type": "code",
   "execution_count": 134,
   "metadata": {},
   "outputs": [
    {
     "name": "stdout",
     "output_type": "stream",
     "text": [
      "Customers data shape Before preprocessing: (191652, 85)\n",
      "Customers data shape After preprocessing: (191652, 66)\n"
     ]
    }
   ],
   "source": [
    "print('Customers data shape Before preprocessing:',customers.shape)\n",
    "print('Customers data shape After preprocessing:',customers_clean.shape)"
   ]
  },
  {
   "cell_type": "code",
   "execution_count": 136,
   "metadata": {},
   "outputs": [],
   "source": [
    "# Apply PCA to the customers data\n",
    "#pca = PCA(n_components=50) \n",
    "pca_customers = pca_50.transform(scaled_customers)"
   ]
  },
  {
   "cell_type": "code",
   "execution_count": 137,
   "metadata": {},
   "outputs": [],
   "source": [
    "# Apply clustering to the customer data\n",
    "#kmeans = KMeans(n_clusters=10)\n",
    "#model = kmeans.fit(pca_customers)\n",
    "customers_pred = model.predict(pca_customers)"
   ]
  },
  {
   "cell_type": "markdown",
   "metadata": {},
   "source": [
    "### Step 3.3: Compare Customer Data to Demographics Data\n",
    "\n",
    "At this point, you have clustered data based on demographics of the general population of Germany, and seen how the customer data for a mail-order sales company maps onto those demographic clusters. In this final substep, you will compare the two cluster distributions to see where the strongest customer base for the company is.\n",
    "\n",
    "Consider the proportion of persons in each cluster for the general population, and the proportions for the customers. If we think the company's customer base to be universal, then the cluster assignment proportions should be fairly similar between the two. If there are only particular segments of the population that are interested in the company's products, then we should see a mismatch from one to the other. If there is a higher proportion of persons in a cluster for the customer data compared to the general population (e.g. 5% of persons are assigned to a cluster for the general population, but 15% of the customer data is closest to that cluster's centroid) then that suggests the people in that cluster to be a target audience for the company. On the other hand, the proportion of the data in a cluster being larger in the general population than the customer data (e.g. only 2% of customers closest to a population centroid that captures 6% of the data) suggests that group of persons to be outside of the target demographics.\n",
    "\n",
    "Take a look at the following points in this step:\n",
    "\n",
    "- Compute the proportion of data points in each cluster for the general population and the customer data. Visualizations will be useful here: both for the individual dataset proportions, but also to visualize the ratios in cluster representation between groups. Seaborn's [`countplot()`](https://seaborn.pydata.org/generated/seaborn.countplot.html) or [`barplot()`](https://seaborn.pydata.org/generated/seaborn.barplot.html) function could be handy.\n",
    "  - Recall the analysis you performed in step 1.1.3 of the project, where you separated out certain data points from the dataset if they had more than a specified threshold of missing values. If you found that this group was qualitatively different from the main bulk of the data, you should treat this as an additional data cluster in this analysis. Make sure that you account for the number of data points in this subset, for both the general population and customer datasets, when making your computations!\n",
    "- Which cluster or clusters are overrepresented in the customer dataset compared to the general population? Select at least one such cluster and infer what kind of people might be represented by that cluster. Use the principal component interpretations from step 2.3 or look at additional components to help you make this inference. Alternatively, you can use the `.inverse_transform()` method of the PCA and StandardScaler objects to transform centroids back to the original data space and interpret the retrieved values directly.\n",
    "- Perform a similar investigation for the underrepresented clusters. Which cluster or clusters are underrepresented in the customer dataset compared to the general population, and what kinds of people are typified by these clusters?"
   ]
  },
  {
   "cell_type": "code",
   "execution_count": 138,
   "metadata": {},
   "outputs": [
    {
     "data": {
      "text/plain": [
       "Text(0.5, 1.0, 'Customer Clusters')"
      ]
     },
     "execution_count": 138,
     "metadata": {},
     "output_type": "execute_result"
    },
    {
     "data": {
      "image/png": "[encoded data removed]",
      "text/plain": [
       "<Figure size 864x432 with 2 Axes>"
      ]
     },
     "metadata": {
      "needs_background": "light"
     },
     "output_type": "display_data"
    }
   ],
   "source": [
    "# Compare the proportion of data in each cluster for the customer data to the\n",
    "# proportion of data in each cluster for the general population.\n",
    "\n",
    "figure, axs = plt.subplots(nrows=1, ncols=2, figsize = (12,6))\n",
    "figure.subplots_adjust(hspace = 1, wspace=.3)\n",
    "sns.countplot(pred, ax=axs[1])\n",
    "axs[1].set_title('General Populatin Clusters')\n",
    "sns.countplot(customers_pred, ax=axs[0])\n",
    "axs[0].set_title('Customer Clusters')"
   ]
  },
  {
   "cell_type": "code",
   "execution_count": 141,
   "metadata": {},
   "outputs": [
    {
     "data": {
      "text/plain": [
       "ALTERSKATEGORIE_GROB        3.281589\n",
       "ANREDE_KZ                   1.033101\n",
       "FINANZ_MINIMALIST           4.751705\n",
       "FINANZ_SPARER               1.693963\n",
       "FINANZ_VORSORGER            4.181898\n",
       "FINANZ_ANLEGER              1.587854\n",
       "FINANZ_UNAUFFAELLIGER       2.156946\n",
       "FINANZ_HAUSBAUER            1.917824\n",
       "GREEN_AVANTGARDE            0.975901\n",
       "HEALTH_TYP                  2.081987\n",
       "LP_LEBENSPHASE_FEIN        23.992040\n",
       "LP_LEBENSPHASE_GROB         7.011176\n",
       "RETOURTYP_BK_S              3.975159\n",
       "SEMIO_SOZ                   4.873193\n",
       "SEMIO_FAM                   4.637995\n",
       "SEMIO_REL                   3.826192\n",
       "SEMIO_MAT                   3.915050\n",
       "SEMIO_VERT                  6.349766\n",
       "SEMIO_LUST                  5.297805\n",
       "SEMIO_ERL                   4.003655\n",
       "SEMIO_KULT                  5.063923\n",
       "SEMIO_RAT                   2.797270\n",
       "SEMIO_KRIT                  3.176044\n",
       "SEMIO_DOM                   3.481433\n",
       "SEMIO_KAEM                  2.591478\n",
       "SEMIO_PFLICHT               3.081309\n",
       "SEMIO_TRADV                 3.196767\n",
       "ANZ_PERSONEN                2.230023\n",
       "ANZ_TITEL                   0.013141\n",
       "HH_EINKOMMEN_SCORE          2.446851\n",
       "W_KEIT_KIND_HH              4.084412\n",
       "WOHNDAUER_2008              8.473096\n",
       "ANZ_HAUSHALTE_AKTIV         1.855209\n",
       "ANZ_HH_TITEL                0.019377\n",
       "KONSUMNAEHE                 3.353410\n",
       "MIN_GEBAEUDEJAHR         1993.082395\n",
       "WOHNLAGE                    3.145015\n",
       "KBA05_ANTG1                 2.640530\n",
       "KBA05_ANTG2                 1.097134\n",
       "KBA05_ANTG3                 0.083482\n",
       "KBA05_ANTG4                 0.013194\n",
       "KBA05_GBZ                   4.041813\n",
       "BALLRAUM                    4.001254\n",
       "EWDICHTE                    3.999327\n",
       "INNENSTADT                  4.622567\n",
       "GEBAEUDETYP_RASTER          3.952793\n",
       "KKK                         2.199527\n",
       "MOBI_REGIO                  4.058591\n",
       "ONLINE_AFFINITAET           3.200031\n",
       "REGIOTYP                    3.569308\n",
       "KBA13_ANZAHL_PKW          700.028038\n",
       "PLZ8_ANTG1                  2.766183\n",
       "PLZ8_ANTG2                  2.583449\n",
       "PLZ8_ANTG3                  1.218243\n",
       "PLZ8_ANTG4                  0.365514\n",
       "PLZ8_BAUMAX                 1.205195\n",
       "PLZ8_HHZ                    3.672425\n",
       "PLZ8_GBZ                    3.877712\n",
       "ARBEIT                      3.018997\n",
       "ORTSGR_KLS9                 5.393872\n",
       "RELAT_AB                    2.951068\n",
       "MOVEMENT                    1.975901\n",
       "DECADE                      3.630960\n",
       "NATION                      2.500920\n",
       "WEALTH                      2.123606\n",
       "LIFE_STAGE                  3.574649\n",
       "dtype: float64"
      ]
     },
     "execution_count": 141,
     "metadata": {},
     "output_type": "execute_result"
    }
   ],
   "source": [
    "# What kinds of people are part of a cluster that is overrepresented in the\n",
    "# customer data compared to the general population?\n",
    "# I'll inspect cluster 0 in the customer data\n",
    "\n",
    "cluster_0 = scaler.inverse_transform(pca_50.inverse_transform(model.cluster_centers_[0]))\n",
    "cluster_0 = pd.Series(data = cluster_0, index = customers_clean.columns)\n",
    "cluster_0"
   ]
  },
  {
   "cell_type": "code",
   "execution_count": 143,
   "metadata": {},
   "outputs": [
    {
     "data": {
      "text/plain": [
       "ALTERSKATEGORIE_GROB        1.926373\n",
       "ANREDE_KZ                   0.985469\n",
       "FINANZ_MINIMALIST           1.926281\n",
       "FINANZ_SPARER               4.334405\n",
       "FINANZ_VORSORGER            2.099058\n",
       "FINANZ_ANLEGER              3.497699\n",
       "FINANZ_UNAUFFAELLIGER       3.746197\n",
       "FINANZ_HAUSBAUER            3.582901\n",
       "GREEN_AVANTGARDE            0.121501\n",
       "HEALTH_TYP                  2.428288\n",
       "LP_LEBENSPHASE_FEIN         8.262996\n",
       "LP_LEBENSPHASE_GROB         2.936247\n",
       "RETOURTYP_BK_S              2.869568\n",
       "SEMIO_SOZ                   6.535066\n",
       "SEMIO_FAM                   6.619719\n",
       "SEMIO_REL                   6.118865\n",
       "SEMIO_MAT                   5.153006\n",
       "SEMIO_VERT                  5.961517\n",
       "SEMIO_LUST                  2.993856\n",
       "SEMIO_ERL                   2.381350\n",
       "SEMIO_KULT                  6.648446\n",
       "SEMIO_RAT                   3.888468\n",
       "SEMIO_KRIT                  2.897456\n",
       "SEMIO_DOM                   2.745297\n",
       "SEMIO_KAEM                  2.573112\n",
       "SEMIO_PFLICHT               5.833618\n",
       "SEMIO_TRADV                 4.658278\n",
       "ANZ_PERSONEN                1.402133\n",
       "ANZ_TITEL                   0.002058\n",
       "HH_EINKOMMEN_SCORE          5.496310\n",
       "W_KEIT_KIND_HH              4.672231\n",
       "WOHNDAUER_2008              7.158436\n",
       "ANZ_HAUSHALTE_AKTIV        16.204263\n",
       "ANZ_HH_TITEL                0.064346\n",
       "KONSUMNAEHE                 2.033339\n",
       "MIN_GEBAEUDEJAHR         1992.534956\n",
       "WOHNLAGE                    3.549798\n",
       "KBA05_ANTG1                 0.341626\n",
       "KBA05_ANTG2                 1.221099\n",
       "KBA05_ANTG3                 1.108654\n",
       "KBA05_ANTG4                 0.648580\n",
       "KBA05_GBZ                   2.132915\n",
       "BALLRAUM                    3.135061\n",
       "EWDICHTE                    5.211039\n",
       "INNENSTADT                  3.242026\n",
       "GEBAEUDETYP_RASTER          3.315948\n",
       "KKK                         2.863516\n",
       "MOBI_REGIO                  1.658051\n",
       "ONLINE_AFFINITAET           2.938295\n",
       "REGIOTYP                    4.942458\n",
       "KBA13_ANZAHL_PKW          517.980802\n",
       "PLZ8_ANTG1                  1.416749\n",
       "PLZ8_ANTG2                  3.310909\n",
       "PLZ8_ANTG3                  2.437727\n",
       "PLZ8_ANTG4                  1.317165\n",
       "PLZ8_BAUMAX                 3.204235\n",
       "PLZ8_HHZ                    3.752302\n",
       "PLZ8_GBZ                    2.633102\n",
       "ARBEIT                      3.711424\n",
       "ORTSGR_KLS9                 7.062351\n",
       "RELAT_AB                    3.722942\n",
       "MOVEMENT                    1.121501\n",
       "DECADE                      5.687218\n",
       "NATION                      2.652172\n",
       "WEALTH                      4.427814\n",
       "LIFE_STAGE                  1.952428\n",
       "dtype: float64"
      ]
     },
     "execution_count": 143,
     "metadata": {},
     "output_type": "execute_result"
    }
   ],
   "source": [
    "# What kinds of people are part of a cluster that is underrepresented in the\n",
    "# customer data compared to the general population?\n",
    "# I'll inspect cluster nine in the customer data\n",
    "\n",
    "cluster_5 = scaler.inverse_transform(pca_50.inverse_transform(model.cluster_centers_[5]))\n",
    "cluster_5 = pd.Series(data = cluster_5, index = customers_clean.columns)\n",
    "cluster_5"
   ]
  },
  {
   "cell_type": "markdown",
   "metadata": {},
   "source": [
    "### Discussion 3.3: Compare Customer Data to Demographics Data\n",
    "\n",
    "We can notice from the above grapgh that \n",
    "Cluster 0 (popular with the mail-order company) Referring to the cluster inspection, we can notice that the features are mostly related to the financial situation and the personality of the costumer.\n",
    "\n",
    "While Cluster 5 ( unpopular with the mail-order campany) Referring to the cluster inspection, we can notice that the features are mostly related to the presonality of the costumer and the geographical info about the housing"
   ]
  },
  {
   "cell_type": "markdown",
   "metadata": {},
   "source": [
    "> Congratulations on making it this far in the project! Before you finish, make sure to check through the entire notebook from top to bottom to make sure that your analysis follows a logical flow and all of your findings are documented in **Discussion** cells. Once you've checked over all of your work, you should export the notebook as an HTML document to submit for evaluation. You can do this from the menu, navigating to **File -> Download as -> HTML (.html)**. You will submit both that document and this notebook for your project submission."
   ]
  },
  {
   "cell_type": "code",
   "execution_count": null,
   "metadata": {},
   "outputs": [],
   "source": []
  }
 ],
 "metadata": {
  "kernelspec": {
   "display_name": "Python 3",
   "language": "python",
   "name": "python3"
  },
  "language_info": {
   "codemirror_mode": {
    "name": "ipython",
    "version": 3
   },
   "file_extension": ".py",
   "mimetype": "text/x-python",
   "name": "python",
   "nbconvert_exporter": "python",
   "pygments_lexer": "ipython3",
   "version": "3.8.5"
  }
 },
 "nbformat": 4,
 "nbformat_minor": 2
}
